{
  "nbformat": 4,
  "nbformat_minor": 0,
  "metadata": {
    "colab": {
      "provenance": []
    },
    "kernelspec": {
      "name": "python3",
      "display_name": "Python 3"
    },
    "language_info": {
      "name": "python"
    }
  },
  "cells": [
    {
      "cell_type": "code",
      "execution_count": 1,
      "metadata": {
        "colab": {
          "base_uri": "https://localhost:8080/",
          "height": 219
        },
        "id": "0lMMOlbI7wwz",
        "outputId": "465468af-65c4-470d-ecf5-d7bc2e38da90"
      },
      "outputs": [
        {
          "output_type": "execute_result",
          "data": {
            "text/plain": [
              "<pyspark.sql.session.SparkSession at 0x7a8bc43ff790>"
            ],
            "text/html": [
              "\n",
              "            <div>\n",
              "                <p><b>SparkSession - in-memory</b></p>\n",
              "                \n",
              "        <div>\n",
              "            <p><b>SparkContext</b></p>\n",
              "\n",
              "            <p><a href=\"http://2d6b83e4211b:4040\">Spark UI</a></p>\n",
              "\n",
              "            <dl>\n",
              "              <dt>Version</dt>\n",
              "                <dd><code>v3.5.1</code></dd>\n",
              "              <dt>Master</dt>\n",
              "                <dd><code>local[*]</code></dd>\n",
              "              <dt>AppName</dt>\n",
              "                <dd><code>PySparkBasics</code></dd>\n",
              "            </dl>\n",
              "        </div>\n",
              "        \n",
              "            </div>\n",
              "        "
            ]
          },
          "metadata": {},
          "execution_count": 1
        }
      ],
      "source": [
        "# Part 1\n",
        "# Starting a sparksession\n",
        "from pyspark.sql import SparkSession\n",
        "spark = SparkSession.builder \\\n",
        "      .appName(\"PySparkBasics\") \\\n",
        "      .getOrCreate()\n",
        "\n",
        "# confirm running\n",
        "spark"
      ]
    },
    {
      "cell_type": "code",
      "source": [
        "# Part 2\n",
        "csv_data = \"\"\"\n",
        "OrderID,Product,Category,Quantity,UnitPrice,Region\n",
        "1001,Mobile,Electronics,2,15000,North\n",
        "1002,Laptop,Electronics,1,55000,South\n",
        "1003,T-Shirt,Apparel,3,500,East\n",
        "1004,Jeans,Apparel,2,1200,North\n",
        "1005,TV,Electronics,1,40000,West\n",
        "1006,Shoes,Footwear,4,2000,South\n",
        "1007,Watch,Accessories,2,3000,East\n",
        "1008,Headphones,Electronics,3,2500,North\n",
        "\"\"\"\n",
        "\n",
        "with open('sales.csv','w') as file:\n",
        "  file.write(csv_data)"
      ],
      "metadata": {
        "id": "tuTjUpzd8HmC"
      },
      "execution_count": 2,
      "outputs": []
    },
    {
      "cell_type": "code",
      "source": [
        "df = spark.read.csv('sales.csv', header=True, inferSchema=True)\n",
        "df.show(5)"
      ],
      "metadata": {
        "colab": {
          "base_uri": "https://localhost:8080/"
        },
        "id": "SUjz1-4t8peY",
        "outputId": "9a311ff6-89f4-43df-a0d1-c07028e3f0f4"
      },
      "execution_count": 3,
      "outputs": [
        {
          "output_type": "stream",
          "name": "stdout",
          "text": [
            "+-------+-------+-----------+--------+---------+------+\n",
            "|OrderID|Product|   Category|Quantity|UnitPrice|Region|\n",
            "+-------+-------+-----------+--------+---------+------+\n",
            "|   1001| Mobile|Electronics|       2|    15000| North|\n",
            "|   1002| Laptop|Electronics|       1|    55000| South|\n",
            "|   1003|T-Shirt|    Apparel|       3|      500|  East|\n",
            "|   1004|  Jeans|    Apparel|       2|     1200| North|\n",
            "|   1005|     TV|Electronics|       1|    40000|  West|\n",
            "+-------+-------+-----------+--------+---------+------+\n",
            "only showing top 5 rows\n",
            "\n"
          ]
        }
      ]
    },
    {
      "cell_type": "code",
      "source": [
        "# Part 3\n",
        "# 3.1\n",
        "from pyspark.sql.functions import col\n",
        "df1 = df.withColumn(\"TotalPrice\",col('Quantity')*col('UnitPrice'))\n",
        "df1.show()"
      ],
      "metadata": {
        "colab": {
          "base_uri": "https://localhost:8080/"
        },
        "id": "fyhaPO6V8-dn",
        "outputId": "830f8b94-65fe-4469-9f0b-eeb6091b7605"
      },
      "execution_count": 10,
      "outputs": [
        {
          "output_type": "stream",
          "name": "stdout",
          "text": [
            "+-------+----------+-----------+--------+---------+------+----------+\n",
            "|OrderID|   Product|   Category|Quantity|UnitPrice|Region|TotalPrice|\n",
            "+-------+----------+-----------+--------+---------+------+----------+\n",
            "|   1001|    Mobile|Electronics|       2|    15000| North|     30000|\n",
            "|   1002|    Laptop|Electronics|       1|    55000| South|     55000|\n",
            "|   1003|   T-Shirt|    Apparel|       3|      500|  East|      1500|\n",
            "|   1004|     Jeans|    Apparel|       2|     1200| North|      2400|\n",
            "|   1005|        TV|Electronics|       1|    40000|  West|     40000|\n",
            "|   1006|     Shoes|   Footwear|       4|     2000| South|      8000|\n",
            "|   1007|     Watch|Accessories|       2|     3000|  East|      6000|\n",
            "|   1008|Headphones|Electronics|       3|     2500| North|      7500|\n",
            "+-------+----------+-----------+--------+---------+------+----------+\n",
            "\n"
          ]
        }
      ]
    },
    {
      "cell_type": "code",
      "source": [
        "# 3.2\n",
        "from pyspark.sql.functions import sum,avg\n",
        "\n",
        "Sale_per_region = df1.groupBy(\"Region\").sum(\"TotalPrice\")\n",
        "Sale_per_region.show()"
      ],
      "metadata": {
        "colab": {
          "base_uri": "https://localhost:8080/"
        },
        "id": "reKbF_eA9cwY",
        "outputId": "e187cc24-14a4-4ec3-db59-ee1d602143ba"
      },
      "execution_count": 14,
      "outputs": [
        {
          "output_type": "stream",
          "name": "stdout",
          "text": [
            "+------+---------------+\n",
            "|Region|sum(TotalPrice)|\n",
            "+------+---------------+\n",
            "| South|          63000|\n",
            "|  East|           7500|\n",
            "|  West|          40000|\n",
            "| North|          39900|\n",
            "+------+---------------+\n",
            "\n"
          ]
        }
      ]
    },
    {
      "cell_type": "code",
      "source": [
        "# 3.3 Category-wise revenue sorted in descending order.\n",
        "# We cannot use only groupby we have to pair it with aggregate functions\n",
        "revenue_per_category = df1.groupby(\"Category\").agg(sum(\"TotalPrice\").alias(\"revenue\")).sort(\"revenue\",ascending=False)\n",
        "revenue_per_category.show()"
      ],
      "metadata": {
        "colab": {
          "base_uri": "https://localhost:8080/"
        },
        "id": "hiSt02VvAVaH",
        "outputId": "b19253ab-35f9-4a4b-81b6-6b66c46cd934"
      },
      "execution_count": 19,
      "outputs": [
        {
          "output_type": "stream",
          "name": "stdout",
          "text": [
            "+-----------+-------+\n",
            "|   Category|revenue|\n",
            "+-----------+-------+\n",
            "|Electronics| 132500|\n",
            "|   Footwear|   8000|\n",
            "|Accessories|   6000|\n",
            "|    Apparel|   3900|\n",
            "+-----------+-------+\n",
            "\n"
          ]
        }
      ]
    },
    {
      "cell_type": "code",
      "source": [
        "# 3.4. Region with the highest number of orders\n",
        "from pyspark.sql.functions import count, desc\n",
        "\n",
        "df1.groupBy(\"Region\").agg(count(\"OrderID\").alias(\"OrderCount\")).orderBy(desc(\"OrderCount\")).show(1)\n"
      ],
      "metadata": {
        "colab": {
          "base_uri": "https://localhost:8080/"
        },
        "id": "jo4j9vlCFDB4",
        "outputId": "482e729b-2bea-424c-aba3-e913a3e885ed"
      },
      "execution_count": 31,
      "outputs": [
        {
          "output_type": "stream",
          "name": "stdout",
          "text": [
            "+------+----------+\n",
            "|Region|OrderCount|\n",
            "+------+----------+\n",
            "| North|         3|\n",
            "+------+----------+\n",
            "only showing top 1 row\n",
            "\n"
          ]
        }
      ]
    },
    {
      "cell_type": "code",
      "source": [
        "# 3.5. Average Unit Price per Category\n",
        "from pyspark.sql.functions import avg\n",
        "df1.groupBy(\"Category\").agg(avg(\"UnitPrice\").alias(\"AverageUnitPrice\")).show()"
      ],
      "metadata": {
        "colab": {
          "base_uri": "https://localhost:8080/"
        },
        "id": "P7_xCnccPe2T",
        "outputId": "dd685cab-5912-44c4-9adb-81710248cd1c"
      },
      "execution_count": 33,
      "outputs": [
        {
          "output_type": "stream",
          "name": "stdout",
          "text": [
            "+-----------+----------------+\n",
            "|   Category|AverageUnitPrice|\n",
            "+-----------+----------------+\n",
            "|    Apparel|           850.0|\n",
            "|Electronics|         28125.0|\n",
            "|   Footwear|          2000.0|\n",
            "|Accessories|          3000.0|\n",
            "+-----------+----------------+\n",
            "\n"
          ]
        }
      ]
    },
    {
      "cell_type": "code",
      "source": [
        "# 3.6\n",
        "df1.filter(df1[\"TotalPrice\"]>30000).show()"
      ],
      "metadata": {
        "colab": {
          "base_uri": "https://localhost:8080/"
        },
        "id": "2u8rb69sMYjU",
        "outputId": "be2c0716-1f54-44e6-b99e-9074a5496245"
      },
      "execution_count": 32,
      "outputs": [
        {
          "output_type": "stream",
          "name": "stdout",
          "text": [
            "+-------+-------+-----------+--------+---------+------+----------+\n",
            "|OrderID|Product|   Category|Quantity|UnitPrice|Region|TotalPrice|\n",
            "+-------+-------+-----------+--------+---------+------+----------+\n",
            "|   1002| Laptop|Electronics|       1|    55000| South|     55000|\n",
            "|   1005|     TV|Electronics|       1|    40000|  West|     40000|\n",
            "+-------+-------+-----------+--------+---------+------+----------+\n",
            "\n"
          ]
        }
      ]
    },
    {
      "cell_type": "code",
      "source": [
        "from pyspark.sql.functions import when\n",
        "\n",
        "high_value = df1.withColumn(\"HighValueOrder\", when(df1[\"TotalPrice\"] > 20000, \"Yes\").otherwise(\"No\"))\n",
        "high_value.show()\n"
      ],
      "metadata": {
        "colab": {
          "base_uri": "https://localhost:8080/"
        },
        "id": "e7YIAmA7QE2w",
        "outputId": "b5c362d9-ccc5-4d1f-c5ca-82304cea85e8"
      },
      "execution_count": 34,
      "outputs": [
        {
          "output_type": "stream",
          "name": "stdout",
          "text": [
            "+-------+----------+-----------+--------+---------+------+----------+--------------+\n",
            "|OrderID|   Product|   Category|Quantity|UnitPrice|Region|TotalPrice|HighValueOrder|\n",
            "+-------+----------+-----------+--------+---------+------+----------+--------------+\n",
            "|   1001|    Mobile|Electronics|       2|    15000| North|     30000|           Yes|\n",
            "|   1002|    Laptop|Electronics|       1|    55000| South|     55000|           Yes|\n",
            "|   1003|   T-Shirt|    Apparel|       3|      500|  East|      1500|            No|\n",
            "|   1004|     Jeans|    Apparel|       2|     1200| North|      2400|            No|\n",
            "|   1005|        TV|Electronics|       1|    40000|  West|     40000|           Yes|\n",
            "|   1006|     Shoes|   Footwear|       4|     2000| South|      8000|            No|\n",
            "|   1007|     Watch|Accessories|       2|     3000|  East|      6000|            No|\n",
            "|   1008|Headphones|Electronics|       3|     2500| North|      7500|            No|\n",
            "+-------+----------+-----------+--------+---------+------+----------+--------------+\n",
            "\n"
          ]
        }
      ]
    },
    {
      "cell_type": "code",
      "source": [
        "# Filter and display all high-value orders in the North region.\n",
        "high_north = high_value.filter((high_value[\"HighValueOrder\"]==\"Yes\") & (high_value[\"Region\"]==\"North\"))\n",
        "high_north.show()"
      ],
      "metadata": {
        "colab": {
          "base_uri": "https://localhost:8080/"
        },
        "id": "Wogz-8F_RtoP",
        "outputId": "e18fcb4a-4f61-48dc-f2ec-b5d2b7d6a039"
      },
      "execution_count": 36,
      "outputs": [
        {
          "output_type": "stream",
          "name": "stdout",
          "text": [
            "+-------+-------+-----------+--------+---------+------+----------+--------------+\n",
            "|OrderID|Product|   Category|Quantity|UnitPrice|Region|TotalPrice|HighValueOrder|\n",
            "+-------+-------+-----------+--------+---------+------+----------+--------------+\n",
            "|   1001| Mobile|Electronics|       2|    15000| North|     30000|           Yes|\n",
            "+-------+-------+-----------+--------+---------+------+----------+--------------+\n",
            "\n"
          ]
        }
      ]
    },
    {
      "cell_type": "code",
      "source": [
        "# Count how many high-value orders exist per region.\n",
        "high_order = high_value.filter(high_value[\"HighValueOrder\"]==\"Yes\").groupBy(\"Region\").agg(count(\"*\").alias(\"HighCount\"))\n",
        "high_order.show()"
      ],
      "metadata": {
        "colab": {
          "base_uri": "https://localhost:8080/"
        },
        "id": "YtQcHBGSTXyo",
        "outputId": "87039e3b-4e26-4936-f87a-f8e31d594092"
      },
      "execution_count": 37,
      "outputs": [
        {
          "output_type": "stream",
          "name": "stdout",
          "text": [
            "+------+---------+\n",
            "|Region|HighCount|\n",
            "+------+---------+\n",
            "| South|        1|\n",
            "|  West|        1|\n",
            "| North|        1|\n",
            "+------+---------+\n",
            "\n"
          ]
        }
      ]
    },
    {
      "cell_type": "code",
      "source": [
        "high_value.write.csv(\"High_Value_Order.csv\", header=True)\n"
      ],
      "metadata": {
        "id": "Ob7XtSFBUL-u"
      },
      "execution_count": 39,
      "outputs": []
    },
    {
      "cell_type": "code",
      "source": [],
      "metadata": {
        "id": "DHWG5BIMUreu"
      },
      "execution_count": null,
      "outputs": []
    }
  ]
}