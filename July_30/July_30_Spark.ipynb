{
  "nbformat": 4,
  "nbformat_minor": 0,
  "metadata": {
    "colab": {
      "provenance": []
    },
    "kernelspec": {
      "name": "python3",
      "display_name": "Python 3"
    },
    "language_info": {
      "name": "python"
    }
  },
  "cells": [
    {
      "cell_type": "code",
      "execution_count": 1,
      "metadata": {
        "colab": {
          "base_uri": "https://localhost:8080/",
          "height": 219
        },
        "id": "7wM5K_njxYvw",
        "outputId": "b4cd8af5-d179-4bd4-c3bf-462e6f3e53df"
      },
      "outputs": [
        {
          "output_type": "execute_result",
          "data": {
            "text/plain": [
              "<pyspark.sql.session.SparkSession at 0x7cddc020cb10>"
            ],
            "text/html": [
              "\n",
              "            <div>\n",
              "                <p><b>SparkSession - in-memory</b></p>\n",
              "                \n",
              "        <div>\n",
              "            <p><b>SparkContext</b></p>\n",
              "\n",
              "            <p><a href=\"http://7939c311ef08:4040\">Spark UI</a></p>\n",
              "\n",
              "            <dl>\n",
              "              <dt>Version</dt>\n",
              "                <dd><code>v3.5.1</code></dd>\n",
              "              <dt>Master</dt>\n",
              "                <dd><code>local[*]</code></dd>\n",
              "              <dt>AppName</dt>\n",
              "                <dd><code>PySparkBasics</code></dd>\n",
              "            </dl>\n",
              "        </div>\n",
              "        \n",
              "            </div>\n",
              "        "
            ]
          },
          "metadata": {},
          "execution_count": 1
        }
      ],
      "source": [
        "from pyspark.sql import SparkSession\n",
        "# Creating SparkSession (entrypoint like main())\n",
        "spark = SparkSession.builder \\\n",
        "      .appName(\"PySparkBasics\") \\\n",
        "      .getOrCreate()\n",
        "\n",
        "# confirm running\n",
        "spark"
      ]
    },
    {
      "cell_type": "code",
      "source": [
        "# Sample spark dataframe\n",
        "sample_data = [('Amit',25),('Sneha',26),('Kabir',28),('Naina',28)]\n",
        "columns = ['Name', 'Age']\n",
        "\n",
        "# Creating spark dataframe\n",
        "df = spark.createDataFrame(sample_data,columns)\n",
        "# To print dataframe\n",
        "df.show()"
      ],
      "metadata": {
        "colab": {
          "base_uri": "https://localhost:8080/"
        },
        "id": "oFF8I_pNx8ZJ",
        "outputId": "eb7ade9d-0f6c-4421-c727-3028d79c5be8"
      },
      "execution_count": 2,
      "outputs": [
        {
          "output_type": "stream",
          "name": "stdout",
          "text": [
            "+-----+---+\n",
            "| Name|Age|\n",
            "+-----+---+\n",
            "| Amit| 25|\n",
            "|Sneha| 26|\n",
            "|Kabir| 28|\n",
            "|Naina| 28|\n",
            "+-----+---+\n",
            "\n"
          ]
        }
      ]
    },
    {
      "cell_type": "code",
      "source": [
        "\n",
        "# Sample data with missing values\n",
        "csv_data = \"\"\"Name,Age,Department,Salary\n",
        "Aarav,28,Sales,50000\n",
        "Sneha,,Engineering,80000\n",
        "Kabir,25,HR,\n",
        "Anaya,29,,60000\n",
        "Rohan,35,Engineering,85000\n",
        "\"\"\"\n",
        "\n",
        "with open('emp_missing.csv','w') as file:\n",
        "  file.write(csv_data)\n"
      ],
      "metadata": {
        "id": "NIpKF_ddydG_"
      },
      "execution_count": 3,
      "outputs": []
    },
    {
      "cell_type": "code",
      "source": [
        "# Reading csv in spark\n",
        "df1 = spark.read.csv('emp_missing.csv', header=True, inferSchema=True)\n",
        "df1.show() # Shows table\n",
        "df1.printSchema() # Shows column name and datatype"
      ],
      "metadata": {
        "colab": {
          "base_uri": "https://localhost:8080/"
        },
        "id": "lioPOMo53Cnl",
        "outputId": "061226a9-dc97-4ac1-d7d5-da427a923f36"
      },
      "execution_count": 6,
      "outputs": [
        {
          "output_type": "stream",
          "name": "stdout",
          "text": [
            "+-----+----+-----------+------+\n",
            "| Name| Age| Department|Salary|\n",
            "+-----+----+-----------+------+\n",
            "|Aarav|  28|      Sales| 50000|\n",
            "|Sneha|NULL|Engineering| 80000|\n",
            "|Kabir|  25|         HR|  NULL|\n",
            "|Anaya|  29|       NULL| 60000|\n",
            "|Rohan|  35|Engineering| 85000|\n",
            "+-----+----+-----------+------+\n",
            "\n",
            "root\n",
            " |-- Name: string (nullable = true)\n",
            " |-- Age: integer (nullable = true)\n",
            " |-- Department: string (nullable = true)\n",
            " |-- Salary: integer (nullable = true)\n",
            "\n"
          ]
        }
      ]
    },
    {
      "cell_type": "code",
      "source": [],
      "metadata": {
        "id": "nHcNki0o3Xqp"
      },
      "execution_count": null,
      "outputs": []
    }
  ]
}