{
  "nbformat": 4,
  "nbformat_minor": 0,
  "metadata": {
    "colab": {
      "provenance": []
    },
    "kernelspec": {
      "name": "python3",
      "display_name": "Python 3"
    },
    "language_info": {
      "name": "python"
    }
  },
  "cells": [
    {
      "cell_type": "code",
      "execution_count": 1,
      "metadata": {
        "id": "1J2EbMBjuIPG"
      },
      "outputs": [],
      "source": [
        "import pandas as pd\n",
        "\n",
        "# Create employees CSV\n",
        "emp_data = \"\"\"EmpID,Name,Department\n",
        "101,Amit,Sales\n",
        "102,Anita,Engineering\n",
        "103,Kabir,HR\n",
        "104,Sneha,Marketing\n",
        "105,Ravi,Engineering\n",
        "\"\"\"\n",
        "with open('employees.csv', 'w') as f:\n",
        "    f.write(emp_data)\n",
        "\n",
        "# Create departments CSV\n",
        "dept_data = \"\"\"Department,Location\n",
        "Sales,Mumbai\n",
        "Engineering,Bangalore\n",
        "HR,Delhi\n",
        "Marketing,Chennai\n",
        "\"\"\"\n",
        "with open('departments.csv', 'w') as f:\n",
        "    f.write(dept_data)\n",
        "\n",
        "# Read both\n",
        "df_emp = pd.read_csv('employees.csv')\n",
        "df_dept = pd.read_csv('departments.csv')\n"
      ]
    },
    {
      "cell_type": "code",
      "source": [
        "print(df_emp)"
      ],
      "metadata": {
        "colab": {
          "base_uri": "https://localhost:8080/"
        },
        "id": "2m-TdAohuZL1",
        "outputId": "f91c2bc4-0d77-43bf-da3f-c8ef23137cc1"
      },
      "execution_count": 2,
      "outputs": [
        {
          "output_type": "stream",
          "name": "stdout",
          "text": [
            "   EmpID   Name   Department\n",
            "0    101   Amit        Sales\n",
            "1    102  Anita  Engineering\n",
            "2    103  Kabir           HR\n",
            "3    104  Sneha    Marketing\n",
            "4    105   Ravi  Engineering\n"
          ]
        }
      ]
    },
    {
      "cell_type": "code",
      "source": [
        "print(df_dept)"
      ],
      "metadata": {
        "colab": {
          "base_uri": "https://localhost:8080/"
        },
        "id": "iOppE3tRucbT",
        "outputId": "3adff791-4f4b-4a17-bb19-3fbbab5e2b88"
      },
      "execution_count": 3,
      "outputs": [
        {
          "output_type": "stream",
          "name": "stdout",
          "text": [
            "    Department   Location\n",
            "0        Sales     Mumbai\n",
            "1  Engineering  Bangalore\n",
            "2           HR      Delhi\n",
            "3    Marketing    Chennai\n"
          ]
        }
      ]
    },
    {
      "cell_type": "code",
      "source": [
        "# We can merge dataframes that works like joining 2 tables in sql\n",
        "merged_df = pd.merge(df_emp, df_dept, on='Department', how='inner')\n",
        "print(merged_df)"
      ],
      "metadata": {
        "colab": {
          "base_uri": "https://localhost:8080/"
        },
        "id": "k1KHwlIlue3d",
        "outputId": "2e5a6298-0d75-410e-d23d-70c891212795"
      },
      "execution_count": 4,
      "outputs": [
        {
          "output_type": "stream",
          "name": "stdout",
          "text": [
            "   EmpID   Name   Department   Location\n",
            "0    101   Amit        Sales     Mumbai\n",
            "1    102  Anita  Engineering  Bangalore\n",
            "2    103  Kabir           HR      Delhi\n",
            "3    104  Sneha    Marketing    Chennai\n",
            "4    105   Ravi  Engineering  Bangalore\n"
          ]
        }
      ]
    },
    {
      "cell_type": "code",
      "source": [],
      "metadata": {
        "id": "L148IAlhu8NI"
      },
      "execution_count": null,
      "outputs": []
    }
  ]
}