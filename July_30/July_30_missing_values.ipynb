{
  "nbformat": 4,
  "nbformat_minor": 0,
  "metadata": {
    "colab": {
      "provenance": []
    },
    "kernelspec": {
      "name": "python3",
      "display_name": "Python 3"
    },
    "language_info": {
      "name": "python"
    }
  },
  "cells": [
    {
      "cell_type": "code",
      "execution_count": 14,
      "metadata": {
        "colab": {
          "base_uri": "https://localhost:8080/"
        },
        "id": "1bhFEjl94BzY",
        "outputId": "3d37db91-2c3d-49b5-aa92-49fbbd98bdd0"
      },
      "outputs": [
        {
          "output_type": "stream",
          "name": "stdout",
          "text": [
            "    Name   Age   Department   Salary\n",
            "0  Aarav  28.0        Sales  50000.0\n",
            "1  Sneha   NaN  Engineering  80000.0\n",
            "2  Kabir  25.0           HR      NaN\n",
            "3  Anaya  29.0          NaN  60000.0\n",
            "4  Rohan  35.0  Engineering  85000.0\n"
          ]
        }
      ],
      "source": [
        "import pandas as pd\n",
        "\n",
        "# Sample data with missing values\n",
        "csv_data = \"\"\"Name,Age,Department,Salary\n",
        "Aarav,28,Sales,50000\n",
        "Sneha,,Engineering,80000\n",
        "Kabir,25,HR,\n",
        "Anaya,29,,60000\n",
        "Rohan,35,Engineering,85000\n",
        "\"\"\"\n",
        "\n",
        "with open('emp_missing.csv','w') as file:\n",
        "  file.write(csv_data)\n",
        "\n",
        "df = pd.read_csv('emp_missing.csv')\n",
        "print(df)"
      ]
    },
    {
      "cell_type": "code",
      "source": [
        "#check for missing data returns True/False\n",
        "print(df.isnull())"
      ],
      "metadata": {
        "colab": {
          "base_uri": "https://localhost:8080/"
        },
        "id": "JkwyFLVj4dPv",
        "outputId": "ee7ce5bb-b6f6-4993-b1e8-7aa2afa990a4"
      },
      "execution_count": 15,
      "outputs": [
        {
          "output_type": "stream",
          "name": "stdout",
          "text": [
            "    Name    Age  Department  Salary\n",
            "0  False  False       False   False\n",
            "1  False   True       False   False\n",
            "2  False  False       False    True\n",
            "3  False  False        True   False\n",
            "4  False  False       False   False\n"
          ]
        }
      ]
    },
    {
      "cell_type": "code",
      "source": [
        "# Columnwise Count missing values\n",
        "print(df.isnull().sum())"
      ],
      "metadata": {
        "colab": {
          "base_uri": "https://localhost:8080/"
        },
        "id": "BN8ClOpP4yAR",
        "outputId": "b5cc7018-aa01-4585-fa5c-c14e76aa93b7"
      },
      "execution_count": 16,
      "outputs": [
        {
          "output_type": "stream",
          "name": "stdout",
          "text": [
            "Name          0\n",
            "Age           1\n",
            "Department    1\n",
            "Salary        1\n",
            "dtype: int64\n"
          ]
        }
      ]
    },
    {
      "cell_type": "code",
      "source": [
        "# Not suggested as it deletes entire records with null values\n",
        "df_cleaned= df.dropna()\n",
        "print(df_cleaned)"
      ],
      "metadata": {
        "colab": {
          "base_uri": "https://localhost:8080/"
        },
        "id": "_RvlsX4p5Ci3",
        "outputId": "7423b06d-dcbd-4038-933d-3b88eccff0ab"
      },
      "execution_count": 17,
      "outputs": [
        {
          "output_type": "stream",
          "name": "stdout",
          "text": [
            "    Name   Age   Department   Salary\n",
            "0  Aarav  28.0        Sales  50000.0\n",
            "4  Rohan  35.0  Engineering  85000.0\n"
          ]
        }
      ]
    },
    {
      "cell_type": "code",
      "source": [
        "# Filling values with fillna()\n",
        "df['Age'] = df['Age'].fillna(df['Age'].mean())\n",
        "print(df)"
      ],
      "metadata": {
        "colab": {
          "base_uri": "https://localhost:8080/"
        },
        "id": "gBHJDXEE5Qfh",
        "outputId": "defe6687-d3b1-4147-d951-46423e02d39f"
      },
      "execution_count": 18,
      "outputs": [
        {
          "output_type": "stream",
          "name": "stdout",
          "text": [
            "    Name    Age   Department   Salary\n",
            "0  Aarav  28.00        Sales  50000.0\n",
            "1  Sneha  29.25  Engineering  80000.0\n",
            "2  Kabir  25.00           HR      NaN\n",
            "3  Anaya  29.00          NaN  60000.0\n",
            "4  Rohan  35.00  Engineering  85000.0\n"
          ]
        }
      ]
    },
    {
      "cell_type": "code",
      "source": [
        "df['Department']= df['Department'].fillna('Unknown')\n",
        "print(df)"
      ],
      "metadata": {
        "colab": {
          "base_uri": "https://localhost:8080/"
        },
        "id": "ngReJt3Q5hEG",
        "outputId": "b9076590-b354-454e-ee7e-72deac3e30d6"
      },
      "execution_count": 19,
      "outputs": [
        {
          "output_type": "stream",
          "name": "stdout",
          "text": [
            "    Name    Age   Department   Salary\n",
            "0  Aarav  28.00        Sales  50000.0\n",
            "1  Sneha  29.25  Engineering  80000.0\n",
            "2  Kabir  25.00           HR      NaN\n",
            "3  Anaya  29.00      Unknown  60000.0\n",
            "4  Rohan  35.00  Engineering  85000.0\n"
          ]
        }
      ]
    },
    {
      "cell_type": "code",
      "source": [
        "df['Salary'] = df['Salary'].fillna(0)\n",
        "print(df)"
      ],
      "metadata": {
        "colab": {
          "base_uri": "https://localhost:8080/"
        },
        "id": "MchjOdUd5pnt",
        "outputId": "da2c7336-d3b4-407a-c4df-acf0e31c278d"
      },
      "execution_count": 20,
      "outputs": [
        {
          "output_type": "stream",
          "name": "stdout",
          "text": [
            "    Name    Age   Department   Salary\n",
            "0  Aarav  28.00        Sales  50000.0\n",
            "1  Sneha  29.25  Engineering  80000.0\n",
            "2  Kabir  25.00           HR      0.0\n",
            "3  Anaya  29.00      Unknown  60000.0\n",
            "4  Rohan  35.00  Engineering  85000.0\n"
          ]
        }
      ]
    },
    {
      "cell_type": "code",
      "source": [],
      "metadata": {
        "id": "gV9n5PLr7eJk"
      },
      "execution_count": null,
      "outputs": []
    }
  ]
}