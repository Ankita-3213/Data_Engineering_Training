{
  "nbformat": 4,
  "nbformat_minor": 0,
  "metadata": {
    "colab": {
      "provenance": []
    },
    "kernelspec": {
      "name": "python3",
      "display_name": "Python 3"
    },
    "language_info": {
      "name": "python"
    }
  },
  "cells": [
    {
      "cell_type": "code",
      "source": [
        "!pip install -q pyspark==3.5.1 delta-spark==3.1.0\n",
        "\n",
        "# Delta supported spark session\n",
        "from delta import configure_spark_with_delta_pip\n",
        "from pyspark.sql import SparkSession\n",
        "\n",
        "builder = SparkSession.builder \\\n",
        "    .appName(\"DeltaLakeColab\") \\\n",
        "    .config(\"spark.sql.extensions\", \"io.delta.sql.DeltaSparkSessionExtension\") \\\n",
        "    .config(\"spark.sql.catalog.spark_catalog\", \"org.apache.spark.sql.delta.catalog.DeltaCatalog\")\n",
        "\n",
        "spark = configure_spark_with_delta_pip(builder).getOrCreate()\n",
        "spark"
      ],
      "metadata": {
        "colab": {
          "base_uri": "https://localhost:8080/",
          "height": 219
        },
        "id": "5frKiQfbwiyT",
        "outputId": "dcef539f-0e0e-4128-e507-4d0bc6e7360d"
      },
      "execution_count": 4,
      "outputs": [
        {
          "output_type": "execute_result",
          "data": {
            "text/plain": [
              "<pyspark.sql.session.SparkSession at 0x7dcf3e7e9fd0>"
            ],
            "text/html": [
              "\n",
              "            <div>\n",
              "                <p><b>SparkSession - in-memory</b></p>\n",
              "                \n",
              "        <div>\n",
              "            <p><b>SparkContext</b></p>\n",
              "\n",
              "            <p><a href=\"http://8ec29c4ef30a:4040\">Spark UI</a></p>\n",
              "\n",
              "            <dl>\n",
              "              <dt>Version</dt>\n",
              "                <dd><code>v3.5.1</code></dd>\n",
              "              <dt>Master</dt>\n",
              "                <dd><code>local[*]</code></dd>\n",
              "              <dt>AppName</dt>\n",
              "                <dd><code>DeltaLakeColab</code></dd>\n",
              "            </dl>\n",
              "        </div>\n",
              "        \n",
              "            </div>\n",
              "        "
            ]
          },
          "metadata": {},
          "execution_count": 4
        }
      ]
    },
    {
      "cell_type": "code",
      "execution_count": 5,
      "metadata": {
        "id": "nZT2fPMJqknd"
      },
      "outputs": [],
      "source": [
        "csv_data = \"\"\"student_id,name,subject,score,grade\n",
        "1,Ankit,Math,85,A\n",
        "2,Divya,Science,92,A\n",
        "3,Rahul,English,78,B\n",
        "4,Sneha,Math,65,C\n",
        "5,Aryan,Science,55,D\n",
        "6,Isha,English,88,A\n",
        "7,Tanvi,Math,91,A\n",
        "8,Kunal,Science,72,B\n",
        "9,Megha,English,60,C\n",
        "10,Rohan,Math,40,F\n",
        "\"\"\"\n",
        "with open(\"student_scores.csv\", \"w\") as f:\n",
        "  f.write(csv_data)"
      ]
    },
    {
      "cell_type": "markdown",
      "source": [
        "### Step 1: Read into Dataframe"
      ],
      "metadata": {
        "id": "h_aEfI8pwPtJ"
      }
    },
    {
      "cell_type": "code",
      "source": [
        "df = spark.read.option(\"header\", True).option(\"inferSchema\",True).csv(\"student_scores.csv\")\n",
        "df.show()"
      ],
      "metadata": {
        "colab": {
          "base_uri": "https://localhost:8080/"
        },
        "id": "YF51807gwLLY",
        "outputId": "5b634289-fca4-4bf6-828b-19602ec9f6fa"
      },
      "execution_count": 6,
      "outputs": [
        {
          "output_type": "stream",
          "name": "stdout",
          "text": [
            "+----------+-----+-------+-----+-----+\n",
            "|student_id| name|subject|score|grade|\n",
            "+----------+-----+-------+-----+-----+\n",
            "|         1|Ankit|   Math|   85|    A|\n",
            "|         2|Divya|Science|   92|    A|\n",
            "|         3|Rahul|English|   78|    B|\n",
            "|         4|Sneha|   Math|   65|    C|\n",
            "|         5|Aryan|Science|   55|    D|\n",
            "|         6| Isha|English|   88|    A|\n",
            "|         7|Tanvi|   Math|   91|    A|\n",
            "|         8|Kunal|Science|   72|    B|\n",
            "|         9|Megha|English|   60|    C|\n",
            "|        10|Rohan|   Math|   40|    F|\n",
            "+----------+-----+-------+-----+-----+\n",
            "\n"
          ]
        }
      ]
    },
    {
      "cell_type": "markdown",
      "source": [
        "### Step 2: Write to Delta"
      ],
      "metadata": {
        "id": "7-PGqCeIwxlW"
      }
    },
    {
      "cell_type": "code",
      "source": [
        "df.write.format(\"delta\").mode(\"overwrite\").save(\"student_scores\")"
      ],
      "metadata": {
        "id": "u7CRLdvywb20"
      },
      "execution_count": 7,
      "outputs": []
    },
    {
      "cell_type": "code",
      "source": [
        "# Can't register delta table so creating temp view\n",
        "df = spark.read.format(\"delta\").load(\"student_scores\")\n",
        "\n",
        "df.createOrReplaceTempView(\"student_scores\")\n",
        "\n",
        "spark.sql(\"select * from student_scores\").show()"
      ],
      "metadata": {
        "colab": {
          "base_uri": "https://localhost:8080/"
        },
        "id": "vCyLZtg0xzDm",
        "outputId": "faaf21e8-9c28-4e78-e3f6-ae83b17a2657"
      },
      "execution_count": 11,
      "outputs": [
        {
          "output_type": "stream",
          "name": "stdout",
          "text": [
            "+----------+-----+-------+-----+-----+\n",
            "|student_id| name|subject|score|grade|\n",
            "+----------+-----+-------+-----+-----+\n",
            "|         1|Ankit|   Math|   85|    A|\n",
            "|         2|Divya|Science|   92|    A|\n",
            "|         3|Rahul|English|   78|    B|\n",
            "|         4|Sneha|   Math|   65|    C|\n",
            "|         5|Aryan|Science|   55|    D|\n",
            "|         6| Isha|English|   88|    A|\n",
            "|         7|Tanvi|   Math|   91|    A|\n",
            "|         8|Kunal|Science|   72|    B|\n",
            "|         9|Megha|English|   60|    C|\n",
            "|        10|Rohan|   Math|   40|    F|\n",
            "+----------+-----+-------+-----+-----+\n",
            "\n"
          ]
        }
      ]
    },
    {
      "cell_type": "markdown",
      "source": [
        "## Basic Tasks"
      ],
      "metadata": {
        "id": "UwJ8CmCjy30H"
      }
    },
    {
      "cell_type": "code",
      "source": [
        "# Show all students and their scores\n",
        "\n",
        "spark.sql(\"select name, score from student_scores\").show()"
      ],
      "metadata": {
        "colab": {
          "base_uri": "https://localhost:8080/"
        },
        "id": "Jzz3am6oyihO",
        "outputId": "fb8394cd-3eda-481b-d0c1-1572b152877b"
      },
      "execution_count": 12,
      "outputs": [
        {
          "output_type": "stream",
          "name": "stdout",
          "text": [
            "+-----+-----+\n",
            "| name|score|\n",
            "+-----+-----+\n",
            "|Ankit|   85|\n",
            "|Divya|   92|\n",
            "|Rahul|   78|\n",
            "|Sneha|   65|\n",
            "|Aryan|   55|\n",
            "| Isha|   88|\n",
            "|Tanvi|   91|\n",
            "|Kunal|   72|\n",
            "|Megha|   60|\n",
            "|Rohan|   40|\n",
            "+-----+-----+\n",
            "\n"
          ]
        }
      ]
    },
    {
      "cell_type": "code",
      "source": [
        "# Count number of students in each subject\n",
        "\n",
        "spark.sql(\"select subject, count(*)from student_scores group by subject\").show()"
      ],
      "metadata": {
        "colab": {
          "base_uri": "https://localhost:8080/"
        },
        "id": "2k5ZphD3zSa3",
        "outputId": "a0698e8f-97b8-4aac-ee13-2ce6f69e22d3"
      },
      "execution_count": 13,
      "outputs": [
        {
          "output_type": "stream",
          "name": "stdout",
          "text": [
            "+-------+--------+\n",
            "|subject|count(1)|\n",
            "+-------+--------+\n",
            "|Science|       3|\n",
            "|   Math|       4|\n",
            "|English|       3|\n",
            "+-------+--------+\n",
            "\n"
          ]
        }
      ]
    },
    {
      "cell_type": "code",
      "source": [
        "# Find average score per subject\n",
        "from pyspark.sql.functions import avg\n",
        "spark.sql(\"select subject, avg(score) from student_scores group by subject\").show()"
      ],
      "metadata": {
        "colab": {
          "base_uri": "https://localhost:8080/"
        },
        "id": "J4neTQQ1z6YG",
        "outputId": "3e24e6b1-c866-4476-883d-140b93cdbfd2"
      },
      "execution_count": 14,
      "outputs": [
        {
          "output_type": "stream",
          "name": "stdout",
          "text": [
            "+-------+-----------------+\n",
            "|subject|       avg(score)|\n",
            "+-------+-----------------+\n",
            "|Science|             73.0|\n",
            "|   Math|            70.25|\n",
            "|English|75.33333333333333|\n",
            "+-------+-----------------+\n",
            "\n"
          ]
        }
      ]
    },
    {
      "cell_type": "code",
      "source": [
        "# List all students who scored more than 80\n",
        "\n",
        "spark.sql(\"select * from student_scores where score > 80\").show()"
      ],
      "metadata": {
        "colab": {
          "base_uri": "https://localhost:8080/"
        },
        "id": "loNa19Ik03UD",
        "outputId": "8d52573f-9dbe-4388-8acd-dba6e462907a"
      },
      "execution_count": 15,
      "outputs": [
        {
          "output_type": "stream",
          "name": "stdout",
          "text": [
            "+----------+-----+-------+-----+-----+\n",
            "|student_id| name|subject|score|grade|\n",
            "+----------+-----+-------+-----+-----+\n",
            "|         1|Ankit|   Math|   85|    A|\n",
            "|         2|Divya|Science|   92|    A|\n",
            "|         6| Isha|English|   88|    A|\n",
            "|         7|Tanvi|   Math|   91|    A|\n",
            "+----------+-----+-------+-----+-----+\n",
            "\n"
          ]
        }
      ]
    },
    {
      "cell_type": "markdown",
      "source": [
        "### Advanced Tasks"
      ],
      "metadata": {
        "id": "hgmTwuA-1R9b"
      }
    },
    {
      "cell_type": "code",
      "source": [
        "# Show student(s) with the highest score in each subject\n",
        "spark.sql(\"select subject, name, score from (select *, RANK() over (partition by subject order by score desc)as rank from student_scores)where rank = 1 \").show()"
      ],
      "metadata": {
        "colab": {
          "base_uri": "https://localhost:8080/"
        },
        "id": "PhjCUvOF1PuN",
        "outputId": "f4baaf75-b9d3-4665-9df6-85dc368bfa0d"
      },
      "execution_count": 17,
      "outputs": [
        {
          "output_type": "stream",
          "name": "stdout",
          "text": [
            "+-------+-----+-----+\n",
            "|subject| name|score|\n",
            "+-------+-----+-----+\n",
            "|English| Isha|   88|\n",
            "|   Math|Tanvi|   91|\n",
            "|Science|Divya|   92|\n",
            "+-------+-----+-----+\n",
            "\n"
          ]
        }
      ]
    },
    {
      "cell_type": "code",
      "source": [
        "# Display grades with count of students in each\n",
        "spark.sql(\"select grade, count(*)as students from student_scores group by grade\").show()"
      ],
      "metadata": {
        "colab": {
          "base_uri": "https://localhost:8080/"
        },
        "id": "__lbScub28u0",
        "outputId": "7337cedf-6444-4bb1-b441-42ede80fbc8f"
      },
      "execution_count": 18,
      "outputs": [
        {
          "output_type": "stream",
          "name": "stdout",
          "text": [
            "+-----+--------+\n",
            "|grade|students|\n",
            "+-----+--------+\n",
            "|    F|       1|\n",
            "|    B|       2|\n",
            "|    D|       1|\n",
            "|    C|       2|\n",
            "|    A|       4|\n",
            "+-----+--------+\n",
            "\n"
          ]
        }
      ]
    },
    {
      "cell_type": "code",
      "source": [
        "# Show names of students who failed (grade F)\n",
        "spark.sql(\"select * from student_scores where grade = 'F'\").show()"
      ],
      "metadata": {
        "colab": {
          "base_uri": "https://localhost:8080/"
        },
        "id": "aGwfZH1w3yLu",
        "outputId": "65caf71f-b09c-48de-8785-12d0eb042509"
      },
      "execution_count": 19,
      "outputs": [
        {
          "output_type": "stream",
          "name": "stdout",
          "text": [
            "+----------+-----+-------+-----+-----+\n",
            "|student_id| name|subject|score|grade|\n",
            "+----------+-----+-------+-----+-----+\n",
            "|        10|Rohan|   Math|   40|    F|\n",
            "+----------+-----+-------+-----+-----+\n",
            "\n"
          ]
        }
      ]
    },
    {
      "cell_type": "code",
      "source": [
        "# List students with score between 60 and 90\n",
        "spark.sql(\"select * from student_scores where score between 60 and 90\").show()"
      ],
      "metadata": {
        "colab": {
          "base_uri": "https://localhost:8080/"
        },
        "id": "aVQ33wUY4FNE",
        "outputId": "4c9b7ae6-90f1-4b76-bfc2-25536f4b7946"
      },
      "execution_count": 20,
      "outputs": [
        {
          "output_type": "stream",
          "name": "stdout",
          "text": [
            "+----------+-----+-------+-----+-----+\n",
            "|student_id| name|subject|score|grade|\n",
            "+----------+-----+-------+-----+-----+\n",
            "|         1|Ankit|   Math|   85|    A|\n",
            "|         3|Rahul|English|   78|    B|\n",
            "|         4|Sneha|   Math|   65|    C|\n",
            "|         6| Isha|English|   88|    A|\n",
            "|         8|Kunal|Science|   72|    B|\n",
            "|         9|Megha|English|   60|    C|\n",
            "+----------+-----+-------+-----+-----+\n",
            "\n"
          ]
        }
      ]
    },
    {
      "cell_type": "code",
      "source": [
        "# Rank students within each subject based on scores\n",
        "spark.sql(\"select *,RANK() over (partition by subject order by score desc)as rank from student_scores\").show()"
      ],
      "metadata": {
        "colab": {
          "base_uri": "https://localhost:8080/"
        },
        "id": "mhOpmRV76b3y",
        "outputId": "54cc6b36-17fc-4c2c-ab11-7537a5f40a59"
      },
      "execution_count": 22,
      "outputs": [
        {
          "output_type": "stream",
          "name": "stdout",
          "text": [
            "+----------+-----+-------+-----+-----+----+\n",
            "|student_id| name|subject|score|grade|rank|\n",
            "+----------+-----+-------+-----+-----+----+\n",
            "|         6| Isha|English|   88|    A|   1|\n",
            "|         3|Rahul|English|   78|    B|   2|\n",
            "|         9|Megha|English|   60|    C|   3|\n",
            "|         7|Tanvi|   Math|   91|    A|   1|\n",
            "|         1|Ankit|   Math|   85|    A|   2|\n",
            "|         4|Sneha|   Math|   65|    C|   3|\n",
            "|        10|Rohan|   Math|   40|    F|   4|\n",
            "|         2|Divya|Science|   92|    A|   1|\n",
            "|         8|Kunal|Science|   72|    B|   2|\n",
            "|         5|Aryan|Science|   55|    D|   3|\n",
            "+----------+-----+-------+-----+-----+----+\n",
            "\n"
          ]
        }
      ]
    },
    {
      "cell_type": "markdown",
      "source": [
        "### Update & Delete Tasks"
      ],
      "metadata": {
        "id": "6M38vU_w7HPg"
      }
    },
    {
      "cell_type": "code",
      "source": [
        "# Increase score of all English subject students by 5\n",
        "spark.sql(\"update student_scores set score = score + 5 where subject = 'English'\")\n",
        "spark.sql(\"select * from student_scores\").show()"
      ],
      "metadata": {
        "colab": {
          "base_uri": "https://localhost:8080/"
        },
        "id": "hVld4WyP6-55",
        "outputId": "29df1cec-c3ef-41d9-e540-d63d39adf39b"
      },
      "execution_count": 24,
      "outputs": [
        {
          "output_type": "stream",
          "name": "stdout",
          "text": [
            "+----------+-----+-------+-----+-----+\n",
            "|student_id| name|subject|score|grade|\n",
            "+----------+-----+-------+-----+-----+\n",
            "|         1|Ankit|   Math|   85|    A|\n",
            "|         2|Divya|Science|   92|    A|\n",
            "|         3|Rahul|English|   88|    B|\n",
            "|         4|Sneha|   Math|   65|    C|\n",
            "|         5|Aryan|Science|   55|    D|\n",
            "|         6| Isha|English|   98|    A|\n",
            "|         7|Tanvi|   Math|   91|    A|\n",
            "|         8|Kunal|Science|   72|    B|\n",
            "|         9|Megha|English|   70|    C|\n",
            "|        10|Rohan|   Math|   40|    F|\n",
            "+----------+-----+-------+-----+-----+\n",
            "\n"
          ]
        }
      ]
    },
    {
      "cell_type": "code",
      "source": [
        "# Delete all records where score is less than 50\n",
        "spark.sql(\"delete from student_scores where score < 50\")\n",
        "spark.sql(\"select * from student_scores\").show()"
      ],
      "metadata": {
        "colab": {
          "base_uri": "https://localhost:8080/"
        },
        "id": "bzDIce3t7mmK",
        "outputId": "75a14acd-c53c-4266-b19c-c6339a838258"
      },
      "execution_count": 25,
      "outputs": [
        {
          "output_type": "stream",
          "name": "stdout",
          "text": [
            "+----------+-----+-------+-----+-----+\n",
            "|student_id| name|subject|score|grade|\n",
            "+----------+-----+-------+-----+-----+\n",
            "|         1|Ankit|   Math|   85|    A|\n",
            "|         2|Divya|Science|   92|    A|\n",
            "|         3|Rahul|English|   88|    B|\n",
            "|         4|Sneha|   Math|   65|    C|\n",
            "|         5|Aryan|Science|   55|    D|\n",
            "|         6| Isha|English|   98|    A|\n",
            "|         7|Tanvi|   Math|   91|    A|\n",
            "|         8|Kunal|Science|   72|    B|\n",
            "|         9|Megha|English|   70|    C|\n",
            "+----------+-----+-------+-----+-----+\n",
            "\n"
          ]
        }
      ]
    },
    {
      "cell_type": "code",
      "source": [
        "# Add a new column pass_status (PASS if score >= 50 else FAIL)\n",
        "\n",
        "spark.sql(\"select *, case when score >= 50 then 'PASS' else 'FAIL' end as pass_status from student_scores; \").show()"
      ],
      "metadata": {
        "colab": {
          "base_uri": "https://localhost:8080/"
        },
        "id": "hJUIpYos8Jxa",
        "outputId": "e5ed09c4-ed80-4594-a383-58fee7f40322"
      },
      "execution_count": 28,
      "outputs": [
        {
          "output_type": "stream",
          "name": "stdout",
          "text": [
            "+----------+-----+-------+-----+-----+-----------+\n",
            "|student_id| name|subject|score|grade|pass_status|\n",
            "+----------+-----+-------+-----+-----+-----------+\n",
            "|         1|Ankit|   Math|   85|    A|       PASS|\n",
            "|         2|Divya|Science|   92|    A|       PASS|\n",
            "|         3|Rahul|English|   88|    B|       PASS|\n",
            "|         4|Sneha|   Math|   65|    C|       PASS|\n",
            "|         5|Aryan|Science|   55|    D|       PASS|\n",
            "|         6| Isha|English|   98|    A|       PASS|\n",
            "|         7|Tanvi|   Math|   91|    A|       PASS|\n",
            "|         8|Kunal|Science|   72|    B|       PASS|\n",
            "|         9|Megha|English|   70|    C|       PASS|\n",
            "+----------+-----+-------+-----+-----+-----------+\n",
            "\n"
          ]
        }
      ]
    },
    {
      "cell_type": "markdown",
      "source": [
        "### Data Transformation & View"
      ],
      "metadata": {
        "id": "ACwAP_GF9GMp"
      }
    },
    {
      "cell_type": "code",
      "source": [
        "# Create a temporary view and run SQL to get average scores\n",
        "spark.sql(\"select subject, round(avg(score),3) as AvgScore from student_scores group by subject\").show()"
      ],
      "metadata": {
        "colab": {
          "base_uri": "https://localhost:8080/"
        },
        "id": "n4rgmGVT8uq9",
        "outputId": "b4942036-7887-4e58-ee3e-eed1b0b3f465"
      },
      "execution_count": 30,
      "outputs": [
        {
          "output_type": "stream",
          "name": "stdout",
          "text": [
            "+-------+--------+\n",
            "|subject|AvgScore|\n",
            "+-------+--------+\n",
            "|Science|    73.0|\n",
            "|   Math|  80.333|\n",
            "|English|  85.333|\n",
            "+-------+--------+\n",
            "\n"
          ]
        }
      ]
    },
    {
      "cell_type": "code",
      "source": [
        "# Convert updated DataFrame into a new Delta table called student_scores_v2\n",
        "\n",
        "spark.sql(\"\"\"CREATE OR REPLACE TABLE student_scores_v2 USING DELTA AS SELECT * FROM student_scores\"\"\")\n",
        ""
      ],
      "metadata": {
        "colab": {
          "base_uri": "https://localhost:8080/"
        },
        "id": "shVEAyI99qqA",
        "outputId": "880d74e3-ccbf-46e2-a896-99f6957b3722"
      },
      "execution_count": 31,
      "outputs": [
        {
          "output_type": "execute_result",
          "data": {
            "text/plain": [
              "DataFrame[]"
            ]
          },
          "metadata": {},
          "execution_count": 31
        }
      ]
    },
    {
      "cell_type": "code",
      "source": [
        "# Write the final data to Parquet and JSON formats\n",
        "# loading delta table\n",
        "df_final = spark.table(\"student_scores\")\n",
        "\n",
        "df_final.write.mode(\"overwrite\").parquet(\"student_parquet\")\n",
        "df_final.write.mode(\"overwrite\").json(\"students_json\")"
      ],
      "metadata": {
        "id": "zJMmdQtQ92qi"
      },
      "execution_count": 32,
      "outputs": []
    },
    {
      "cell_type": "code",
      "source": [],
      "metadata": {
        "id": "Z8sZzAY8_T9I"
      },
      "execution_count": null,
      "outputs": []
    }
  ]
}