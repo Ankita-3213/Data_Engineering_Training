{
  "nbformat": 4,
  "nbformat_minor": 0,
  "metadata": {
    "colab": {
      "provenance": []
    },
    "kernelspec": {
      "name": "python3",
      "display_name": "Python 3"
    },
    "language_info": {
      "name": "python"
    }
  },
  "cells": [
    {
      "cell_type": "code",
      "execution_count": 1,
      "metadata": {
        "id": "XYHj1M1qkEGA"
      },
      "outputs": [],
      "source": [
        "# Starting a spark session\n",
        "from pyspark.sql import SparkSession\n",
        "\n",
        "spark = SparkSession.builder.appName(\"Customers\").getOrCreate()"
      ]
    },
    {
      "cell_type": "code",
      "source": [
        "# Loading orders and delivery data into spark\n",
        "\n",
        "order = spark.read.csv(\"orders.csv\", header=True, inferSchema=True)\n",
        "delivery = spark.read.csv(\"delivery_status.csv\", header=True, inferSchema=True)\n",
        "\n",
        "order.show()\n",
        "delivery.show()"
      ],
      "metadata": {
        "colab": {
          "base_uri": "https://localhost:8080/"
        },
        "id": "jzlKKlHlprYY",
        "outputId": "6ab4a97a-e3fd-4fd0-e5d6-c0efbe0645fa"
      },
      "execution_count": 4,
      "outputs": [
        {
          "output_type": "stream",
          "name": "stdout",
          "text": [
            "+--------+-----------+----------+------------+\n",
            "|order_id|customer_id|order_date|total_amount|\n",
            "+--------+-----------+----------+------------+\n",
            "|       1|          1|01-08-2025|        2500|\n",
            "|       2|          2|05-08-2025|        1800|\n",
            "|       3|          3|02-08-2025|        3200|\n",
            "|       4|          4|10-08-2025|        1450|\n",
            "|       5|          5|15-08-2025|        2200|\n",
            "|       6|          6|07-08-2025|        2750|\n",
            "|       7|          7|18-08-2025|         900|\n",
            "|       8|          8|12-08-2025|        1100|\n",
            "+--------+-----------+----------+------------+\n",
            "\n",
            "+-----------+--------+---------------+----------+\n",
            "|delivery_id|order_id|delivery_status|updated_on|\n",
            "+-----------+--------+---------------+----------+\n",
            "|          1|       1|      DELIVERED|05-08-2025|\n",
            "|          2|       2|     IN_TRANSIT|06-08-2025|\n",
            "|          3|       3|      DELIVERED|03-08-2025|\n",
            "|          4|       4|     IN_TRANSIT|11-08-2025|\n",
            "|          5|       5|         PLACED|15-08-2025|\n",
            "|          6|       6|      DELIVERED|08-08-2025|\n",
            "|          7|       7|         PLACED|18-08-2025|\n",
            "|          8|       8|     IN_TRANSIT|13-08-2025|\n",
            "+-----------+--------+---------------+----------+\n",
            "\n"
          ]
        }
      ]
    },
    {
      "cell_type": "code",
      "source": [
        "customer = spark.read.csv(\"Customers.csv\", header=True, inferSchema=True)\n",
        "customer.show()"
      ],
      "metadata": {
        "colab": {
          "base_uri": "https://localhost:8080/"
        },
        "id": "cbsBIybVqcYg",
        "outputId": "7b9b4976-d7c5-4769-82df-aa8a5f527441"
      },
      "execution_count": 5,
      "outputs": [
        {
          "output_type": "stream",
          "name": "stdout",
          "text": [
            "+-----------+-----------------+--------------------+------+\n",
            "|customer_id|             name|               email|region|\n",
            "+-----------+-----------------+--------------------+------+\n",
            "|          1|    Claire Dunphy|  claire@example.com|  East|\n",
            "|          2|      Phil Dunphy|realtorphil@examp...|  East|\n",
            "|          3|    Jay Prichette|     jay@example.com| North|\n",
            "|          4| Gloria Prichette|  gloria@example.com| North|\n",
            "|          5|Mitchel Prichette|lawyermitch@examp...| South|\n",
            "|          6|   Cameron Tucker|     cam@example.com| South|\n",
            "|          7|     Haley Dunphy|   haley@example.com|  West|\n",
            "|          8|   Dylan Marshall|   dylan@example.com|  West|\n",
            "+-----------+-----------------+--------------------+------+\n",
            "\n"
          ]
        }
      ]
    },
    {
      "cell_type": "code",
      "source": [
        "# Joining order and customer\n",
        "or_custom = order.join(customer, on=\"customer_id\", how=\"inner\")\n",
        "or_custom.show()"
      ],
      "metadata": {
        "colab": {
          "base_uri": "https://localhost:8080/"
        },
        "id": "ZPYsQ5ufqjoI",
        "outputId": "fcbf356b-00fb-4e0e-c3e7-291bf79d227e"
      },
      "execution_count": 8,
      "outputs": [
        {
          "output_type": "stream",
          "name": "stdout",
          "text": [
            "+-----------+--------+----------+------------+-----------------+--------------------+------+\n",
            "|customer_id|order_id|order_date|total_amount|             name|               email|region|\n",
            "+-----------+--------+----------+------------+-----------------+--------------------+------+\n",
            "|          1|       1|01-08-2025|        2500|    Claire Dunphy|  claire@example.com|  East|\n",
            "|          2|       2|05-08-2025|        1800|      Phil Dunphy|realtorphil@examp...|  East|\n",
            "|          3|       3|02-08-2025|        3200|    Jay Prichette|     jay@example.com| North|\n",
            "|          4|       4|10-08-2025|        1450| Gloria Prichette|  gloria@example.com| North|\n",
            "|          5|       5|15-08-2025|        2200|Mitchel Prichette|lawyermitch@examp...| South|\n",
            "|          6|       6|07-08-2025|        2750|   Cameron Tucker|     cam@example.com| South|\n",
            "|          7|       7|18-08-2025|         900|     Haley Dunphy|   haley@example.com|  West|\n",
            "|          8|       8|12-08-2025|        1100|   Dylan Marshall|   dylan@example.com|  West|\n",
            "+-----------+--------+----------+------------+-----------------+--------------------+------+\n",
            "\n"
          ]
        }
      ]
    },
    {
      "cell_type": "code",
      "source": [
        "# Joining all for region-wise delay\n",
        "full = or_custom.join(delivery, on=\"order_id\", how=\"inner\")\n",
        "full.show()"
      ],
      "metadata": {
        "colab": {
          "base_uri": "https://localhost:8080/"
        },
        "id": "XS3DQEs3rOu4",
        "outputId": "cccf4eeb-29b3-416b-8d7c-43d38858b06e"
      },
      "execution_count": 9,
      "outputs": [
        {
          "output_type": "stream",
          "name": "stdout",
          "text": [
            "+--------+-----------+----------+------------+-----------------+--------------------+------+-----------+---------------+----------+\n",
            "|order_id|customer_id|order_date|total_amount|             name|               email|region|delivery_id|delivery_status|updated_on|\n",
            "+--------+-----------+----------+------------+-----------------+--------------------+------+-----------+---------------+----------+\n",
            "|       1|          1|01-08-2025|        2500|    Claire Dunphy|  claire@example.com|  East|          1|      DELIVERED|05-08-2025|\n",
            "|       2|          2|05-08-2025|        1800|      Phil Dunphy|realtorphil@examp...|  East|          2|     IN_TRANSIT|06-08-2025|\n",
            "|       3|          3|02-08-2025|        3200|    Jay Prichette|     jay@example.com| North|          3|      DELIVERED|03-08-2025|\n",
            "|       4|          4|10-08-2025|        1450| Gloria Prichette|  gloria@example.com| North|          4|     IN_TRANSIT|11-08-2025|\n",
            "|       5|          5|15-08-2025|        2200|Mitchel Prichette|lawyermitch@examp...| South|          5|         PLACED|15-08-2025|\n",
            "|       6|          6|07-08-2025|        2750|   Cameron Tucker|     cam@example.com| South|          6|      DELIVERED|08-08-2025|\n",
            "|       7|          7|18-08-2025|         900|     Haley Dunphy|   haley@example.com|  West|          7|         PLACED|18-08-2025|\n",
            "|       8|          8|12-08-2025|        1100|   Dylan Marshall|   dylan@example.com|  West|          8|     IN_TRANSIT|13-08-2025|\n",
            "+--------+-----------+----------+------------+-----------------+--------------------+------+-----------+---------------+----------+\n",
            "\n"
          ]
        }
      ]
    },
    {
      "cell_type": "code",
      "source": [
        "from pyspark.sql.functions import col, count\n",
        "delay = full.filter(col(\"delivery_status\") != \"DELIVERED\")\n",
        "delay.show()"
      ],
      "metadata": {
        "colab": {
          "base_uri": "https://localhost:8080/"
        },
        "id": "JSZxwrlKrKoc",
        "outputId": "6650e041-d79a-4e11-c839-60c0577d768f"
      },
      "execution_count": 10,
      "outputs": [
        {
          "output_type": "stream",
          "name": "stdout",
          "text": [
            "+--------+-----------+----------+------------+-----------------+--------------------+------+-----------+---------------+----------+\n",
            "|order_id|customer_id|order_date|total_amount|             name|               email|region|delivery_id|delivery_status|updated_on|\n",
            "+--------+-----------+----------+------------+-----------------+--------------------+------+-----------+---------------+----------+\n",
            "|       2|          2|05-08-2025|        1800|      Phil Dunphy|realtorphil@examp...|  East|          2|     IN_TRANSIT|06-08-2025|\n",
            "|       4|          4|10-08-2025|        1450| Gloria Prichette|  gloria@example.com| North|          4|     IN_TRANSIT|11-08-2025|\n",
            "|       5|          5|15-08-2025|        2200|Mitchel Prichette|lawyermitch@examp...| South|          5|         PLACED|15-08-2025|\n",
            "|       7|          7|18-08-2025|         900|     Haley Dunphy|   haley@example.com|  West|          7|         PLACED|18-08-2025|\n",
            "|       8|          8|12-08-2025|        1100|   Dylan Marshall|   dylan@example.com|  West|          8|     IN_TRANSIT|13-08-2025|\n",
            "+--------+-----------+----------+------------+-----------------+--------------------+------+-----------+---------------+----------+\n",
            "\n"
          ]
        }
      ]
    },
    {
      "cell_type": "code",
      "source": [
        "delay_region = delay.groupBy(\"region\").agg(count(\"*\").alias(\"orders_delay\"))\n",
        "delay_region.show()"
      ],
      "metadata": {
        "colab": {
          "base_uri": "https://localhost:8080/"
        },
        "id": "VO2Fun6BrIKv",
        "outputId": "5bf97152-334f-4476-992d-de67d7e1c18b"
      },
      "execution_count": 11,
      "outputs": [
        {
          "output_type": "stream",
          "name": "stdout",
          "text": [
            "+------+------------+\n",
            "|region|orders_delay|\n",
            "+------+------------+\n",
            "| South|           1|\n",
            "|  East|           1|\n",
            "|  West|           2|\n",
            "| North|           1|\n",
            "+------+------------+\n",
            "\n"
          ]
        }
      ]
    },
    {
      "cell_type": "code",
      "source": [
        "delay_region.write.csv('delay_region.csv',header=True)\n",
        "\n",
        "or_custom.write.csv(\"joined.csv\", header=True)"
      ],
      "metadata": {
        "id": "o_IX0ulavAMi"
      },
      "execution_count": 12,
      "outputs": []
    },
    {
      "cell_type": "code",
      "source": [],
      "metadata": {
        "id": "UU336lIZwjYe"
      },
      "execution_count": null,
      "outputs": []
    }
  ]
}