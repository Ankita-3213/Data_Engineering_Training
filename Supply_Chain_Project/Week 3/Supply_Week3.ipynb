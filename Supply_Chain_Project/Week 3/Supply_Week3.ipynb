{
  "nbformat": 4,
  "nbformat_minor": 0,
  "metadata": {
    "colab": {
      "provenance": []
    },
    "kernelspec": {
      "name": "python3",
      "display_name": "Python 3"
    },
    "language_info": {
      "name": "python"
    }
  },
  "cells": [
    {
      "cell_type": "code",
      "execution_count": 1,
      "metadata": {
        "colab": {
          "base_uri": "https://localhost:8080/",
          "height": 219
        },
        "id": "C7eZGihTx5zr",
        "outputId": "3016a55c-6180-4352-967c-7c8783b268c8"
      },
      "outputs": [
        {
          "output_type": "execute_result",
          "data": {
            "text/plain": [
              "<pyspark.sql.session.SparkSession at 0x7f084e1b93d0>"
            ],
            "text/html": [
              "\n",
              "            <div>\n",
              "                <p><b>SparkSession - in-memory</b></p>\n",
              "                \n",
              "        <div>\n",
              "            <p><b>SparkContext</b></p>\n",
              "\n",
              "            <p><a href=\"http://06f5d03260c7:4040\">Spark UI</a></p>\n",
              "\n",
              "            <dl>\n",
              "              <dt>Version</dt>\n",
              "                <dd><code>v3.5.1</code></dd>\n",
              "              <dt>Master</dt>\n",
              "                <dd><code>local[*]</code></dd>\n",
              "              <dt>AppName</dt>\n",
              "                <dd><code>Supply</code></dd>\n",
              "            </dl>\n",
              "        </div>\n",
              "        \n",
              "            </div>\n",
              "        "
            ]
          },
          "metadata": {},
          "execution_count": 1
        }
      ],
      "source": [
        "# Creating spark session\n",
        "from pyspark.sql import SparkSession\n",
        "spark = SparkSession.builder.appName(\"Supply\").getOrCreate()\n",
        "spark"
      ]
    },
    {
      "cell_type": "code",
      "source": [
        "# Reading data from csv\n",
        "order = spark.read.csv('orders.csv', header=True, inferSchema=True)\n",
        "order.show()"
      ],
      "metadata": {
        "colab": {
          "base_uri": "https://localhost:8080/"
        },
        "id": "30oNVA0h0hlt",
        "outputId": "9e0a2dba-9e22-40de-da62-6ceea518c0cb"
      },
      "execution_count": 2,
      "outputs": [
        {
          "output_type": "stream",
          "name": "stdout",
          "text": [
            "+--------+----------+---------+--------------------+----------+-------------+--------+\n",
            "|order_id|  customer| supplier|                item|order_date|delivery_date|quantity|\n",
            "+--------+----------+---------+--------------------+----------+-------------+--------+\n",
            "|       1|   Sheldon|SupplierA|          Whiteboard|05-01-2025|   10-01-2025|       2|\n",
            "|       2|   Leonard|SupplierB|       Laser Tag Set|07-01-2025|   28-01-2025|       1|\n",
            "|       3|     Penny|SupplierC|Cheesecake Factor...|10-01-2025|   15-01-2025|       5|\n",
            "|       4|    Howard|SupplierA|        Space Helmet|12-01-2025|   20-02-2025|       1|\n",
            "|       5|       Raj|SupplierB| Star Wars Figurines|15-01-2025|   22-01-2025|       3|\n",
            "|       6|       Amy|SupplierC|      Brain Scan Kit|18-01-2025|   25-01-2025|       1|\n",
            "|       7|Bernadette|SupplierA| Miniature Telescope|20-01-2025|   15-02-2025|       2|\n",
            "|       8|    Stuart|SupplierB|         Comic Books|22-01-2025|   01-03-2025|      10|\n",
            "|       9|   Sheldon|SupplierC|           Train Set|25-01-2025|   30-01-2025|       1|\n",
            "|      10|   Leonard|SupplierA|         Wifi Router|28-01-2025|         NULL|       1|\n",
            "+--------+----------+---------+--------------------+----------+-------------+--------+\n",
            "\n"
          ]
        }
      ]
    },
    {
      "cell_type": "code",
      "source": [
        "delivery = spark.read.csv('delivery_status.csv', header=True, inferSchema=True)\n",
        "delivery.show()"
      ],
      "metadata": {
        "colab": {
          "base_uri": "https://localhost:8080/"
        },
        "id": "SKSf0I8F1l20",
        "outputId": "2e5856e5-5f00-4eac-b2dc-c3da2711a307"
      },
      "execution_count": 3,
      "outputs": [
        {
          "output_type": "stream",
          "name": "stdout",
          "text": [
            "+--------+---------------+----------+--------------------+\n",
            "|order_id|delivery_status|delay_days|               issue|\n",
            "+--------+---------------+----------+--------------------+\n",
            "|       1|        On Time|         5|                None|\n",
            "|       2|        Delayed|        21|    Supplier backlog|\n",
            "|       3|        On Time|         5|                None|\n",
            "|       4|        Delayed|        39|Space helmet impo...|\n",
            "|       5|        On Time|         7|                None|\n",
            "|       6|        On Time|         7|                None|\n",
            "|       7|        Delayed|        26|Supplier capacity...|\n",
            "|       8|        Delayed|        38|Comic book restoc...|\n",
            "|       9|        On Time|         5|                None|\n",
            "|      10|        Delayed|      NULL|\" \"\"Missing deliv...|\n",
            "+--------+---------------+----------+--------------------+\n",
            "\n"
          ]
        }
      ]
    },
    {
      "cell_type": "code",
      "source": [
        "supplier = spark.read.csv('suppliers.csv', header=True, inferSchema=True)\n",
        "supplier.show()\n",
        ""
      ],
      "metadata": {
        "colab": {
          "base_uri": "https://localhost:8080/"
        },
        "id": "uTw_Dvrh147D",
        "outputId": "0d011028-c04a-4adf-a1b3-bb25548461ca"
      },
      "execution_count": 5,
      "outputs": [
        {
          "output_type": "stream",
          "name": "stdout",
          "text": [
            "+-----------+-------------+--------------------+\n",
            "|supplier_id|supplier_name|            location|\n",
            "+-----------+-------------+--------------------+\n",
            "|          1|    SupplierA|Pasadena Electronics|\n",
            "|          2|    SupplierB|      Nerdvana Games|\n",
            "|          3|    SupplierC|Cheesecake Factor...|\n",
            "+-----------+-------------+--------------------+\n",
            "\n"
          ]
        }
      ]
    },
    {
      "cell_type": "code",
      "source": [
        "or_del = order.join(delivery, on='order_id', how='inner')\n",
        "or_del.show()"
      ],
      "metadata": {
        "colab": {
          "base_uri": "https://localhost:8080/"
        },
        "id": "T5KWPlOQ2orT",
        "outputId": "79bf5f38-241e-4009-d203-989782f53f67"
      },
      "execution_count": 6,
      "outputs": [
        {
          "output_type": "stream",
          "name": "stdout",
          "text": [
            "+--------+----------+---------+--------------------+----------+-------------+--------+---------------+----------+--------------------+\n",
            "|order_id|  customer| supplier|                item|order_date|delivery_date|quantity|delivery_status|delay_days|               issue|\n",
            "+--------+----------+---------+--------------------+----------+-------------+--------+---------------+----------+--------------------+\n",
            "|       1|   Sheldon|SupplierA|          Whiteboard|05-01-2025|   10-01-2025|       2|        On Time|         5|                None|\n",
            "|       2|   Leonard|SupplierB|       Laser Tag Set|07-01-2025|   28-01-2025|       1|        Delayed|        21|    Supplier backlog|\n",
            "|       3|     Penny|SupplierC|Cheesecake Factor...|10-01-2025|   15-01-2025|       5|        On Time|         5|                None|\n",
            "|       4|    Howard|SupplierA|        Space Helmet|12-01-2025|   20-02-2025|       1|        Delayed|        39|Space helmet impo...|\n",
            "|       5|       Raj|SupplierB| Star Wars Figurines|15-01-2025|   22-01-2025|       3|        On Time|         7|                None|\n",
            "|       6|       Amy|SupplierC|      Brain Scan Kit|18-01-2025|   25-01-2025|       1|        On Time|         7|                None|\n",
            "|       7|Bernadette|SupplierA| Miniature Telescope|20-01-2025|   15-02-2025|       2|        Delayed|        26|Supplier capacity...|\n",
            "|       8|    Stuart|SupplierB|         Comic Books|22-01-2025|   01-03-2025|      10|        Delayed|        38|Comic book restoc...|\n",
            "|       9|   Sheldon|SupplierC|           Train Set|25-01-2025|   30-01-2025|       1|        On Time|         5|                None|\n",
            "|      10|   Leonard|SupplierA|         Wifi Router|28-01-2025|         NULL|       1|        Delayed|      NULL|\" \"\"Missing deliv...|\n",
            "+--------+----------+---------+--------------------+----------+-------------+--------+---------------+----------+--------------------+\n",
            "\n"
          ]
        }
      ]
    },
    {
      "cell_type": "code",
      "source": [
        "# Filtering delayed orders\n",
        "from pyspark.sql.functions import col, count\n",
        "delay = or_del.filter(col('delivery_status') == 'Delayed')\n",
        "delay.show()"
      ],
      "metadata": {
        "colab": {
          "base_uri": "https://localhost:8080/"
        },
        "id": "TT5r1-ID26T8",
        "outputId": "22fcd82e-eb9a-4804-8f16-120b5ef5a4a9"
      },
      "execution_count": 8,
      "outputs": [
        {
          "output_type": "stream",
          "name": "stdout",
          "text": [
            "+--------+----------+---------+-------------------+----------+-------------+--------+---------------+----------+--------------------+\n",
            "|order_id|  customer| supplier|               item|order_date|delivery_date|quantity|delivery_status|delay_days|               issue|\n",
            "+--------+----------+---------+-------------------+----------+-------------+--------+---------------+----------+--------------------+\n",
            "|       2|   Leonard|SupplierB|      Laser Tag Set|07-01-2025|   28-01-2025|       1|        Delayed|        21|    Supplier backlog|\n",
            "|       4|    Howard|SupplierA|       Space Helmet|12-01-2025|   20-02-2025|       1|        Delayed|        39|Space helmet impo...|\n",
            "|       7|Bernadette|SupplierA|Miniature Telescope|20-01-2025|   15-02-2025|       2|        Delayed|        26|Supplier capacity...|\n",
            "|       8|    Stuart|SupplierB|        Comic Books|22-01-2025|   01-03-2025|      10|        Delayed|        38|Comic book restoc...|\n",
            "|      10|   Leonard|SupplierA|        Wifi Router|28-01-2025|         NULL|       1|        Delayed|      NULL|\" \"\"Missing deliv...|\n",
            "+--------+----------+---------+-------------------+----------+-------------+--------+---------------+----------+--------------------+\n",
            "\n"
          ]
        }
      ]
    },
    {
      "cell_type": "code",
      "source": [
        "# Grouping by supplier and counting delay orders\n",
        "grouped = delay.groupBy('supplier').count().withColumnRenamed('count', 'delay_orders')\n",
        "grouped.show()"
      ],
      "metadata": {
        "colab": {
          "base_uri": "https://localhost:8080/"
        },
        "id": "ysdYCSUj3KIg",
        "outputId": "0ab3c02c-df7d-45cf-a33c-e0a923eed97d"
      },
      "execution_count": 9,
      "outputs": [
        {
          "output_type": "stream",
          "name": "stdout",
          "text": [
            "+---------+------------+\n",
            "| supplier|delay_orders|\n",
            "+---------+------------+\n",
            "|SupplierA|           3|\n",
            "|SupplierB|           2|\n",
            "+---------+------------+\n",
            "\n"
          ]
        }
      ]
    },
    {
      "cell_type": "code",
      "source": [
        "grouped.write.csv('grouped_data.csv', header=True)"
      ],
      "metadata": {
        "id": "1y4TeewV32R_"
      },
      "execution_count": 10,
      "outputs": []
    },
    {
      "cell_type": "code",
      "source": [],
      "metadata": {
        "id": "3mZpLtD54Zll"
      },
      "execution_count": null,
      "outputs": []
    }
  ]
}