{
  "nbformat": 4,
  "nbformat_minor": 0,
  "metadata": {
    "colab": {
      "provenance": []
    },
    "kernelspec": {
      "name": "python3",
      "display_name": "Python 3"
    },
    "language_info": {
      "name": "python"
    }
  },
  "cells": [
    {
      "cell_type": "code",
      "execution_count": 1,
      "metadata": {
        "id": "BNqp5bHTZ16J"
      },
      "outputs": [],
      "source": [
        "# Creating a session\n",
        "from pyspark.sql import SparkSession\n",
        "\n",
        "spark = SparkSession.builder.appName(\"RDDExamples\").master(\"local[*]\").getOrCreate()\n",
        "sc = spark.sparkContext"
      ]
    },
    {
      "cell_type": "code",
      "source": [
        "# From a python list\n",
        "# parallelize() is used to create RDD.\n",
        "nums = sc.parallelize([1,2,3,4,5,6])\n"
      ],
      "metadata": {
        "id": "wIQT9KGxbL2L"
      },
      "execution_count": 7,
      "outputs": []
    },
    {
      "cell_type": "code",
      "source": [
        "# Actions -> The execution starts only when actions take place.\n",
        "# .collect() -> shows all the elements\n",
        "nums.collect()\n",
        "\n",
        "# .count() -> counts number of elements\n",
        "nums.count()\n",
        "\n",
        "# .take() -> takes specific number of elements from RDD\n",
        "nums.take(4)"
      ],
      "metadata": {
        "colab": {
          "base_uri": "https://localhost:8080/"
        },
        "id": "RMpLMVBKbjfq",
        "outputId": "fa684643-d23a-4005-b042-a6fd458ee395"
      },
      "execution_count": 10,
      "outputs": [
        {
          "output_type": "execute_result",
          "data": {
            "text/plain": [
              "[1, 2, 3, 4]"
            ]
          },
          "metadata": {},
          "execution_count": 10
        }
      ]
    },
    {
      "cell_type": "code",
      "source": [
        "# Transformations [are lazy they happen when we use collect() or any other action]\n",
        "squares = nums.map(lambda x: x*x)\n",
        "even_squares = squares.filter(lambda x: x%2 == 0)\n",
        "even_squares.collect()\n",
        "#squares.collect() -> Has all squares"
      ],
      "metadata": {
        "colab": {
          "base_uri": "https://localhost:8080/"
        },
        "id": "EBcahGhDbmJz",
        "outputId": "db966f2a-129f-42e4-baf5-add89738e345"
      },
      "execution_count": 12,
      "outputs": [
        {
          "output_type": "execute_result",
          "data": {
            "text/plain": [
              "[4, 16, 36]"
            ]
          },
          "metadata": {},
          "execution_count": 12
        }
      ]
    },
    {
      "cell_type": "code",
      "source": [
        "# Another RDD\n",
        "lines = sc.parallelize([\"spark makes big data simple\",\n",
        "                        \"rdds are distributed datasets\",\n",
        "                        \"spark runs fast\"])\n",
        "# Transformations\n",
        "word_counts = (lines\n",
        "               .flatMap(lambda line: line.split()) # splits words\n",
        "               .map(lambda w: (w.lower(), 1))      # counts word occurances separately [(\"spark\", 1), (\"makes\",1)...]\n",
        "               .reduceByKey(lambda a,b: a+b))      # reduces counts (adding occurances) [(\"spark\",2), (\"makes\",1)...]\n",
        "\n",
        "# Actual execution\n",
        "word_counts.take(10)"
      ],
      "metadata": {
        "colab": {
          "base_uri": "https://localhost:8080/"
        },
        "id": "hFiR91JRioJp",
        "outputId": "a5c1e664-1f3d-401f-8d75-11386ab7fe07"
      },
      "execution_count": 13,
      "outputs": [
        {
          "output_type": "execute_result",
          "data": {
            "text/plain": [
              "[('big', 1),\n",
              " ('are', 1),\n",
              " ('distributed', 1),\n",
              " ('datasets', 1),\n",
              " ('runs', 1),\n",
              " ('fast', 1),\n",
              " ('spark', 2),\n",
              " ('makes', 1),\n",
              " ('data', 1),\n",
              " ('simple', 1)]"
            ]
          },
          "metadata": {},
          "execution_count": 13
        }
      ]
    },
    {
      "cell_type": "code",
      "source": [],
      "metadata": {
        "id": "qg_iW8wpmaFt"
      },
      "execution_count": null,
      "outputs": []
    }
  ]
}