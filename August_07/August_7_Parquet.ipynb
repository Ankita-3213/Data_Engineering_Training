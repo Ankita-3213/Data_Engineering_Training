{
  "nbformat": 4,
  "nbformat_minor": 0,
  "metadata": {
    "colab": {
      "provenance": []
    },
    "kernelspec": {
      "name": "python3",
      "display_name": "Python 3"
    },
    "language_info": {
      "name": "python"
    }
  },
  "cells": [
    {
      "cell_type": "code",
      "execution_count": 1,
      "metadata": {
        "id": "SdMu4qDa8TKR"
      },
      "outputs": [],
      "source": [
        "# Creating a spark session\n",
        "from pyspark.sql import SparkSession\n",
        "\n",
        "spark = SparkSession.builder.appName(\"PySparkBasics\").getOrCreate()"
      ]
    },
    {
      "cell_type": "code",
      "source": [
        "spark"
      ],
      "metadata": {
        "colab": {
          "base_uri": "https://localhost:8080/",
          "height": 219
        },
        "id": "rpnhDsU88uu3",
        "outputId": "64aafb96-1cdf-4f15-d194-fbb03a7cdd12"
      },
      "execution_count": 2,
      "outputs": [
        {
          "output_type": "execute_result",
          "data": {
            "text/plain": [
              "<pyspark.sql.session.SparkSession at 0x7c05703ed190>"
            ],
            "text/html": [
              "\n",
              "            <div>\n",
              "                <p><b>SparkSession - in-memory</b></p>\n",
              "                \n",
              "        <div>\n",
              "            <p><b>SparkContext</b></p>\n",
              "\n",
              "            <p><a href=\"http://ec2afacd56c7:4040\">Spark UI</a></p>\n",
              "\n",
              "            <dl>\n",
              "              <dt>Version</dt>\n",
              "                <dd><code>v3.5.1</code></dd>\n",
              "              <dt>Master</dt>\n",
              "                <dd><code>local[*]</code></dd>\n",
              "              <dt>AppName</dt>\n",
              "                <dd><code>PySparkBasics</code></dd>\n",
              "            </dl>\n",
              "        </div>\n",
              "        \n",
              "            </div>\n",
              "        "
            ]
          },
          "metadata": {},
          "execution_count": 2
        }
      ]
    },
    {
      "cell_type": "code",
      "source": [
        "# Creating csv\n",
        "data = \"\"\"\n",
        "product_id, product_name, category, price, quantity\n",
        "\n",
        "101, Laptop, Electronics, 55000, 10\n",
        "102, Smartphone, Electronics, 30000, 25\n",
        "103, Chair, Furniture, 2500, 50\n",
        "104, Book, Stationery, 400, 200\n",
        "105, Headphones, Electronics, 1500, 100\n",
        "106, Table, Furniture, 3200, 40\n",
        "107, Pen, Stationery, 20, 500\n",
        "108, Monitor, Electronics, 12000, 15\n",
        "109, Notebook, Stationery, 60, 300\n",
        "110, Sofa, Furniture, 45000, 5\n",
        "\"\"\"\n",
        "\n",
        "with open('employees.csv','w')as file:\n",
        "  file.write(data)"
      ],
      "metadata": {
        "id": "PI4kykbg8zQI"
      },
      "execution_count": 3,
      "outputs": []
    },
    {
      "cell_type": "code",
      "source": [
        "# Read the above data from CSV into a DataFrame and print the schema.\n",
        "df = spark.read.csv('employees.csv', header=True, inferSchema=True)\n",
        "df.show()\n",
        "df.printSchema()"
      ],
      "metadata": {
        "colab": {
          "base_uri": "https://localhost:8080/"
        },
        "id": "XVe90MNC9spF",
        "outputId": "887126a6-4f68-41f3-db20-ff685dd854b4"
      },
      "execution_count": 6,
      "outputs": [
        {
          "output_type": "stream",
          "name": "stdout",
          "text": [
            "+----------+-------------+------------+-------+---------+\n",
            "|product_id| product_name|    category|  price| quantity|\n",
            "+----------+-------------+------------+-------+---------+\n",
            "|       101|       Laptop| Electronics|55000.0|     10.0|\n",
            "|       102|   Smartphone| Electronics|30000.0|     25.0|\n",
            "|       103|        Chair|   Furniture| 2500.0|     50.0|\n",
            "|       104|         Book|  Stationery|  400.0|    200.0|\n",
            "|       105|   Headphones| Electronics| 1500.0|    100.0|\n",
            "|       106|        Table|   Furniture| 3200.0|     40.0|\n",
            "|       107|          Pen|  Stationery|   20.0|    500.0|\n",
            "|       108|      Monitor| Electronics|12000.0|     15.0|\n",
            "|       109|     Notebook|  Stationery|   60.0|    300.0|\n",
            "|       110|         Sofa|   Furniture|45000.0|      5.0|\n",
            "+----------+-------------+------------+-------+---------+\n",
            "\n",
            "root\n",
            " |-- product_id: integer (nullable = true)\n",
            " |--  product_name: string (nullable = true)\n",
            " |--  category: string (nullable = true)\n",
            " |--  price: double (nullable = true)\n",
            " |--  quantity: double (nullable = true)\n",
            "\n"
          ]
        }
      ]
    },
    {
      "cell_type": "code",
      "source": [
        "# Read the same data from JSON and compare with the CSV schema\n",
        "# Converting csv to json\n",
        "\n",
        "import pandas as pd\n",
        "from io import StringIO\n",
        "df_pd = pd.read_csv(StringIO(data.strip()))\n",
        "df_pd.to_json(\"employees.json\", orient=\"records\", lines=True)\n",
        "\n",
        "# Reading json\n",
        "import json\n",
        "df_json = spark.read.json(\"employees.json\")\n",
        "df_json.show()\n",
        "df_json.printSchema()"
      ],
      "metadata": {
        "colab": {
          "base_uri": "https://localhost:8080/"
        },
        "id": "MDQ35It8-KHN",
        "outputId": "0bd1b117-4a1e-4c82-a7ba-3c766c69ee59"
      },
      "execution_count": 8,
      "outputs": [
        {
          "output_type": "stream",
          "name": "stdout",
          "text": [
            "+------------+------+-------------+---------+----------+\n",
            "|    category| price| product_name| quantity|product_id|\n",
            "+------------+------+-------------+---------+----------+\n",
            "| Electronics| 55000|       Laptop|       10|       101|\n",
            "| Electronics| 30000|   Smartphone|       25|       102|\n",
            "|   Furniture|  2500|        Chair|       50|       103|\n",
            "|  Stationery|   400|         Book|      200|       104|\n",
            "| Electronics|  1500|   Headphones|      100|       105|\n",
            "|   Furniture|  3200|        Table|       40|       106|\n",
            "|  Stationery|    20|          Pen|      500|       107|\n",
            "| Electronics| 12000|      Monitor|       15|       108|\n",
            "|  Stationery|    60|     Notebook|      300|       109|\n",
            "|   Furniture| 45000|         Sofa|        5|       110|\n",
            "+------------+------+-------------+---------+----------+\n",
            "\n",
            "root\n",
            " |--  category: string (nullable = true)\n",
            " |--  price: long (nullable = true)\n",
            " |--  product_name: string (nullable = true)\n",
            " |--  quantity: long (nullable = true)\n",
            " |-- product_id: long (nullable = true)\n",
            "\n"
          ]
        }
      ]
    },
    {
      "cell_type": "code",
      "source": [
        "# Converting to csv parquet and saving it to disk\n",
        "df.write.mode(\"overwrite\").parquet(\"employees_parquet\")"
      ],
      "metadata": {
        "id": "KR-8X3DGBdYF"
      },
      "execution_count": 9,
      "outputs": []
    },
    {
      "cell_type": "code",
      "source": [
        "import os\n",
        "os.listdir('/content/employees_parquet')"
      ],
      "metadata": {
        "colab": {
          "base_uri": "https://localhost:8080/"
        },
        "id": "m7rSqLYTDLzl",
        "outputId": "4c222017-e02d-448a-fea0-ea270623bf33"
      },
      "execution_count": 10,
      "outputs": [
        {
          "output_type": "execute_result",
          "data": {
            "text/plain": [
              "['part-00000-c46f70c6-6602-410c-b574-50cf3316350f-c000.snappy.parquet',\n",
              " '._SUCCESS.crc',\n",
              " '_SUCCESS',\n",
              " '.part-00000-c46f70c6-6602-410c-b574-50cf3316350f-c000.snappy.parquet.crc']"
            ]
          },
          "metadata": {},
          "execution_count": 10
        }
      ]
    },
    {
      "cell_type": "code",
      "source": [
        "# Measure the size of CSV vs JSON vs Parquet on disk. Which one is smallest?\n",
        "# saved files in csv, json and parquet formats\n",
        "\n",
        "# csv size\n",
        "!du -sh employees.csv\n",
        "# json size\n",
        "!du -sh employees.json\n",
        "# parquet size\n",
        "!du -sh employees_parquet/"
      ],
      "metadata": {
        "colab": {
          "base_uri": "https://localhost:8080/"
        },
        "id": "8EJyVAg5DYO2",
        "outputId": "574501b7-522f-4e41-bfb2-9aefbf97e942"
      },
      "execution_count": 11,
      "outputs": [
        {
          "output_type": "stream",
          "name": "stdout",
          "text": [
            "4.0K\temployees.csv\n",
            "4.0K\temployees.json\n",
            "16K\temployees_parquet/\n"
          ]
        }
      ]
    },
    {
      "cell_type": "code",
      "source": [
        "# Actual size of parquet\n",
        "!ls -lh employees_parquet/\n",
        "# It shows 16k due to metadata"
      ],
      "metadata": {
        "colab": {
          "base_uri": "https://localhost:8080/"
        },
        "id": "oYefrZM2HODj",
        "outputId": "f1e3acca-b39e-42a3-f96d-06c432555ab7"
      },
      "execution_count": 12,
      "outputs": [
        {
          "output_type": "stream",
          "name": "stdout",
          "text": [
            "total 4.0K\n",
            "-rw-r--r-- 1 root root 1.8K Aug  7 05:41 part-00000-c46f70c6-6602-410c-b574-50cf3316350f-c000.snappy.parquet\n",
            "-rw-r--r-- 1 root root    0 Aug  7 05:41 _SUCCESS\n"
          ]
        }
      ]
    },
    {
      "cell_type": "code",
      "source": [
        "# Add a column total_revenue = price * quantity for each record\n",
        "from pyspark.sql.functions import col\n",
        "df = df.withColumn(\"total_revenue\", col(\" price\")*col(\" quantity\"))\n",
        "df.show()"
      ],
      "metadata": {
        "colab": {
          "base_uri": "https://localhost:8080/"
        },
        "id": "-55silivHjo2",
        "outputId": "ba4194c9-5924-4dd4-e498-0dadcd38915f"
      },
      "execution_count": 15,
      "outputs": [
        {
          "output_type": "stream",
          "name": "stdout",
          "text": [
            "+----------+-------------+------------+-------+---------+-------------+\n",
            "|product_id| product_name|    category|  price| quantity|total_revenue|\n",
            "+----------+-------------+------------+-------+---------+-------------+\n",
            "|       101|       Laptop| Electronics|55000.0|     10.0|     550000.0|\n",
            "|       102|   Smartphone| Electronics|30000.0|     25.0|     750000.0|\n",
            "|       103|        Chair|   Furniture| 2500.0|     50.0|     125000.0|\n",
            "|       104|         Book|  Stationery|  400.0|    200.0|      80000.0|\n",
            "|       105|   Headphones| Electronics| 1500.0|    100.0|     150000.0|\n",
            "|       106|        Table|   Furniture| 3200.0|     40.0|     128000.0|\n",
            "|       107|          Pen|  Stationery|   20.0|    500.0|      10000.0|\n",
            "|       108|      Monitor| Electronics|12000.0|     15.0|     180000.0|\n",
            "|       109|     Notebook|  Stationery|   60.0|    300.0|      18000.0|\n",
            "|       110|         Sofa|   Furniture|45000.0|      5.0|     225000.0|\n",
            "+----------+-------------+------------+-------+---------+-------------+\n",
            "\n"
          ]
        }
      ]
    },
    {
      "cell_type": "code",
      "source": [
        "# Find the top 3 products with the highest total revenue.\n",
        "df.orderBy(col(\"total_revenue\").desc()).limit(3).show()"
      ],
      "metadata": {
        "colab": {
          "base_uri": "https://localhost:8080/"
        },
        "id": "jJ7948WuIc9R",
        "outputId": "40d4669b-66a6-40cc-a435-57822ca1a433"
      },
      "execution_count": 16,
      "outputs": [
        {
          "output_type": "stream",
          "name": "stdout",
          "text": [
            "+----------+-------------+------------+-------+---------+-------------+\n",
            "|product_id| product_name|    category|  price| quantity|total_revenue|\n",
            "+----------+-------------+------------+-------+---------+-------------+\n",
            "|       102|   Smartphone| Electronics|30000.0|     25.0|     750000.0|\n",
            "|       101|       Laptop| Electronics|55000.0|     10.0|     550000.0|\n",
            "|       110|         Sofa|   Furniture|45000.0|      5.0|     225000.0|\n",
            "+----------+-------------+------------+-------+---------+-------------+\n",
            "\n"
          ]
        }
      ]
    },
    {
      "cell_type": "code",
      "source": [
        "# Filter and display only Furniture products with price > 3000\n",
        "df_furniture = df.filter((col(\" category\")== \" Furniture\") & (col(\" price\") > 3000))\n",
        "df_furniture.show()"
      ],
      "metadata": {
        "colab": {
          "base_uri": "https://localhost:8080/"
        },
        "id": "5yWzP-fVP7Tg",
        "outputId": "5b2a6d0c-2c9c-4987-8966-673a735cbb17"
      },
      "execution_count": 20,
      "outputs": [
        {
          "output_type": "stream",
          "name": "stdout",
          "text": [
            "+----------+-------------+----------+-------+---------+-------------+\n",
            "|product_id| product_name|  category|  price| quantity|total_revenue|\n",
            "+----------+-------------+----------+-------+---------+-------------+\n",
            "|       106|        Table| Furniture| 3200.0|     40.0|     128000.0|\n",
            "|       110|         Sofa| Furniture|45000.0|      5.0|     225000.0|\n",
            "+----------+-------------+----------+-------+---------+-------------+\n",
            "\n"
          ]
        }
      ]
    },
    {
      "cell_type": "code",
      "source": [
        "# Create a new column price_band with values:'High' if price > 10000 'Medium' if 3000 < price <= 10000 'Low' if price ≤ 3000\n",
        "from pyspark.sql.functions import avg, col, when\n",
        "\n",
        "df_band = df.withColumn(\"price_band\",\n",
        "                        when(col(\" price\") > 10000, \"High\")\n",
        "                        .when((col(\" price\") >3000) & (col(\" price\") <= 10000), \"Medium\")\n",
        "                        .otherwise(\"Low\")\n",
        "                        )\n",
        "df_band.show()\n",
        "\n"
      ],
      "metadata": {
        "colab": {
          "base_uri": "https://localhost:8080/"
        },
        "id": "QwPx3NbtRib2",
        "outputId": "f11780a2-5aaf-4d40-dce3-7f8272f7c89b"
      },
      "execution_count": 21,
      "outputs": [
        {
          "output_type": "stream",
          "name": "stdout",
          "text": [
            "+----------+-------------+------------+-------+---------+-------------+----------+\n",
            "|product_id| product_name|    category|  price| quantity|total_revenue|price_band|\n",
            "+----------+-------------+------------+-------+---------+-------------+----------+\n",
            "|       101|       Laptop| Electronics|55000.0|     10.0|     550000.0|      High|\n",
            "|       102|   Smartphone| Electronics|30000.0|     25.0|     750000.0|      High|\n",
            "|       103|        Chair|   Furniture| 2500.0|     50.0|     125000.0|       Low|\n",
            "|       104|         Book|  Stationery|  400.0|    200.0|      80000.0|       Low|\n",
            "|       105|   Headphones| Electronics| 1500.0|    100.0|     150000.0|       Low|\n",
            "|       106|        Table|   Furniture| 3200.0|     40.0|     128000.0|    Medium|\n",
            "|       107|          Pen|  Stationery|   20.0|    500.0|      10000.0|       Low|\n",
            "|       108|      Monitor| Electronics|12000.0|     15.0|     180000.0|      High|\n",
            "|       109|     Notebook|  Stationery|   60.0|    300.0|      18000.0|       Low|\n",
            "|       110|         Sofa|   Furniture|45000.0|      5.0|     225000.0|      High|\n",
            "+----------+-------------+------------+-------+---------+-------------+----------+\n",
            "\n"
          ]
        }
      ]
    },
    {
      "cell_type": "code",
      "source": [
        "# Group by category and calculate total quantity sold.\n",
        "from pyspark.sql.functions import sum\n",
        "\n",
        "df_grouped = df.groupBy(\" category\").agg(sum(\" quantity\").alias(\"total_quantity\"))\n",
        "df_grouped.show()"
      ],
      "metadata": {
        "colab": {
          "base_uri": "https://localhost:8080/"
        },
        "id": "kSlU0gpGRh4O",
        "outputId": "ee3bbbed-9908-4451-fabb-c1f779d9dc1e"
      },
      "execution_count": 23,
      "outputs": [
        {
          "output_type": "stream",
          "name": "stdout",
          "text": [
            "+------------+--------------+\n",
            "|    category|total_quantity|\n",
            "+------------+--------------+\n",
            "|  Stationery|        1000.0|\n",
            "|   Furniture|          95.0|\n",
            "| Electronics|         150.0|\n",
            "+------------+--------------+\n",
            "\n"
          ]
        }
      ]
    },
    {
      "cell_type": "code",
      "source": [
        "# Calculate average price of products for each category\n",
        "df_avg = df.groupBy(\" category\").agg(avg(\" price\").alias(\"avg_price\"))\n",
        "df_avg.show()\n"
      ],
      "metadata": {
        "colab": {
          "base_uri": "https://localhost:8080/"
        },
        "id": "0RfsOFMhQkoJ",
        "outputId": "3f0f4f78-eda1-4d63-9024-aa7d8f32f417"
      },
      "execution_count": 24,
      "outputs": [
        {
          "output_type": "stream",
          "name": "stdout",
          "text": [
            "+------------+---------+\n",
            "|    category|avg_price|\n",
            "+------------+---------+\n",
            "|  Stationery|    160.0|\n",
            "|   Furniture|  16900.0|\n",
            "| Electronics|  24625.0|\n",
            "+------------+---------+\n",
            "\n"
          ]
        }
      ]
    },
    {
      "cell_type": "code",
      "source": [
        "# Count how many products fall in each price_band\n",
        "df_bnd_count = df_band.groupBy(\"price_band\").count()\n",
        "df_bnd_count.show()\n"
      ],
      "metadata": {
        "colab": {
          "base_uri": "https://localhost:8080/"
        },
        "id": "0qURO_6VuTv0",
        "outputId": "f966a893-abf1-4bb2-ac68-d67f6abdbfe2"
      },
      "execution_count": 25,
      "outputs": [
        {
          "output_type": "stream",
          "name": "stdout",
          "text": [
            "+----------+-----+\n",
            "|price_band|count|\n",
            "+----------+-----+\n",
            "|      High|    4|\n",
            "|       Low|    5|\n",
            "|    Medium|    1|\n",
            "+----------+-----+\n",
            "\n"
          ]
        }
      ]
    },
    {
      "cell_type": "code",
      "source": [
        "# Write the filtered Electronics products (price > 5000) into a Parquet file\n",
        "df_elctronics = df.filter((col(\" category\") == \" Electronics\") & (col(\" price\") > 5000))\n",
        "#df_elctronics.show()\n",
        "\n",
        "df_elctronics.write.mode(\"overwrite\").parquet(\"/tmp/electronics_parquet\")\n"
      ],
      "metadata": {
        "id": "lM35eKMxukrH"
      },
      "execution_count": 30,
      "outputs": []
    },
    {
      "cell_type": "code",
      "source": [
        "# Write the Stationery products into a JSON file\n",
        "\n",
        "df_stationary = df.filter(col(\" category\") == \" Stationery\")\n",
        "#df_stationary.show()\n",
        "df_stationary.write.mode(\"overwrite\").json(\"/tmp/stationery_json\")\n",
        "\n"
      ],
      "metadata": {
        "id": "FlUqdvn9updu"
      },
      "execution_count": 32,
      "outputs": []
    },
    {
      "cell_type": "code",
      "source": [
        "# Load Parquet back and run a query to find which category has highest total revenue\n",
        "\n",
        "df_par = spark.read.parquet(\"/content/employees_parquet\")\n"
      ],
      "metadata": {
        "id": "YY6gmvzCuvBz"
      },
      "execution_count": 34,
      "outputs": []
    },
    {
      "cell_type": "code",
      "source": [
        "#df_par.show()\n",
        "df_par = df_par.withColumn(\"total_revenue\", col(\" price\") * col(\" quantity\"))\n",
        "df_rev = df_par.groupBy(\" category\").sum(\"total_revenue\")\n",
        "\n"
      ],
      "metadata": {
        "id": "Nm6MQqiy0BcG"
      },
      "execution_count": 37,
      "outputs": []
    },
    {
      "cell_type": "code",
      "source": [
        "df_rev.show()"
      ],
      "metadata": {
        "colab": {
          "base_uri": "https://localhost:8080/"
        },
        "id": "FVH6ixHq1Wr8",
        "outputId": "263e60c7-8ad5-43b0-f00c-6c62e6100d6d"
      },
      "execution_count": 39,
      "outputs": [
        {
          "output_type": "stream",
          "name": "stdout",
          "text": [
            "+------------+------------------+\n",
            "|    category|sum(total_revenue)|\n",
            "+------------+------------------+\n",
            "|  Stationery|          108000.0|\n",
            "|   Furniture|          478000.0|\n",
            "| Electronics|         1630000.0|\n",
            "+------------+------------------+\n",
            "\n"
          ]
        }
      ]
    },
    {
      "cell_type": "code",
      "source": [
        "df_top = df_rev.orderBy(col(\"sum(total_revenue)\").desc()).limit(1)\n",
        "df_top.show()"
      ],
      "metadata": {
        "colab": {
          "base_uri": "https://localhost:8080/"
        },
        "id": "vWJ7X8Hm1Shk",
        "outputId": "f4b71b62-d083-4a16-b61d-7909ee87a1e6"
      },
      "execution_count": 40,
      "outputs": [
        {
          "output_type": "stream",
          "name": "stdout",
          "text": [
            "+------------+------------------+\n",
            "|    category|sum(total_revenue)|\n",
            "+------------+------------------+\n",
            "| Electronics|         1630000.0|\n",
            "+------------+------------------+\n",
            "\n"
          ]
        }
      ]
    },
    {
      "cell_type": "code",
      "source": [
        "# BONUS: Create a temporary view from the DataFrame and run Spark SQL to find all\n",
        "# products with quantity > 100 and price < 1000\n",
        "df_cleaned = df.toDF(*[col_name.strip() for col_name in df.columns])\n",
        "df_cleaned.createOrReplaceTempView(\"product_view\")"
      ],
      "metadata": {
        "id": "9v25Ko3Fu6fd"
      },
      "execution_count": 47,
      "outputs": []
    },
    {
      "cell_type": "code",
      "source": [
        "spark.sql(\"select * from product_view where  quantity > 100 and  price < 1000\").show()"
      ],
      "metadata": {
        "colab": {
          "base_uri": "https://localhost:8080/"
        },
        "id": "f1yuLBLx1zDt",
        "outputId": "a435db22-7af1-44a2-9333-e1b1bf460786"
      },
      "execution_count": 48,
      "outputs": [
        {
          "output_type": "stream",
          "name": "stdout",
          "text": [
            "+----------+------------+-----------+-----+--------+-------------+\n",
            "|product_id|product_name|   category|price|quantity|total_revenue|\n",
            "+----------+------------+-----------+-----+--------+-------------+\n",
            "|       104|        Book| Stationery|400.0|   200.0|      80000.0|\n",
            "|       107|         Pen| Stationery| 20.0|   500.0|      10000.0|\n",
            "|       109|    Notebook| Stationery| 60.0|   300.0|      18000.0|\n",
            "+----------+------------+-----------+-----+--------+-------------+\n",
            "\n"
          ]
        }
      ]
    },
    {
      "cell_type": "code",
      "source": [],
      "metadata": {
        "id": "pcuQuqDx2FY0"
      },
      "execution_count": null,
      "outputs": []
    }
  ]
}