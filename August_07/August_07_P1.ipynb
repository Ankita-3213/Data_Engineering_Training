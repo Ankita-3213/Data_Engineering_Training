{
  "nbformat": 4,
  "nbformat_minor": 0,
  "metadata": {
    "colab": {
      "provenance": []
    },
    "kernelspec": {
      "name": "python3",
      "display_name": "Python 3"
    },
    "language_info": {
      "name": "python"
    }
  },
  "cells": [
    {
      "cell_type": "code",
      "source": [
        "# Creating sparksession\n",
        "from pyspark.sql import SparkSession\n",
        "\n",
        "spark = SparkSession.builder.appName(\"PySparkBasics\").getOrCreate()\n",
        "spark"
      ],
      "metadata": {
        "colab": {
          "base_uri": "https://localhost:8080/",
          "height": 219
        },
        "id": "RGSFMqhUwHgw",
        "outputId": "b4aef7ce-6ec8-492d-b690-8508699a0cb9"
      },
      "execution_count": 5,
      "outputs": [
        {
          "output_type": "execute_result",
          "data": {
            "text/plain": [
              "<pyspark.sql.session.SparkSession at 0x7a6d9f9d9210>"
            ],
            "text/html": [
              "\n",
              "            <div>\n",
              "                <p><b>SparkSession - in-memory</b></p>\n",
              "                \n",
              "        <div>\n",
              "            <p><b>SparkContext</b></p>\n",
              "\n",
              "            <p><a href=\"http://435afc73d8d5:4040\">Spark UI</a></p>\n",
              "\n",
              "            <dl>\n",
              "              <dt>Version</dt>\n",
              "                <dd><code>v3.5.1</code></dd>\n",
              "              <dt>Master</dt>\n",
              "                <dd><code>local[*]</code></dd>\n",
              "              <dt>AppName</dt>\n",
              "                <dd><code>PySparkBasics</code></dd>\n",
              "            </dl>\n",
              "        </div>\n",
              "        \n",
              "            </div>\n",
              "        "
            ]
          },
          "metadata": {},
          "execution_count": 5
        }
      ]
    },
    {
      "cell_type": "code",
      "execution_count": 6,
      "metadata": {
        "colab": {
          "base_uri": "https://localhost:8080/"
        },
        "id": "ZNd6XtJvvqmB",
        "outputId": "15184875-6413-469b-8c0f-e49d25dba78d"
      },
      "outputs": [
        {
          "output_type": "stream",
          "name": "stdout",
          "text": [
            "+-----+------+----------+---------+---------+\n",
            "|EmpID|  Name|Department|UnitsSold|UnitPrice|\n",
            "+-----+------+----------+---------+---------+\n",
            "| E101|  Amit|     Sales|       10|     1200|\n",
            "| E102| Sneha| Marketing|        8|     1500|\n",
            "| E103|  Ravi|     Sales|       12|     1300|\n",
            "| E104|Anjali|        HR|        7|     1100|\n",
            "| E105|   Raj|     Sales|        5|     1000|\n",
            "+-----+------+----------+---------+---------+\n",
            "\n"
          ]
        }
      ],
      "source": [
        "# Creating spark df\n",
        "data = [\n",
        "    (\"E101\", \"Amit\", \"Sales\", 10, 1200),\n",
        "    (\"E102\", \"Sneha\", \"Marketing\", 8, 1500),\n",
        "    (\"E103\", \"Ravi\", \"Sales\", 12, 1300),\n",
        "    (\"E104\", \"Anjali\", \"HR\", 7, 1100),\n",
        "    (\"E105\", \"Raj\", \"Sales\", 5, 1000)\n",
        "]\n",
        "columns = [\"EmpID\", \"Name\", \"Department\", \"UnitsSold\", \"UnitPrice\"]\n",
        "\n",
        "df = spark.createDataFrame(data, columns)\n",
        "df.show()"
      ]
    },
    {
      "cell_type": "code",
      "source": [
        "import json\n",
        "# Csv format (writing)\n",
        "df.write.mode(\"overwrite\").option(\"header\", True).csv(\"/tmp/employees_csv\")\n",
        "\n",
        "# JSON format\n",
        "df.write.mode(\"overwrite\").json(\"/tmp/employees_json\")\n",
        "\n",
        "# Parquet format\n",
        "df.write.mode(\"overwrite\").parquet(\"/tmp/employees_parquet\")"
      ],
      "metadata": {
        "id": "yb4AJEGZwFdu"
      },
      "execution_count": 7,
      "outputs": []
    },
    {
      "cell_type": "code",
      "source": [
        "# Reading csv\n",
        "csv_df = spark.read.option(\"header\", True).csv(\"/tmp/employees_csv\")\n",
        "csv_df.show()\n",
        "\n",
        "# Read JSON\n",
        "json_csv = spark.read.json(\"/tmp/employees_json\")\n",
        "json_csv.show()\n",
        "\n",
        "# Read Parquet\n",
        "parquet_df = spark.read.parquet(\"/tmp/employees_parquet\")\n",
        "parquet_df.show()"
      ],
      "metadata": {
        "colab": {
          "base_uri": "https://localhost:8080/"
        },
        "id": "ljCR1jnuylF0",
        "outputId": "35372fb6-8e5b-4565-c31f-cba1551c9ab1"
      },
      "execution_count": 8,
      "outputs": [
        {
          "output_type": "stream",
          "name": "stdout",
          "text": [
            "+-----+------+----------+---------+---------+\n",
            "|EmpID|  Name|Department|UnitsSold|UnitPrice|\n",
            "+-----+------+----------+---------+---------+\n",
            "| E103|  Ravi|     Sales|       12|     1300|\n",
            "| E104|Anjali|        HR|        7|     1100|\n",
            "| E105|   Raj|     Sales|        5|     1000|\n",
            "| E101|  Amit|     Sales|       10|     1200|\n",
            "| E102| Sneha| Marketing|        8|     1500|\n",
            "+-----+------+----------+---------+---------+\n",
            "\n",
            "+----------+-----+------+---------+---------+\n",
            "|Department|EmpID|  Name|UnitPrice|UnitsSold|\n",
            "+----------+-----+------+---------+---------+\n",
            "|     Sales| E103|  Ravi|     1300|       12|\n",
            "|        HR| E104|Anjali|     1100|        7|\n",
            "|     Sales| E105|   Raj|     1000|        5|\n",
            "|     Sales| E101|  Amit|     1200|       10|\n",
            "| Marketing| E102| Sneha|     1500|        8|\n",
            "+----------+-----+------+---------+---------+\n",
            "\n",
            "+-----+------+----------+---------+---------+\n",
            "|EmpID|  Name|Department|UnitsSold|UnitPrice|\n",
            "+-----+------+----------+---------+---------+\n",
            "| E103|  Ravi|     Sales|       12|     1300|\n",
            "| E104|Anjali|        HR|        7|     1100|\n",
            "| E105|   Raj|     Sales|        5|     1000|\n",
            "| E101|  Amit|     Sales|       10|     1200|\n",
            "| E102| Sneha| Marketing|        8|     1500|\n",
            "+-----+------+----------+---------+---------+\n",
            "\n"
          ]
        }
      ]
    },
    {
      "cell_type": "code",
      "source": [],
      "metadata": {
        "id": "4v6FJLdr2QuA"
      },
      "execution_count": null,
      "outputs": []
    }
  ]
}