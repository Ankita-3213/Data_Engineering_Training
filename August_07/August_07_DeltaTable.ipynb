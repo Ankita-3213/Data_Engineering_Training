{
  "nbformat": 4,
  "nbformat_minor": 0,
  "metadata": {
    "colab": {
      "provenance": []
    },
    "kernelspec": {
      "name": "python3",
      "display_name": "Python 3"
    },
    "language_info": {
      "name": "python"
    }
  },
  "cells": [
    {
      "cell_type": "code",
      "source": [
        "# Configuring\n",
        "\n",
        "!pip uninstall -y pyspark delta-spark\n",
        "!pip install -q pyspark==3.5.1 delta-spark==3.1.0\n"
      ],
      "metadata": {
        "colab": {
          "base_uri": "https://localhost:8080/"
        },
        "id": "LGTG8cx-Wxmg",
        "outputId": "d529dd89-658a-4352-edf4-e1ef669d9935"
      },
      "execution_count": 3,
      "outputs": [
        {
          "output_type": "stream",
          "name": "stdout",
          "text": [
            "Found existing installation: pyspark 4.0.0\n",
            "Uninstalling pyspark-4.0.0:\n",
            "  Successfully uninstalled pyspark-4.0.0\n",
            "Found existing installation: delta-spark 4.0.0\n",
            "Uninstalling delta-spark-4.0.0:\n",
            "  Successfully uninstalled delta-spark-4.0.0\n",
            "\u001b[2K     \u001b[90m━━━━━━━━━━━━━━━━━━━━━━━━━━━━━━━━━━━━━━━\u001b[0m \u001b[32m317.0/317.0 MB\u001b[0m \u001b[31m4.8 MB/s\u001b[0m eta \u001b[36m0:00:00\u001b[0m\n",
            "\u001b[?25h  Preparing metadata (setup.py) ... \u001b[?25l\u001b[?25hdone\n",
            "\u001b[2K   \u001b[90m━━━━━━━━━━━━━━━━━━━━━━━━━━━━━━━━━━━━━━━━\u001b[0m \u001b[32m200.5/200.5 kB\u001b[0m \u001b[31m16.7 MB/s\u001b[0m eta \u001b[36m0:00:00\u001b[0m\n",
            "\u001b[?25h  Building wheel for pyspark (setup.py) ... \u001b[?25l\u001b[?25hdone\n"
          ]
        }
      ]
    },
    {
      "cell_type": "code",
      "execution_count": 4,
      "metadata": {
        "id": "ug1ZuoVIVLV7"
      },
      "outputs": [],
      "source": [
        "# Delta supported spark session\n",
        "from delta import configure_spark_with_delta_pip\n",
        "from pyspark.sql import SparkSession\n",
        "\n",
        "builder = SparkSession.builder \\\n",
        "    .appName(\"DeltaLakeColab\") \\\n",
        "    .config(\"spark.sql.extensions\", \"io.delta.sql.DeltaSparkSessionExtension\") \\\n",
        "    .config(\"spark.sql.catalog.spark_catalog\", \"org.apache.spark.sql.delta.catalog.DeltaCatalog\")\n",
        "\n",
        "spark = configure_spark_with_delta_pip(builder).getOrCreate()\n"
      ]
    },
    {
      "cell_type": "code",
      "source": [
        "spark"
      ],
      "metadata": {
        "colab": {
          "base_uri": "https://localhost:8080/",
          "height": 219
        },
        "id": "MZ5x_flTVQU-",
        "outputId": "5c581425-15f2-4b9d-fcdb-02a8b9dae7d1"
      },
      "execution_count": 5,
      "outputs": [
        {
          "output_type": "execute_result",
          "data": {
            "text/plain": [
              "<pyspark.sql.session.SparkSession at 0x7e867a8a3ed0>"
            ],
            "text/html": [
              "\n",
              "            <div>\n",
              "                <p><b>SparkSession - in-memory</b></p>\n",
              "                \n",
              "        <div>\n",
              "            <p><b>SparkContext</b></p>\n",
              "\n",
              "            <p><a href=\"http://d6a254d30dac:4040\">Spark UI</a></p>\n",
              "\n",
              "            <dl>\n",
              "              <dt>Version</dt>\n",
              "                <dd><code>v3.5.1</code></dd>\n",
              "              <dt>Master</dt>\n",
              "                <dd><code>local[*]</code></dd>\n",
              "              <dt>AppName</dt>\n",
              "                <dd><code>DeltaLakeColab</code></dd>\n",
              "            </dl>\n",
              "        </div>\n",
              "        \n",
              "            </div>\n",
              "        "
            ]
          },
          "metadata": {},
          "execution_count": 5
        }
      ]
    },
    {
      "cell_type": "code",
      "source": [
        "csv_data = \"\"\"\n",
        "id,name,category,price\n",
        "1,Amit,Electronics,50000\n",
        "2,Priya,Furniture,3000\n",
        "3,Rahul,Stationery,200\n",
        "4,Neha,Books,800\n",
        "5,Karthik,Electronics,45000\n",
        "\n",
        "\"\"\"\n",
        "### Save to DBFS in azure databricks notebook\n",
        "### dbutils.fs.put(\"dbfs:/tmp/products.csv\", csv_data, overwrite=True)\n",
        "\n",
        "with open('products.csv','w')as f:\n",
        "  f.write(csv_data)"
      ],
      "metadata": {
        "id": "qZbnOy-wXtD2"
      },
      "execution_count": 6,
      "outputs": []
    },
    {
      "cell_type": "code",
      "source": [
        "# Create spark df\n",
        "### df = spark.read.option(\"header\", True).option(\"inferSchema\", True).csv(\"dbfs:/tmp/products.csv\")\n",
        "df = spark.read.csv('products.csv', header=True, inferSchema=True)\n",
        "df.show()"
      ],
      "metadata": {
        "colab": {
          "base_uri": "https://localhost:8080/"
        },
        "id": "jt2IVJZEXy6t",
        "outputId": "d8352c1d-0e24-4792-87c8-55c456d01a4d"
      },
      "execution_count": 7,
      "outputs": [
        {
          "output_type": "stream",
          "name": "stdout",
          "text": [
            "+---+-------+-----------+-----+\n",
            "| id|   name|   category|price|\n",
            "+---+-------+-----------+-----+\n",
            "|  1|   Amit|Electronics|50000|\n",
            "|  2|  Priya|  Furniture| 3000|\n",
            "|  3|  Rahul| Stationery|  200|\n",
            "|  4|   Neha|      Books|  800|\n",
            "|  5|Karthik|Electronics|45000|\n",
            "+---+-------+-----------+-----+\n",
            "\n"
          ]
        }
      ]
    },
    {
      "cell_type": "code",
      "source": [
        "# Writing and reading in deltatable\n",
        "df.write.format(\"delta\").mode(\"overwrite\").save(\"products_delta\")\n",
        "# Reading\n",
        "df_delta = spark.read.format(\"delta\").load('products_delta')\n",
        "df_delta.show()"
      ],
      "metadata": {
        "colab": {
          "base_uri": "https://localhost:8080/"
        },
        "id": "x9eZk8tfX1Si",
        "outputId": "bc8a9f32-9375-4d2d-86fc-11266f275a2d"
      },
      "execution_count": 8,
      "outputs": [
        {
          "output_type": "stream",
          "name": "stdout",
          "text": [
            "+---+-------+-----------+-----+\n",
            "| id|   name|   category|price|\n",
            "+---+-------+-----------+-----+\n",
            "|  1|   Amit|Electronics|50000|\n",
            "|  2|  Priya|  Furniture| 3000|\n",
            "|  3|  Rahul| Stationery|  200|\n",
            "|  4|   Neha|      Books|  800|\n",
            "|  5|Karthik|Electronics|45000|\n",
            "+---+-------+-----------+-----+\n",
            "\n"
          ]
        }
      ]
    },
    {
      "cell_type": "code",
      "source": [
        "from delta.tables import DeltaTable\n",
        "\n",
        "delta_table = DeltaTable.forPath(spark, \"products_delta\")\n",
        "\n",
        "# Update price for product where id =2\n",
        "delta_table.update(\n",
        "    condition=\"id = 2\",\n",
        "    set={\"price\":\"3500\"}\n",
        ")\n",
        "\n",
        "delta_table.toDF().show()"
      ],
      "metadata": {
        "colab": {
          "base_uri": "https://localhost:8080/"
        },
        "id": "OkiNPn3wX4bv",
        "outputId": "803bbb1f-6f3b-457b-b2d3-e8846772c765"
      },
      "execution_count": 10,
      "outputs": [
        {
          "output_type": "stream",
          "name": "stdout",
          "text": [
            "+---+-------+-----------+-----+\n",
            "| id|   name|   category|price|\n",
            "+---+-------+-----------+-----+\n",
            "|  1|   Amit|Electronics|50000|\n",
            "|  2|  Priya|  Furniture| 3500|\n",
            "|  3|  Rahul| Stationery|  200|\n",
            "|  4|   Neha|      Books|  800|\n",
            "|  5|Karthik|Electronics|45000|\n",
            "+---+-------+-----------+-----+\n",
            "\n"
          ]
        }
      ]
    },
    {
      "cell_type": "code",
      "source": [
        "# Update + Insert = Upsert\n",
        "new_data = [\n",
        "    (2, \"Priya\", \"Furniture\", 4000),     # Update\n",
        "    (6, \"Sneha\", \"Kitchen\", 1200)        # Insert\n",
        "]\n",
        "\n",
        "updates_df = spark.createDataFrame(new_data, [\"id\", \"name\", \"category\", \"price\"])\n",
        "\n",
        "# Perform Upsert\n",
        "delta_table.alias(\"target\").merge(\n",
        "    updates_df.alias(\"source\"),\n",
        "    \"target.id = source.id\"\n",
        ").whenMatchedUpdateAll().whenNotMatchedInsertAll().execute()\n",
        "\n",
        "# Check data again\n",
        "delta_table.toDF().show()"
      ],
      "metadata": {
        "colab": {
          "base_uri": "https://localhost:8080/"
        },
        "id": "5D0Y2IaTX8zo",
        "outputId": "56e4345c-9347-45a6-eb31-87a787bccaef"
      },
      "execution_count": 12,
      "outputs": [
        {
          "output_type": "stream",
          "name": "stdout",
          "text": [
            "+---+-------+-----------+-----+\n",
            "| id|   name|   category|price|\n",
            "+---+-------+-----------+-----+\n",
            "|  1|   Amit|Electronics|50000|\n",
            "|  2|  Priya|  Furniture| 4000|\n",
            "|  3|  Rahul| Stationery|  200|\n",
            "|  4|   Neha|      Books|  800|\n",
            "|  5|Karthik|Electronics|45000|\n",
            "|  6|  Sneha|    Kitchen| 1200|\n",
            "+---+-------+-----------+-----+\n",
            "\n"
          ]
        }
      ]
    },
    {
      "cell_type": "code",
      "source": [
        "# Reading versions (Time travel)\n",
        "\n",
        "# current version\n",
        "delta_table.toDF().show()\n",
        "\n",
        "# read previous version\n",
        "previous_df = spark.read.format(\"delta\").option(\"versionAsOf\", 0).load(\"products_delta\")\n",
        "previous_df.show()"
      ],
      "metadata": {
        "colab": {
          "base_uri": "https://localhost:8080/"
        },
        "id": "5Ude7UJoYDT9",
        "outputId": "0059c329-d936-4237-ab72-b7d7c532549f"
      },
      "execution_count": 14,
      "outputs": [
        {
          "output_type": "stream",
          "name": "stdout",
          "text": [
            "+---+-------+-----------+-----+\n",
            "| id|   name|   category|price|\n",
            "+---+-------+-----------+-----+\n",
            "|  1|   Amit|Electronics|50000|\n",
            "|  2|  Priya|  Furniture| 4000|\n",
            "|  3|  Rahul| Stationery|  200|\n",
            "|  4|   Neha|      Books|  800|\n",
            "|  5|Karthik|Electronics|45000|\n",
            "|  6|  Sneha|    Kitchen| 1200|\n",
            "+---+-------+-----------+-----+\n",
            "\n",
            "+---+-------+-----------+-----+\n",
            "| id|   name|   category|price|\n",
            "+---+-------+-----------+-----+\n",
            "|  1|   Amit|Electronics|50000|\n",
            "|  2|  Priya|  Furniture| 3000|\n",
            "|  3|  Rahul| Stationery|  200|\n",
            "|  4|   Neha|      Books|  800|\n",
            "|  5|Karthik|Electronics|45000|\n",
            "+---+-------+-----------+-----+\n",
            "\n"
          ]
        }
      ]
    },
    {
      "cell_type": "code",
      "source": [
        "# Partioning data\n",
        "\n",
        "df.write.format(\"delta\").mode(\"overwrite\").partitionBy(\"category\").save('/tmp/delta/products_partioned')"
      ],
      "metadata": {
        "id": "wNOKj4eNYFwz"
      },
      "execution_count": 15,
      "outputs": []
    },
    {
      "cell_type": "code",
      "source": [
        "spark.read.format(\"delta\").load(\"/tmp/delta/products_partioned\").show()"
      ],
      "metadata": {
        "colab": {
          "base_uri": "https://localhost:8080/"
        },
        "id": "CMyE2ULnYLLf",
        "outputId": "d9aa26fb-4e0b-4f9e-dd4c-5ffea712baf5"
      },
      "execution_count": 18,
      "outputs": [
        {
          "output_type": "stream",
          "name": "stdout",
          "text": [
            "+---+-------+-----------+-----+\n",
            "| id|   name|   category|price|\n",
            "+---+-------+-----------+-----+\n",
            "|  1|   Amit|Electronics|50000|\n",
            "|  5|Karthik|Electronics|45000|\n",
            "|  3|  Rahul| Stationery|  200|\n",
            "|  2|  Priya|  Furniture| 3000|\n",
            "|  4|   Neha|      Books|  800|\n",
            "+---+-------+-----------+-----+\n",
            "\n"
          ]
        }
      ]
    },
    {
      "cell_type": "code",
      "source": [],
      "metadata": {
        "id": "mm_IuUzlZnhA"
      },
      "execution_count": null,
      "outputs": []
    }
  ]
}