{
  "nbformat": 4,
  "nbformat_minor": 0,
  "metadata": {
    "colab": {
      "provenance": []
    },
    "kernelspec": {
      "name": "python3",
      "display_name": "Python 3"
    },
    "language_info": {
      "name": "python"
    }
  },
  "cells": [
    {
      "cell_type": "code",
      "source": [
        "!pip install pyspark==3.5.0 delta-spark==3.1.0"
      ],
      "metadata": {
        "colab": {
          "base_uri": "https://localhost:8080/"
        },
        "id": "fAdqEvRm1XWE",
        "outputId": "068b2b73-d904-459d-e94d-7cba67d07a47"
      },
      "execution_count": 1,
      "outputs": [
        {
          "output_type": "stream",
          "name": "stdout",
          "text": [
            "Collecting pyspark==3.5.0\n",
            "  Downloading pyspark-3.5.0.tar.gz (316.9 MB)\n",
            "\u001b[2K     \u001b[90m━━━━━━━━━━━━━━━━━━━━━━━━━━━━━━━━━━━━━━━\u001b[0m \u001b[32m316.9/316.9 MB\u001b[0m \u001b[31m4.1 MB/s\u001b[0m eta \u001b[36m0:00:00\u001b[0m\n",
            "\u001b[?25h  Preparing metadata (setup.py) ... \u001b[?25l\u001b[?25hdone\n",
            "Collecting delta-spark==3.1.0\n",
            "  Downloading delta_spark-3.1.0-py3-none-any.whl.metadata (1.9 kB)\n",
            "Requirement already satisfied: py4j==0.10.9.7 in /usr/local/lib/python3.11/dist-packages (from pyspark==3.5.0) (0.10.9.7)\n",
            "Requirement already satisfied: importlib-metadata>=1.0.0 in /usr/local/lib/python3.11/dist-packages (from delta-spark==3.1.0) (8.7.0)\n",
            "Requirement already satisfied: zipp>=3.20 in /usr/local/lib/python3.11/dist-packages (from importlib-metadata>=1.0.0->delta-spark==3.1.0) (3.23.0)\n",
            "Downloading delta_spark-3.1.0-py3-none-any.whl (21 kB)\n",
            "Building wheels for collected packages: pyspark\n",
            "  Building wheel for pyspark (setup.py) ... \u001b[?25l\u001b[?25hdone\n",
            "  Created wheel for pyspark: filename=pyspark-3.5.0-py2.py3-none-any.whl size=317425346 sha256=5e63cdb98b5182e9e0a980ea7ea534987a919dc71090824a7c990d3200abf165\n",
            "  Stored in directory: /root/.cache/pip/wheels/38/df/61/8c121f50c3cffd77f8178180dd232d90b3b99d1bd61fb6d6be\n",
            "Successfully built pyspark\n",
            "Installing collected packages: pyspark, delta-spark\n",
            "  Attempting uninstall: pyspark\n",
            "    Found existing installation: pyspark 3.5.1\n",
            "    Uninstalling pyspark-3.5.1:\n",
            "      Successfully uninstalled pyspark-3.5.1\n",
            "\u001b[31mERROR: pip's dependency resolver does not currently take into account all the packages that are installed. This behaviour is the source of the following dependency conflicts.\n",
            "dataproc-spark-connect 0.8.3 requires pyspark[connect]~=3.5.1, but you have pyspark 3.5.0 which is incompatible.\u001b[0m\u001b[31m\n",
            "\u001b[0mSuccessfully installed delta-spark-3.1.0 pyspark-3.5.0\n"
          ]
        }
      ]
    },
    {
      "cell_type": "code",
      "source": [
        "from pyspark.sql import SparkSession, functions as F, types as T\n",
        "from delta import configure_spark_with_delta_pip\n",
        "from datetime import datetime\n",
        "\n",
        "# Spark with Delta enabled\n",
        "builder = (\n",
        "    SparkSession.builder.appName(\"DeltaRideHailing\")\n",
        "    .config(\"spark.sql.extensions\", \"io.delta.sql.DeltaSparkSessionExtension\")\n",
        "    .config(\"spark.sql.catalog.spark_catalog\", \"org.apache.spark.sql.delta.catalog.DeltaCatalog\")\n",
        ")\n",
        "spark = configure_spark_with_delta_pip(builder).getOrCreate()\n",
        "\n",
        "# Schemas\n",
        "trip_schema = T.StructType([\n",
        "    T.StructField(\"trip_id\", T.IntegerType()),\n",
        "    T.StructField(\"rider_id\", T.StringType()),\n",
        "    T.StructField(\"driver_id\", T.StringType()),\n",
        "    T.StructField(\"city\", T.StringType()),\n",
        "    T.StructField(\"distance_km\", T.DoubleType()),\n",
        "    T.StructField(\"fare\", T.DoubleType()),\n",
        "    T.StructField(\"tip\", T.DoubleType()),\n",
        "    T.StructField(\"ts\", T.TimestampType())\n",
        "])\n",
        "\n",
        "driver_schema = T.StructType([\n",
        "    T.StructField(\"driver_id\", T.StringType()),\n",
        "    T.StructField(\"driver_name\", T.StringType()),\n",
        "    T.StructField(\"rating\", T.DoubleType()),\n",
        "    T.StructField(\"vehicle\", T.StringType())\n",
        "])\n",
        "\n",
        "# Rows using Python datetime\n",
        "trips_rows = [\n",
        "    (1001, \"R001\", \"D010\", \"Bengaluru\", 12.4, 320.0, 20.0, datetime(2025,8,8,8,5)),\n",
        "    (1002, \"R002\", \"D011\", \"Hyderabad\", 6.2, 150.0, 10.0, datetime(2025,8,8,8,15)),\n",
        "    (1003, \"R003\", \"D012\", \"Pune\", 3.5, 90.0, 0.0, datetime(2025,8,8,8,20)),\n",
        "    (1004, \"R001\", \"D010\", \"Bengaluru\", 18.9, 480.0, 25.0, datetime(2025,8,8,8,45)),\n",
        "    (1005, \"R004\", \"D013\", \"Chennai\", 10.0, 260.0, 15.0, datetime(2025,8,8,9,5)),\n",
        "    (1006, \"R005\", \"D012\", \"Pune\", 2.2, 70.0, 0.0, datetime(2025,8,8,9,10)),\n",
        "]\n",
        "\n",
        "drivers_rows = [\n",
        "    (\"D010\",\"Anil\", 4.8,\"WagonR\"),\n",
        "    (\"D011\",\"Sana\", 4.6,\"i20\"),\n",
        "    (\"D012\",\"Rakesh\", 4.4,\"Swift\"),\n",
        "    (\"D013\",\"Meera\", 4.9,\"Ciaz\")\n",
        "]\n",
        "\n",
        "# Create DataFrames\n",
        "trips_df = spark.createDataFrame(trips_rows, schema=trip_schema)\n",
        "drivers_df = spark.createDataFrame(drivers_rows, schema=driver_schema)\n",
        "\n",
        "# Save as Delta\n",
        "BASE = \"/tmp/delta/ride_hailing\"\n",
        "TRIPS_PATH = f\"{BASE}/trips\"\n",
        "DRIVERS_PATH = f\"{BASE}/drivers\"\n",
        "trips_df.write.format(\"delta\").mode(\"overwrite\").save(TRIPS_PATH)\n",
        "drivers_df.write.format(\"delta\").mode(\"overwrite\").save(DRIVERS_PATH)\n",
        "\n",
        "print(\"Seeded:\")\n",
        "print(\" Trips ->\", TRIPS_PATH)\n",
        "print(\" Drivers ->\", DRIVERS_PATH)\n"
      ],
      "metadata": {
        "colab": {
          "base_uri": "https://localhost:8080/"
        },
        "id": "cRVmMaFO9m5a",
        "outputId": "91032f4e-aba1-484e-d9d5-35bafcede378"
      },
      "execution_count": 76,
      "outputs": [
        {
          "output_type": "stream",
          "name": "stdout",
          "text": [
            "Seeded:\n",
            " Trips -> /tmp/delta/ride_hailing/trips\n",
            " Drivers -> /tmp/delta/ride_hailing/drivers\n"
          ]
        }
      ]
    },
    {
      "cell_type": "markdown",
      "source": [
        "1. Managed vs Unmanaged Tables\n"
      ],
      "metadata": {
        "id": "-Qr6SAFW80k6"
      }
    },
    {
      "cell_type": "code",
      "source": [
        "# Create a managed Delta table trips_managed by AS SELECT from the Delta path\n",
        "\n",
        "spark.sql(f\"create table trips_managed using delta as select * from delta.`{TRIPS_PATH}`\")\n",
        "\n"
      ],
      "metadata": {
        "colab": {
          "base_uri": "https://localhost:8080/"
        },
        "id": "KhX8I1-Rz9Tl",
        "outputId": "8c37e242-cf38-4ee2-eb73-f3cc8be7da15"
      },
      "execution_count": 5,
      "outputs": [
        {
          "output_type": "execute_result",
          "data": {
            "text/plain": [
              "DataFrame[]"
            ]
          },
          "metadata": {},
          "execution_count": 5
        }
      ]
    },
    {
      "cell_type": "code",
      "source": [
        "spark.sql(\"select * from trips_managed\").show()"
      ],
      "metadata": {
        "colab": {
          "base_uri": "https://localhost:8080/"
        },
        "id": "gwSGMy6--Yyv",
        "outputId": "cc59e093-7f42-4f68-94d6-c607fcdbf880"
      },
      "execution_count": 10,
      "outputs": [
        {
          "output_type": "stream",
          "name": "stdout",
          "text": [
            "+-------+--------+---------+---------+-----------+-----+----+-------------------+\n",
            "|trip_id|rider_id|driver_id|     city|distance_km| fare| tip|                 ts|\n",
            "+-------+--------+---------+---------+-----------+-----+----+-------------------+\n",
            "|   1001|    R001|     D010|Bengaluru|       12.4|320.0|20.0|2025-08-08 08:05:00|\n",
            "|   1002|    R002|     D011|Hyderabad|        6.2|150.0|10.0|2025-08-08 08:15:00|\n",
            "|   1003|    R003|     D012|     Pune|        3.5| 90.0| 0.0|2025-08-08 08:20:00|\n",
            "|   1004|    R001|     D010|Bengaluru|       18.9|480.0|25.0|2025-08-08 08:45:00|\n",
            "|   1005|    R004|     D013|  Chennai|       10.0|260.0|15.0|2025-08-08 09:05:00|\n",
            "|   1006|    R005|     D012|     Pune|        2.2| 70.0| 0.0|2025-08-08 09:10:00|\n",
            "+-------+--------+---------+---------+-----------+-----+----+-------------------+\n",
            "\n"
          ]
        }
      ]
    },
    {
      "cell_type": "code",
      "source": [
        "# Create an external (unmanaged) table drivers_ext that points to DRIVERS_PATH\n",
        "\n",
        "spark.sql(f\"create table drivers_ext using delta location '{DRIVERS_PATH}'\")"
      ],
      "metadata": {
        "colab": {
          "base_uri": "https://localhost:8080/"
        },
        "id": "PQLRon_9-uSx",
        "outputId": "c49b21ed-d678-43d6-e680-e38e9d10701f"
      },
      "execution_count": 11,
      "outputs": [
        {
          "output_type": "execute_result",
          "data": {
            "text/plain": [
              "DataFrame[]"
            ]
          },
          "metadata": {},
          "execution_count": 11
        }
      ]
    },
    {
      "cell_type": "code",
      "source": [
        "spark.sql(\"select * from drivers_ext\").show()"
      ],
      "metadata": {
        "colab": {
          "base_uri": "https://localhost:8080/"
        },
        "id": "8_PhmE_DBga8",
        "outputId": "843920f8-761b-4baf-8003-407ec43fcf21"
      },
      "execution_count": 12,
      "outputs": [
        {
          "output_type": "stream",
          "name": "stdout",
          "text": [
            "+---------+-----------+------+-------+\n",
            "|driver_id|driver_name|rating|vehicle|\n",
            "+---------+-----------+------+-------+\n",
            "|     D012|     Rakesh|   4.4|  Swift|\n",
            "|     D013|      Meera|   4.9|   Ciaz|\n",
            "|     D010|       Anil|   4.8| WagonR|\n",
            "|     D011|       Sana|   4.6|    i20|\n",
            "+---------+-----------+------+-------+\n",
            "\n"
          ]
        }
      ]
    },
    {
      "cell_type": "code",
      "source": [
        "# Verify locations with DESCRIBE DETAIL and explain the difference in your own words\n",
        "\n",
        "spark.sql(\"DESCRIBE DETAIL trips_managed\").show()"
      ],
      "metadata": {
        "colab": {
          "base_uri": "https://localhost:8080/"
        },
        "id": "-A-CCKJJBoRc",
        "outputId": "c914e65f-5866-4b36-b5f6-7dc8ca45d47e"
      },
      "execution_count": 13,
      "outputs": [
        {
          "output_type": "stream",
          "name": "stdout",
          "text": [
            "+------+--------------------+--------------------+-----------+--------------------+--------------------+--------------------+----------------+--------+-----------+----------+----------------+----------------+--------------------+\n",
            "|format|                  id|                name|description|            location|           createdAt|        lastModified|partitionColumns|numFiles|sizeInBytes|properties|minReaderVersion|minWriterVersion|       tableFeatures|\n",
            "+------+--------------------+--------------------+-----------+--------------------+--------------------+--------------------+----------------+--------+-----------+----------+----------------+----------------+--------------------+\n",
            "| delta|2c489e49-44f1-4d2...|spark_catalog.def...|       NULL|file:/content/spa...|2025-08-14 09:46:...|2025-08-14 09:46:...|              []|       2|       4536|        {}|               1|               2|[appendOnly, inva...|\n",
            "+------+--------------------+--------------------+-----------+--------------------+--------------------+--------------------+----------------+--------+-----------+----------+----------------+----------------+--------------------+\n",
            "\n"
          ]
        }
      ]
    },
    {
      "cell_type": "code",
      "source": [
        "spark.sql(\"DESCRIBE DETAIL trips_managed\").show()"
      ],
      "metadata": {
        "colab": {
          "base_uri": "https://localhost:8080/"
        },
        "id": "ejQHKwesCRgm",
        "outputId": "d4a0ab6c-79ba-4cc3-b61a-8ae08be4a3c1"
      },
      "execution_count": 14,
      "outputs": [
        {
          "output_type": "stream",
          "name": "stdout",
          "text": [
            "+------+--------------------+--------------------+-----------+--------------------+--------------------+--------------------+----------------+--------+-----------+----------+----------------+----------------+--------------------+\n",
            "|format|                  id|                name|description|            location|           createdAt|        lastModified|partitionColumns|numFiles|sizeInBytes|properties|minReaderVersion|minWriterVersion|       tableFeatures|\n",
            "+------+--------------------+--------------------+-----------+--------------------+--------------------+--------------------+----------------+--------+-----------+----------+----------------+----------------+--------------------+\n",
            "| delta|2c489e49-44f1-4d2...|spark_catalog.def...|       NULL|file:/content/spa...|2025-08-14 09:46:...|2025-08-14 09:46:...|              []|       2|       4536|        {}|               1|               2|[appendOnly, inva...|\n",
            "+------+--------------------+--------------------+-----------+--------------------+--------------------+--------------------+----------------+--------+-----------+----------+----------------+----------------+--------------------+\n",
            "\n"
          ]
        }
      ]
    },
    {
      "cell_type": "markdown",
      "source": [
        "Imp :- DESCRIBE DETAIL is used obtain metadata of a delta table."
      ],
      "metadata": {
        "id": "gRk8aNTxCZep"
      }
    },
    {
      "cell_type": "markdown",
      "source": [
        "2. Read & Explore"
      ],
      "metadata": {
        "id": "3PNFk4gwByAe"
      }
    },
    {
      "cell_type": "code",
      "source": [
        "# Read both tables, print schemas, and show 10 rows\n",
        "\n",
        "#spark.table() is used to retrivev registered table\n",
        "trips = spark.table(\"trips_managed\")\n",
        "\n",
        "trips.printSchema()\n",
        "\n",
        "trips.show(10)"
      ],
      "metadata": {
        "colab": {
          "base_uri": "https://localhost:8080/"
        },
        "id": "fmE_8tSfB1mZ",
        "outputId": "dd31110b-dc96-40a4-dc8f-f001fd023bc2"
      },
      "execution_count": 15,
      "outputs": [
        {
          "output_type": "stream",
          "name": "stdout",
          "text": [
            "root\n",
            " |-- trip_id: integer (nullable = true)\n",
            " |-- rider_id: string (nullable = true)\n",
            " |-- driver_id: string (nullable = true)\n",
            " |-- city: string (nullable = true)\n",
            " |-- distance_km: double (nullable = true)\n",
            " |-- fare: double (nullable = true)\n",
            " |-- tip: double (nullable = true)\n",
            " |-- ts: timestamp (nullable = true)\n",
            "\n",
            "+-------+--------+---------+---------+-----------+-----+----+-------------------+\n",
            "|trip_id|rider_id|driver_id|     city|distance_km| fare| tip|                 ts|\n",
            "+-------+--------+---------+---------+-----------+-----+----+-------------------+\n",
            "|   1001|    R001|     D010|Bengaluru|       12.4|320.0|20.0|2025-08-08 08:05:00|\n",
            "|   1002|    R002|     D011|Hyderabad|        6.2|150.0|10.0|2025-08-08 08:15:00|\n",
            "|   1003|    R003|     D012|     Pune|        3.5| 90.0| 0.0|2025-08-08 08:20:00|\n",
            "|   1004|    R001|     D010|Bengaluru|       18.9|480.0|25.0|2025-08-08 08:45:00|\n",
            "|   1005|    R004|     D013|  Chennai|       10.0|260.0|15.0|2025-08-08 09:05:00|\n",
            "|   1006|    R005|     D012|     Pune|        2.2| 70.0| 0.0|2025-08-08 09:10:00|\n",
            "+-------+--------+---------+---------+-----------+-----+----+-------------------+\n",
            "\n"
          ]
        }
      ]
    },
    {
      "cell_type": "code",
      "source": [
        "drivers = spark.table(\"drivers_ext\")\n",
        "\n",
        "drivers.printSchema()\n",
        "\n",
        "drivers.show(10)"
      ],
      "metadata": {
        "colab": {
          "base_uri": "https://localhost:8080/"
        },
        "id": "NzbyXHm-JdMc",
        "outputId": "813667cf-447f-4341-c347-bd0fd7767fc6"
      },
      "execution_count": 18,
      "outputs": [
        {
          "output_type": "stream",
          "name": "stdout",
          "text": [
            "root\n",
            " |-- driver_id: string (nullable = true)\n",
            " |-- driver_name: string (nullable = true)\n",
            " |-- rating: double (nullable = true)\n",
            " |-- vehicle: string (nullable = true)\n",
            "\n",
            "+---------+-----------+------+-------+\n",
            "|driver_id|driver_name|rating|vehicle|\n",
            "+---------+-----------+------+-------+\n",
            "|     D012|     Rakesh|   4.4|  Swift|\n",
            "|     D013|      Meera|   4.9|   Ciaz|\n",
            "|     D010|       Anil|   4.8| WagonR|\n",
            "|     D011|       Sana|   4.6|    i20|\n",
            "+---------+-----------+------+-------+\n",
            "\n"
          ]
        }
      ]
    },
    {
      "cell_type": "code",
      "source": [
        "# Compute a derived column total_amount = fare + tip and show top 5 trips by total_amount\n",
        "\n",
        "trips = trips.withColumn(\"total_amount\", F.col(\"fare\") + F.col(\"tip\"))\n",
        "trips.orderBy(F.col(\"total_amount\").desc()).show(5)"
      ],
      "metadata": {
        "colab": {
          "base_uri": "https://localhost:8080/"
        },
        "id": "NNV0vU9VJuJV",
        "outputId": "28c93bb6-54c0-4113-c136-024dcda47010"
      },
      "execution_count": 17,
      "outputs": [
        {
          "output_type": "stream",
          "name": "stdout",
          "text": [
            "+-------+--------+---------+---------+-----------+-----+----+-------------------+------------+\n",
            "|trip_id|rider_id|driver_id|     city|distance_km| fare| tip|                 ts|total_amount|\n",
            "+-------+--------+---------+---------+-----------+-----+----+-------------------+------------+\n",
            "|   1004|    R001|     D010|Bengaluru|       18.9|480.0|25.0|2025-08-08 08:45:00|       505.0|\n",
            "|   1001|    R001|     D010|Bengaluru|       12.4|320.0|20.0|2025-08-08 08:05:00|       340.0|\n",
            "|   1005|    R004|     D013|  Chennai|       10.0|260.0|15.0|2025-08-08 09:05:00|       275.0|\n",
            "|   1002|    R002|     D011|Hyderabad|        6.2|150.0|10.0|2025-08-08 08:15:00|       160.0|\n",
            "|   1003|    R003|     D012|     Pune|        3.5| 90.0| 0.0|2025-08-08 08:20:00|        90.0|\n",
            "+-------+--------+---------+---------+-----------+-----+----+-------------------+------------+\n",
            "only showing top 5 rows\n",
            "\n"
          ]
        }
      ]
    },
    {
      "cell_type": "markdown",
      "source": [
        "3. Update (Business Rule)"
      ],
      "metadata": {
        "id": "RCFQN5fyLPCU"
      }
    },
    {
      "cell_type": "code",
      "source": [
        "# Increase tip by 5 for trips in Bengaluru where distance_km > 15\n",
        "\n",
        "trips = trips.withColumn(\"tip\" ,\n",
        "                       F.when((F.col(\"city\") == \"Bengaluru\") & (F.col(\"distance_km\") > 15), F.col(\"tip\") + 5)\n",
        "                       .otherwise(F.col(\"tip\"))\n",
        "                       )\n"
      ],
      "metadata": {
        "id": "9xEZIVtkK-zq"
      },
      "execution_count": 21,
      "outputs": []
    },
    {
      "cell_type": "code",
      "source": [
        "# Show before/after for affected rows only\n",
        "before = trips.filter((F.col(\"city\") == \"Bengaluru\") & (F.col(\"distance_km\") > 15))\n",
        "before.show()\n",
        "\n",
        "after = trips.filter((F.col(\"city\") == \"Bengaluru\") & (F.col(\"distance_km\") > 15))\n",
        "after.show()"
      ],
      "metadata": {
        "colab": {
          "base_uri": "https://localhost:8080/"
        },
        "id": "oowTmq8MLtOn",
        "outputId": "d4b1c384-306b-452f-ab8f-1ab1ad6d5eec"
      },
      "execution_count": 22,
      "outputs": [
        {
          "output_type": "stream",
          "name": "stdout",
          "text": [
            "+-------+--------+---------+---------+-----------+-----+----+-------------------+------------+\n",
            "|trip_id|rider_id|driver_id|     city|distance_km| fare| tip|                 ts|total_amount|\n",
            "+-------+--------+---------+---------+-----------+-----+----+-------------------+------------+\n",
            "|   1004|    R001|     D010|Bengaluru|       18.9|480.0|35.0|2025-08-08 08:45:00|       505.0|\n",
            "+-------+--------+---------+---------+-----------+-----+----+-------------------+------------+\n",
            "\n",
            "+-------+--------+---------+---------+-----------+-----+----+-------------------+------------+\n",
            "|trip_id|rider_id|driver_id|     city|distance_km| fare| tip|                 ts|total_amount|\n",
            "+-------+--------+---------+---------+-----------+-----+----+-------------------+------------+\n",
            "|   1004|    R001|     D010|Bengaluru|       18.9|480.0|35.0|2025-08-08 08:45:00|       505.0|\n",
            "+-------+--------+---------+---------+-----------+-----+----+-------------------+------------+\n",
            "\n"
          ]
        }
      ]
    },
    {
      "cell_type": "markdown",
      "source": [
        "4. Delete (Data Quality)"
      ],
      "metadata": {
        "id": "r1TBix3mNnvj"
      }
    },
    {
      "cell_type": "code",
      "source": [
        "# Delete trips where fare <= 0 or distance_km <= 0 (simulate bad ingest)\n",
        "# Show remaining row count\n",
        "from delta.tables import DeltaTable\n",
        "from pyspark.sql import functions as F\n",
        "\n",
        "delta_trips = DeltaTable.forName(spark, \"trips_managed\")\n",
        "print(\"Before deletion:\", delta_trips.toDF().count())\n",
        "\n",
        "delta_trips.delete(condition=(F.col(\"fare\") <=0) | (F.col(\"distance_km\") <=0))\n",
        "\n",
        "print(\"After deletion:\", delta_trips.toDF().count())\n",
        "delta_trips.toDF().show()\n"
      ],
      "metadata": {
        "colab": {
          "base_uri": "https://localhost:8080/"
        },
        "id": "uHsN5qiRNXgT",
        "outputId": "2fd59f88-95df-4f90-e59f-1c71cb187541"
      },
      "execution_count": 29,
      "outputs": [
        {
          "output_type": "stream",
          "name": "stdout",
          "text": [
            "Before deletion: 6\n",
            "After deletion: 6\n",
            "+-------+--------+---------+---------+-----------+-----+----+-------------------+\n",
            "|trip_id|rider_id|driver_id|     city|distance_km| fare| tip|                 ts|\n",
            "+-------+--------+---------+---------+-----------+-----+----+-------------------+\n",
            "|   1001|    R001|     D010|Bengaluru|       12.4|320.0|20.0|2025-08-08 08:05:00|\n",
            "|   1002|    R002|     D011|Hyderabad|        6.2|150.0|10.0|2025-08-08 08:15:00|\n",
            "|   1003|    R003|     D012|     Pune|        3.5| 90.0| 0.0|2025-08-08 08:20:00|\n",
            "|   1004|    R001|     D010|Bengaluru|       18.9|480.0|25.0|2025-08-08 08:45:00|\n",
            "|   1005|    R004|     D013|  Chennai|       10.0|260.0|15.0|2025-08-08 09:05:00|\n",
            "|   1006|    R005|     D012|     Pune|        2.2| 70.0| 0.0|2025-08-08 09:10:00|\n",
            "+-------+--------+---------+---------+-----------+-----+----+-------------------+\n",
            "\n"
          ]
        }
      ]
    },
    {
      "cell_type": "markdown",
      "source": [
        "5. Merge (Upsert New Batch)\n"
      ],
      "metadata": {
        "id": "vvmvwUW9N1qV"
      }
    },
    {
      "cell_type": "code",
      "source": [
        "## Create a new inline batch with:\n",
        "# one existing trip_id (e.g., 1004) but a corrected fare or tip, and\n",
        "# one new trip (e.g., 1007). Perform a MERGE (match on trip_id ) to update the existing and insert the new.\n",
        "# Show rows for trip_id IN (1004,1007) to confirm\n",
        "\n",
        "from pyspark.sql import Row\n",
        "\n",
        "new_data = [\n",
        "    (1004, \"R001\", \"D010\", \"Bengaluru\", 18.9, 500.0, 30.0, \"2025-08-08 08:45:00\"),\n",
        "    (1007, \"R006\", \"D013\", \"Mumbai\", 7.5, 200.0, 20.0, \"2025-08-13 10:00:00\")\n",
        "]\n",
        "columns = [\"trip_id\", \"rider_id\", \"driver_id\", \"city\", \"distance_km\", \"fare\", \"tip\", \"ts\"]\n",
        "\n",
        "new_df = spark.createDataFrame(new_data, schema=columns)\n",
        "new_df = new_df.withColumn(\"ts\", F.col(\"ts\").cast(\"timestamp\"))\n",
        "\n",
        "delta_trips.alias(\"tgt\").merge( source= new_df.alias(\"src\"),\n",
        "                               condition = \"tgt.trip_id = src.trip_id\").whenMatchedUpdateAll().whenNotMatchedInsertAll().execute()\n",
        "\n",
        "spark.sql(\"select * from trips_managed where trip_id in (1004,1007)\").show()"
      ],
      "metadata": {
        "colab": {
          "base_uri": "https://localhost:8080/"
        },
        "id": "CqhYPeUoO5L8",
        "outputId": "f2cb8f7b-a51d-48a3-b4e7-35a4bf959f74"
      },
      "execution_count": 32,
      "outputs": [
        {
          "output_type": "stream",
          "name": "stdout",
          "text": [
            "+-------+--------+---------+---------+-----------+-----+----+-------------------+\n",
            "|trip_id|rider_id|driver_id|     city|distance_km| fare| tip|                 ts|\n",
            "+-------+--------+---------+---------+-----------+-----+----+-------------------+\n",
            "|   1004|    R001|     D010|Bengaluru|       18.9|500.0|30.0|2025-08-08 08:45:00|\n",
            "|   1007|    R006|     D013|   Mumbai|        7.5|200.0|20.0|2025-08-13 10:00:00|\n",
            "+-------+--------+---------+---------+-----------+-----+----+-------------------+\n",
            "\n"
          ]
        }
      ]
    },
    {
      "cell_type": "markdown",
      "source": [
        "6. Gold View (Join & KPIs)"
      ],
      "metadata": {
        "id": "MB87qSxMXchk"
      }
    },
    {
      "cell_type": "code",
      "source": [
        "# Join trips with drivers on driver_id\n",
        "\n",
        "delta_trips = DeltaTable.forName(spark, \"trips_managed\")\n",
        "delta_drivers = DeltaTable.forName(spark, \"drivers_ext\")\n",
        "\n",
        "df_trips = delta_trips.toDF()\n",
        "df_drivers = delta_drivers.toDF()\n",
        "\n",
        "df_gold = (df_trips.join(df_drivers, \"driver_id\").withColumn(\"total_amount\", F.col(\"fare\") + F.col(\"tip\"))\n",
        "          .select(\"trip_id\", \"city\", \"driver_name\", \"rating\", \"distance_km\", \"total_amount\", \"ts\"))\n",
        "\n",
        "df_gold.show()"
      ],
      "metadata": {
        "colab": {
          "base_uri": "https://localhost:8080/"
        },
        "id": "zQ1gp9GlVxr3",
        "outputId": "8dec165a-f673-4975-a343-45167604c2e1"
      },
      "execution_count": 34,
      "outputs": [
        {
          "output_type": "stream",
          "name": "stdout",
          "text": [
            "+-------+---------+-----------+------+-----------+------------+-------------------+\n",
            "|trip_id|     city|driver_name|rating|distance_km|total_amount|                 ts|\n",
            "+-------+---------+-----------+------+-----------+------------+-------------------+\n",
            "|   1004|Bengaluru|       Anil|   4.8|       18.9|       530.0|2025-08-08 08:45:00|\n",
            "|   1005|  Chennai|      Meera|   4.9|       10.0|       275.0|2025-08-08 09:05:00|\n",
            "|   1006|     Pune|     Rakesh|   4.4|        2.2|        70.0|2025-08-08 09:10:00|\n",
            "|   1007|   Mumbai|      Meera|   4.9|        7.5|       220.0|2025-08-13 10:00:00|\n",
            "|   1001|Bengaluru|       Anil|   4.8|       12.4|       340.0|2025-08-08 08:05:00|\n",
            "|   1002|Hyderabad|       Sana|   4.6|        6.2|       160.0|2025-08-08 08:15:00|\n",
            "|   1003|     Pune|     Rakesh|   4.4|        3.5|        90.0|2025-08-08 08:20:00|\n",
            "+-------+---------+-----------+------+-----------+------------+-------------------+\n",
            "\n"
          ]
        }
      ]
    },
    {
      "cell_type": "code",
      "source": [
        "# Create gold view\n",
        "\n",
        "df_gold.createOrReplaceTempView(\"gold_view\")\n",
        "\n",
        "# Compute city-wise total revenue and average driver rating\n",
        "city_kpi = df_gold.groupBy(\"city\").agg(F.sum(\"total_amount\").alias(\"total_revenue\"),F.avg(\"rating\").alias(\"avg_driver_rating\"))\n",
        "city_kpi.show()"
      ],
      "metadata": {
        "colab": {
          "base_uri": "https://localhost:8080/"
        },
        "id": "L7vc0uwzaC6e",
        "outputId": "803b9773-d6bb-4b4b-89b4-6f5b803cd49f"
      },
      "execution_count": 35,
      "outputs": [
        {
          "output_type": "stream",
          "name": "stdout",
          "text": [
            "+---------+-------------+-----------------+\n",
            "|     city|total_revenue|avg_driver_rating|\n",
            "+---------+-------------+-----------------+\n",
            "|  Chennai|        275.0|              4.9|\n",
            "|   Mumbai|        220.0|              4.9|\n",
            "|     Pune|        160.0|              4.4|\n",
            "|Bengaluru|        870.0|              4.8|\n",
            "|Hyderabad|        160.0|              4.6|\n",
            "+---------+-------------+-----------------+\n",
            "\n"
          ]
        }
      ]
    },
    {
      "cell_type": "code",
      "source": [
        "# Compute driver-wise total trips and top 3 drivers by revenue\n",
        "\n",
        "driver_kpi = df_gold.groupBy(\"driver_name\").agg(F.count(\"trip_id\").alias(\"total_trips\"), F.sum(\"total_amount\").alias(\"total_revenue\"))\n",
        "driver_kpi.orderBy(F.desc(\"total_revenue\")).show(3)"
      ],
      "metadata": {
        "colab": {
          "base_uri": "https://localhost:8080/"
        },
        "id": "mUZz-yR-bep7",
        "outputId": "c1b8e767-3e2e-4772-eebf-19c8f2c82e28"
      },
      "execution_count": 36,
      "outputs": [
        {
          "output_type": "stream",
          "name": "stdout",
          "text": [
            "+-----------+-----------+-------------+\n",
            "|driver_name|total_trips|total_revenue|\n",
            "+-----------+-----------+-------------+\n",
            "|       Anil|          2|        870.0|\n",
            "|      Meera|          2|        495.0|\n",
            "|     Rakesh|          2|        160.0|\n",
            "+-----------+-----------+-------------+\n",
            "only showing top 3 rows\n",
            "\n"
          ]
        }
      ]
    },
    {
      "cell_type": "markdown",
      "source": [
        "7. Time Travel & History"
      ],
      "metadata": {
        "id": "KK1b3toWdBAH"
      }
    },
    {
      "cell_type": "code",
      "source": [
        "# Show DESCRIBE HISTORY for the trips table (the one you updated/merged)\n",
        "\n",
        "spark.sql(\"DESCRIBE HISTORY trips_managed\").show()"
      ],
      "metadata": {
        "colab": {
          "base_uri": "https://localhost:8080/"
        },
        "id": "dRz2u8KRciTM",
        "outputId": "b5b59451-8b89-446f-e9ae-bbccb2ead1b3"
      },
      "execution_count": 38,
      "outputs": [
        {
          "output_type": "stream",
          "name": "stdout",
          "text": [
            "+-------+--------------------+------+--------+--------------------+--------------------+----+--------+---------+-----------+--------------+-------------+--------------------+------------+--------------------+\n",
            "|version|           timestamp|userId|userName|           operation| operationParameters| job|notebook|clusterId|readVersion|isolationLevel|isBlindAppend|    operationMetrics|userMetadata|          engineInfo|\n",
            "+-------+--------------------+------+--------+--------------------+--------------------+----+--------+---------+-----------+--------------+-------------+--------------------+------------+--------------------+\n",
            "|      1|2025-08-14 11:35:...|  NULL|    NULL|               MERGE|{predicate -> [\"(...|NULL|    NULL|     NULL|          0|  Serializable|        false|{numTargetRowsCop...|        NULL|Apache-Spark/3.5....|\n",
            "|      0|2025-08-14 09:46:...|  NULL|    NULL|CREATE TABLE AS S...|{isManaged -> tru...|NULL|    NULL|     NULL|       NULL|  Serializable|         true|{numFiles -> 2, n...|        NULL|Apache-Spark/3.5....|\n",
            "+-------+--------------------+------+--------+--------------------+--------------------+----+--------+---------+-----------+--------------+-------------+--------------------+------------+--------------------+\n",
            "\n"
          ]
        }
      ]
    },
    {
      "cell_type": "code",
      "source": [
        "# Read the table as of version 0, and compare counts and a few rows with the latest version\n",
        "\n",
        "delta_latest = delta_trips.toDF()\n",
        "\n",
        "df_v0 = spark.read.format(\"delta\").option(\"versionAsOf\", 0).table(\"trips_managed\")\n",
        "\n",
        "print(\"Count of latest version:\", delta_latest.count())\n",
        "print(\"Count of version 0:\", df_v0.count())\n"
      ],
      "metadata": {
        "colab": {
          "base_uri": "https://localhost:8080/"
        },
        "id": "1guXuA5qdJXH",
        "outputId": "a6ff8d50-ef3a-465a-c32b-f5b58a6e4464"
      },
      "execution_count": 39,
      "outputs": [
        {
          "output_type": "stream",
          "name": "stdout",
          "text": [
            "Count of latest version: 7\n",
            "Count of version 0: 6\n"
          ]
        }
      ]
    },
    {
      "cell_type": "markdown",
      "source": [
        "8. Partitioned Rewrite (Performance)"
      ],
      "metadata": {
        "id": "-wZZ6Mm6gxgD"
      }
    },
    {
      "cell_type": "code",
      "source": [
        "# Rewrite the trips table partitioned by city into a new Delta path\n",
        "BASE_PATH = \"/tmp/delta/ride_hailing\"\n",
        "PARTITIONED_PATH = f\"{BASE_PATH}/trips_partitioned\"\n",
        "\n",
        "delta_trips = DeltaTable.forName(spark, \"trips_managed\")\n",
        "df_trips = delta_trips.toDF()\n",
        "\n",
        "df_trips.write.format(\"delta\") \\\n",
        "    .mode(\"overwrite\") \\\n",
        "    .partitionBy(\"city\") \\\n",
        "    .save(PARTITIONED_PATH)\n",
        "\n"
      ],
      "metadata": {
        "id": "Br5trK90gtr9"
      },
      "execution_count": 40,
      "outputs": []
    },
    {
      "cell_type": "code",
      "source": [
        "# Compare file layout (optional: list files) and run a simple filter city='Bengaluru' to observe read behavior/time\n",
        "import os\n",
        "import time\n",
        "\n",
        "BASE_PATH = \"/tmp/delta/ride_hailing/trips\"\n",
        "print(\"Non-partitioned table files:\")\n",
        "for root, dirs, files in os.walk(BASE_PATH):\n",
        "    print(root, files)\n",
        "\n",
        "PARTITIONED_PATH = \"/tmp/delta/ride_hailing/trips_partitioned\"\n",
        "print(\"Partitioned table files:\")\n",
        "for root, dirs, files in os.walk(PARTITIONED_PATH):\n",
        "    print(root, files)\n",
        "\n",
        "df_nonpart = spark.read.format(\"delta\").load(BASE_PATH)\n",
        "\n",
        "start = time.time()\n",
        "df_nonpart.filter(F.col(\"city\") == \"Bengaluru\").show()\n",
        "end = time.time()\n",
        "print(\"Non-partitioned read time:\", end - start, \"seconds\")\n",
        "\n",
        "df_part = spark.read.format(\"delta\").load(PARTITIONED_PATH)\n",
        "\n",
        "start = time.time()\n",
        "df_part.filter(F.col(\"city\") == \"Bengaluru\").show()\n",
        "end = time.time()\n",
        "print(\"Partitioned read time:\", end - start, \"seconds\")\n",
        "\n"
      ],
      "metadata": {
        "colab": {
          "base_uri": "https://localhost:8080/"
        },
        "id": "hUNebiSDhOIw",
        "outputId": "e080207d-fd14-476e-a3ba-9effd3d4ca78"
      },
      "execution_count": 42,
      "outputs": [
        {
          "output_type": "stream",
          "name": "stdout",
          "text": [
            "Non-partitioned table files:\n",
            "/tmp/delta/ride_hailing/trips ['.part-00000-4b89a2c8-cbcc-4180-98a7-cc9c812340c6-c000.snappy.parquet.crc', '.part-00001-0ac4b393-698b-43ac-b49f-6eed03344d67-c000.snappy.parquet.crc', 'part-00000-4b89a2c8-cbcc-4180-98a7-cc9c812340c6-c000.snappy.parquet', 'part-00001-0ac4b393-698b-43ac-b49f-6eed03344d67-c000.snappy.parquet']\n",
            "/tmp/delta/ride_hailing/trips/_delta_log ['.00000000000000000000.json.crc', '00000000000000000000.json']\n",
            "Partitioned table files:\n",
            "/tmp/delta/ride_hailing/trips_partitioned []\n",
            "/tmp/delta/ride_hailing/trips_partitioned/_delta_log ['.00000000000000000000.json.crc', '00000000000000000000.json']\n",
            "/tmp/delta/ride_hailing/trips_partitioned/city=Chennai ['part-00000-00c2aaac-3050-4075-8d9f-5f08dd201aa7.c000.snappy.parquet', '.part-00000-00c2aaac-3050-4075-8d9f-5f08dd201aa7.c000.snappy.parquet.crc']\n",
            "/tmp/delta/ride_hailing/trips_partitioned/city=Mumbai ['.part-00000-c33a76d5-14e2-4ffd-aaab-9b68f58b6ce5.c000.snappy.parquet.crc', 'part-00000-c33a76d5-14e2-4ffd-aaab-9b68f58b6ce5.c000.snappy.parquet']\n",
            "/tmp/delta/ride_hailing/trips_partitioned/city=Hyderabad ['.part-00001-c8adcc66-e187-44a3-a7e6-19b56d685f32.c000.snappy.parquet.crc', 'part-00001-c8adcc66-e187-44a3-a7e6-19b56d685f32.c000.snappy.parquet']\n",
            "/tmp/delta/ride_hailing/trips_partitioned/city=Bengaluru ['part-00000-4807ff54-054f-472b-ad3d-72d66f036b03.c000.snappy.parquet', '.part-00000-4807ff54-054f-472b-ad3d-72d66f036b03.c000.snappy.parquet.crc', 'part-00001-4fe2fac8-84c6-4120-980a-fccd3b9965ec.c000.snappy.parquet', '.part-00001-4fe2fac8-84c6-4120-980a-fccd3b9965ec.c000.snappy.parquet.crc']\n",
            "/tmp/delta/ride_hailing/trips_partitioned/city=Pune ['part-00001-00229633-e7b9-42fb-bb3a-a0eae25a7fe1.c000.snappy.parquet', '.part-00000-12b48670-55b5-46d0-b808-3193a16bc927.c000.snappy.parquet.crc', '.part-00001-00229633-e7b9-42fb-bb3a-a0eae25a7fe1.c000.snappy.parquet.crc', 'part-00000-12b48670-55b5-46d0-b808-3193a16bc927.c000.snappy.parquet']\n",
            "+-------+--------+---------+---------+-----------+-----+----+-------------------+\n",
            "|trip_id|rider_id|driver_id|     city|distance_km| fare| tip|                 ts|\n",
            "+-------+--------+---------+---------+-----------+-----+----+-------------------+\n",
            "|   1001|    R001|     D010|Bengaluru|       12.4|320.0|20.0|2025-08-08 08:05:00|\n",
            "|   1004|    R001|     D010|Bengaluru|       18.9|480.0|25.0|2025-08-08 08:45:00|\n",
            "+-------+--------+---------+---------+-----------+-----+----+-------------------+\n",
            "\n",
            "Non-partitioned read time: 7.348243713378906 seconds\n",
            "+-------+--------+---------+---------+-----------+-----+----+-------------------+\n",
            "|trip_id|rider_id|driver_id|     city|distance_km| fare| tip|                 ts|\n",
            "+-------+--------+---------+---------+-----------+-----+----+-------------------+\n",
            "|   1004|    R001|     D010|Bengaluru|       18.9|500.0|30.0|2025-08-08 08:45:00|\n",
            "|   1001|    R001|     D010|Bengaluru|       12.4|320.0|20.0|2025-08-08 08:05:00|\n",
            "+-------+--------+---------+---------+-----------+-----+----+-------------------+\n",
            "\n",
            "Partitioned read time: 2.155836343765259 seconds\n"
          ]
        }
      ]
    },
    {
      "cell_type": "markdown",
      "source": [
        "9. Incremental Load Simulation"
      ],
      "metadata": {
        "id": "j4fT9WdCh-om"
      }
    },
    {
      "cell_type": "code",
      "source": [
        "#\n",
        "from pyspark.sql.types import IntegerType, DoubleType, TimestampType\n",
        "\n",
        "incremental_data = [\n",
        "    (1008, \"R007\", \"D010\", \"Mumbai\", 12.0, 300.0, 15.0, \"2025-08-14 12:00:00\"),\n",
        "    (1009, \"R008\", \"D011\", \"Mumbai\", 8.5, 200.0, 10.0, \"2025-08-14 12:30:00\")\n",
        "]\n",
        "\n",
        "columns = [\"trip_id\", \"rider_id\", \"driver_id\", \"city\", \"distance_km\", \"fare\", \"tip\", \"ts\"]\n",
        "\n",
        "incremental_df = spark.createDataFrame(incremental_data, columns) \\\n",
        "                      .withColumn(\"ts\", F.col(\"ts\").cast(\"timestamp\"))\n",
        "\n",
        "incremental_df = incremental_df.select(\n",
        "    F.col(\"trip_id\").cast(IntegerType()),\n",
        "    F.col(\"rider_id\"),\n",
        "    F.col(\"driver_id\"),\n",
        "    F.col(\"city\"),\n",
        "    F.col(\"distance_km\").cast(DoubleType()),\n",
        "    F.col(\"fare\").cast(DoubleType()),\n",
        "    F.col(\"tip\").cast(DoubleType()),\n",
        "    F.col(\"ts\").cast(TimestampType())\n",
        ")\n",
        "\n",
        "delta_trips = DeltaTable.forName(spark, \"trips_managed\")\n",
        "\n",
        "incremental_df.write.format(\"delta\").mode(\"append\").saveAsTable(\"trips_managed\")\n",
        "\n",
        "df_trips = delta_trips.toDF()\n",
        "df_trips.withColumn(\"total_amount\", F.col(\"fare\") + F.col(\"tip\")) \\\n",
        "        .groupBy(\"city\") \\\n",
        "        .agg(\n",
        "            F.sum(\"total_amount\").alias(\"city_total_revenue\"),\n",
        "            F.avg(\"fare\").alias(\"city_avg_fare\")\n",
        "        ).show()"
      ],
      "metadata": {
        "colab": {
          "base_uri": "https://localhost:8080/"
        },
        "id": "6GJ-iQs0h1yo",
        "outputId": "b2d5436c-e49a-47fc-b4d4-12901edd396f"
      },
      "execution_count": 46,
      "outputs": [
        {
          "output_type": "stream",
          "name": "stdout",
          "text": [
            "+---------+------------------+------------------+\n",
            "|     city|city_total_revenue|     city_avg_fare|\n",
            "+---------+------------------+------------------+\n",
            "|  Chennai|             275.0|             260.0|\n",
            "|   Mumbai|             745.0|233.33333333333334|\n",
            "|     Pune|             160.0|              80.0|\n",
            "|Bengaluru|             870.0|             410.0|\n",
            "|Hyderabad|             160.0|             150.0|\n",
            "+---------+------------------+------------------+\n",
            "\n"
          ]
        }
      ]
    },
    {
      "cell_type": "markdown",
      "source": [
        "10. Simple Streaming (File Streaming - Console)"
      ],
      "metadata": {
        "id": "RtLrCD1njeFu"
      }
    },
    {
      "cell_type": "code",
      "source": [
        "# Start a structured stream that reads Delta from TRIPS_PATH in readStream mode and writes to console (append)\n",
        "\n",
        "df_stream = spark.readStream.format(\"delta\").load(TRIPS_PATH)\n",
        "query = (df_stream.writeStream.format(\"console\").outputMode(\"append\").trigger(processingTime='5 seconds').start())\n",
        "time.sleep(5)"
      ],
      "metadata": {
        "id": "Yife5wYIinu4"
      },
      "execution_count": 48,
      "outputs": []
    },
    {
      "cell_type": "code",
      "source": [
        "# While the stream runs, append another tiny batch (e.g., one more Mumbai trip) and observe the new row displayed\n",
        "from pyspark.sql import functions as F\n",
        "from pyspark.sql import types as T\n",
        "import time\n",
        "\n",
        "new_trip = [\n",
        "    (1010, \"R007\", \"D014\", \"Mumbai\", 8.0, 220.0, 15.0, \"2025-08-14 11:00:00\")\n",
        "]\n",
        "columns = [\"trip_id\", \"rider_id\", \"driver_id\", \"city\", \"distance_km\", \"fare\", \"tip\", \"ts\"]\n",
        "new_df = spark.createDataFrame(new_trip, columns)\n",
        "new_df = new_df.withColumn(\"ts\", F.col(\"ts\").cast(\"timestamp\"))\n",
        "new_df = new_df.withColumn(\"trip_id\", F.col(\"trip_id\").cast(T.IntegerType()))\n",
        "# Append to the Delta table path\n",
        "new_df.write.format(\"delta\").mode(\"append\").save(TRIPS_PATH)\n",
        "\n",
        "time.sleep(10)\n",
        "\n",
        "query.stop()\n"
      ],
      "metadata": {
        "id": "7RTXsAFBjs0v"
      },
      "execution_count": 54,
      "outputs": []
    },
    {
      "cell_type": "markdown",
      "source": [
        "10. Visualization"
      ],
      "metadata": {
        "id": "aXct8QKZl9iq"
      }
    },
    {
      "cell_type": "code",
      "source": [
        "# Convert the gold view results (city revenue) to Pandas and plot a bar chart of city vs total revenue\n",
        "import matplotlib.pyplot as plt\n",
        "\n",
        "city_kpi_df =city_kpi.toPandas()\n",
        "\n",
        "plt.figure(figsize=(8,5))\n",
        "plt.bar(city_kpi_df['city'], city_kpi_df['total_revenue'], color='skyblue')\n",
        "plt.xlabel(\"City\")\n",
        "plt.ylabel(\"Total Revenue\")\n",
        "plt.show()\n"
      ],
      "metadata": {
        "colab": {
          "base_uri": "https://localhost:8080/",
          "height": 465
        },
        "id": "RrwxdyF7lEyZ",
        "outputId": "e498e310-11b0-49ae-9283-2b0600ab2a5f"
      },
      "execution_count": 56,
      "outputs": [
        {
          "output_type": "display_data",
          "data": {
            "text/plain": [
              "<Figure size 800x500 with 1 Axes>"
            ],
            "image/png": "[encoded data removed]"
          },
          "metadata": {}
        }
      ]
    },
    {
      "cell_type": "code",
      "source": [
        "# Plot a line chart of hourly revenue: group by hour(ts) and sum total_amount\n",
        "from pyspark.sql.functions import hour\n",
        "\n",
        "hourly_revenue = df_gold.withColumn(\"hour\", hour(\"ts\")) \\\n",
        "                        .groupBy(\"hour\") \\\n",
        "                        .agg(F.sum(\"total_amount\").alias(\"hourly_revenue\")) \\\n",
        "                        .orderBy(\"hour\")\n",
        "\n",
        "hourly_revenue_pdf = hourly_revenue.toPandas()\n",
        "\n",
        "plt.figure(figsize=(10,5))\n",
        "plt.plot(hourly_revenue_pdf['hour'], hourly_revenue_pdf['hourly_revenue'], marker='o', color='blue')\n",
        "plt.title(\"Hourly Revenue\")\n",
        "plt.xlabel(\"Hour of Day\")\n",
        "plt.ylabel(\"Total Revenue\")\n",
        "plt.xticks(hourly_revenue_pdf['hour'])\n",
        "plt.grid(True)\n",
        "plt.show()"
      ],
      "metadata": {
        "colab": {
          "base_uri": "https://localhost:8080/",
          "height": 487
        },
        "id": "gSRiQ5ZUnIW_",
        "outputId": "0753affc-3dc6-48d2-a6e4-297942b08a69"
      },
      "execution_count": 58,
      "outputs": [
        {
          "output_type": "display_data",
          "data": {
            "text/plain": [
              "<Figure size 1000x500 with 1 Axes>"
            ],
            "image/png": "[encoded data removed]"
          },
          "metadata": {}
        }
      ]
    },
    {
      "cell_type": "markdown",
      "source": [
        "12. Managed vs Unmanaged Cleanup"
      ],
      "metadata": {
        "id": "NKH3kVETn3tT"
      }
    },
    {
      "cell_type": "code",
      "source": [
        "# DROP TABLE the managed and unmanaged tables; verify:\n",
        "\n",
        "spark.sql(\"drop table trips_managed\")\n",
        "spark.sql(\"drop table drivers_ext\")\n"
      ],
      "metadata": {
        "colab": {
          "base_uri": "https://localhost:8080/"
        },
        "id": "4HXpOcGtnnhX",
        "outputId": "f4372063-3363-4f27-d8df-852f8fd788d4"
      },
      "execution_count": 59,
      "outputs": [
        {
          "output_type": "execute_result",
          "data": {
            "text/plain": [
              "DataFrame[]"
            ]
          },
          "metadata": {},
          "execution_count": 59
        }
      ]
    },
    {
      "cell_type": "code",
      "source": [
        "spark.sql(\"show tables\").show()"
      ],
      "metadata": {
        "colab": {
          "base_uri": "https://localhost:8080/"
        },
        "id": "KCqmD0ZAooKC",
        "outputId": "27b59412-daf6-417a-8563-37666290359c"
      },
      "execution_count": 60,
      "outputs": [
        {
          "output_type": "stream",
          "name": "stdout",
          "text": [
            "+---------+---------+-----------+\n",
            "|namespace|tableName|isTemporary|\n",
            "+---------+---------+-----------+\n",
            "|         |gold_view|      false|\n",
            "+---------+---------+-----------+\n",
            "\n"
          ]
        }
      ]
    },
    {
      "cell_type": "code",
      "source": [
        "!ls /tmp/delta/ride_hailing/drivers"
      ],
      "metadata": {
        "colab": {
          "base_uri": "https://localhost:8080/"
        },
        "id": "wLd3kWGPo1Gh",
        "outputId": "83781635-4493-4c5e-d58e-4ab3eb44e249"
      },
      "execution_count": 62,
      "outputs": [
        {
          "output_type": "stream",
          "name": "stdout",
          "text": [
            "_delta_log\n",
            "part-00000-c6234e8f-d0fd-4bef-b344-ca2acda9db3a-c000.snappy.parquet\n",
            "part-00001-9db13439-b007-4acb-a427-8dc252ae61a8-c000.snappy.parquet\n"
          ]
        }
      ]
    },
    {
      "cell_type": "code",
      "source": [
        "spark.sql(\"DESCRIBE DETAIL trips_managed\").show()\n"
      ],
      "metadata": {
        "colab": {
          "base_uri": "https://localhost:8080/",
          "height": 356
        },
        "id": "h_KFKREYo5L4",
        "outputId": "4db98579-1517-4412-e8f8-db515b9d5192"
      },
      "execution_count": 63,
      "outputs": [
        {
          "output_type": "error",
          "ename": "AnalysisException",
          "evalue": "[TABLE_OR_VIEW_NOT_FOUND] The table or view `trips_managed` cannot be found. Verify the spelling and correctness of the schema and catalog.\nIf you did not qualify the name with a schema, verify the current_schema() output, or qualify the name with the correct schema and catalog.\nTo tolerate the error on drop use DROP VIEW IF EXISTS or DROP TABLE IF EXISTS.; line 1 pos 0;\n'DescribeDeltaDetailCommand\n+- 'UnresolvedTable [trips_managed], DESCRIBE DETAIL\n",
          "traceback": [
            "\u001b[0;31m---------------------------------------------------------------------------\u001b[0m",
            "\u001b[0;31mAnalysisException\u001b[0m                         Traceback (most recent call last)",
            "\u001b[0;32m/tmp/ipython-input-1551957015.py\u001b[0m in \u001b[0;36m<cell line: 0>\u001b[0;34m()\u001b[0m\n\u001b[0;32m----> 1\u001b[0;31m \u001b[0mspark\u001b[0m\u001b[0;34m.\u001b[0m\u001b[0msql\u001b[0m\u001b[0;34m(\u001b[0m\u001b[0;34m\"DESCRIBE DETAIL trips_managed\"\u001b[0m\u001b[0;34m)\u001b[0m\u001b[0;34m.\u001b[0m\u001b[0mselect\u001b[0m\u001b[0;34m(\u001b[0m\u001b[0;34m\"location\"\u001b[0m\u001b[0;34m)\u001b[0m\u001b[0;34m.\u001b[0m\u001b[0mshow\u001b[0m\u001b[0;34m(\u001b[0m\u001b[0mtruncate\u001b[0m\u001b[0;34m=\u001b[0m\u001b[0;32mFalse\u001b[0m\u001b[0;34m)\u001b[0m\u001b[0;34m\u001b[0m\u001b[0;34m\u001b[0m\u001b[0m\n\u001b[0m",
            "\u001b[0;32m/usr/local/lib/python3.11/dist-packages/pyspark/sql/session.py\u001b[0m in \u001b[0;36msql\u001b[0;34m(self, sqlQuery, args, **kwargs)\u001b[0m\n\u001b[1;32m   1629\u001b[0m                     \u001b[0;34m[\u001b[0m\u001b[0m_to_java_column\u001b[0m\u001b[0;34m(\u001b[0m\u001b[0mlit\u001b[0m\u001b[0;34m(\u001b[0m\u001b[0mv\u001b[0m\u001b[0;34m)\u001b[0m\u001b[0;34m)\u001b[0m \u001b[0;32mfor\u001b[0m \u001b[0mv\u001b[0m \u001b[0;32min\u001b[0m \u001b[0;34m(\u001b[0m\u001b[0margs\u001b[0m \u001b[0;32mor\u001b[0m \u001b[0;34m[\u001b[0m\u001b[0;34m]\u001b[0m\u001b[0;34m)\u001b[0m\u001b[0;34m]\u001b[0m\u001b[0;34m\u001b[0m\u001b[0;34m\u001b[0m\u001b[0m\n\u001b[1;32m   1630\u001b[0m                 )\n\u001b[0;32m-> 1631\u001b[0;31m             \u001b[0;32mreturn\u001b[0m \u001b[0mDataFrame\u001b[0m\u001b[0;34m(\u001b[0m\u001b[0mself\u001b[0m\u001b[0;34m.\u001b[0m\u001b[0m_jsparkSession\u001b[0m\u001b[0;34m.\u001b[0m\u001b[0msql\u001b[0m\u001b[0;34m(\u001b[0m\u001b[0msqlQuery\u001b[0m\u001b[0;34m,\u001b[0m \u001b[0mlitArgs\u001b[0m\u001b[0;34m)\u001b[0m\u001b[0;34m,\u001b[0m \u001b[0mself\u001b[0m\u001b[0;34m)\u001b[0m\u001b[0;34m\u001b[0m\u001b[0;34m\u001b[0m\u001b[0m\n\u001b[0m\u001b[1;32m   1632\u001b[0m         \u001b[0;32mfinally\u001b[0m\u001b[0;34m:\u001b[0m\u001b[0;34m\u001b[0m\u001b[0;34m\u001b[0m\u001b[0m\n\u001b[1;32m   1633\u001b[0m             \u001b[0;32mif\u001b[0m \u001b[0mlen\u001b[0m\u001b[0;34m(\u001b[0m\u001b[0mkwargs\u001b[0m\u001b[0;34m)\u001b[0m \u001b[0;34m>\u001b[0m \u001b[0;36m0\u001b[0m\u001b[0;34m:\u001b[0m\u001b[0;34m\u001b[0m\u001b[0;34m\u001b[0m\u001b[0m\n",
            "\u001b[0;32m/usr/local/lib/python3.11/dist-packages/py4j/java_gateway.py\u001b[0m in \u001b[0;36m__call__\u001b[0;34m(self, *args)\u001b[0m\n\u001b[1;32m   1320\u001b[0m \u001b[0;34m\u001b[0m\u001b[0m\n\u001b[1;32m   1321\u001b[0m         \u001b[0manswer\u001b[0m \u001b[0;34m=\u001b[0m \u001b[0mself\u001b[0m\u001b[0;34m.\u001b[0m\u001b[0mgateway_client\u001b[0m\u001b[0;34m.\u001b[0m\u001b[0msend_command\u001b[0m\u001b[0;34m(\u001b[0m\u001b[0mcommand\u001b[0m\u001b[0;34m)\u001b[0m\u001b[0;34m\u001b[0m\u001b[0;34m\u001b[0m\u001b[0m\n\u001b[0;32m-> 1322\u001b[0;31m         return_value = get_return_value(\n\u001b[0m\u001b[1;32m   1323\u001b[0m             answer, self.gateway_client, self.target_id, self.name)\n\u001b[1;32m   1324\u001b[0m \u001b[0;34m\u001b[0m\u001b[0m\n",
            "\u001b[0;32m/usr/local/lib/python3.11/dist-packages/pyspark/errors/exceptions/captured.py\u001b[0m in \u001b[0;36mdeco\u001b[0;34m(*a, **kw)\u001b[0m\n\u001b[1;32m    183\u001b[0m                 \u001b[0;31m# Hide where the exception came from that shows a non-Pythonic\u001b[0m\u001b[0;34m\u001b[0m\u001b[0;34m\u001b[0m\u001b[0m\n\u001b[1;32m    184\u001b[0m                 \u001b[0;31m# JVM exception message.\u001b[0m\u001b[0;34m\u001b[0m\u001b[0;34m\u001b[0m\u001b[0m\n\u001b[0;32m--> 185\u001b[0;31m                 \u001b[0;32mraise\u001b[0m \u001b[0mconverted\u001b[0m \u001b[0;32mfrom\u001b[0m \u001b[0;32mNone\u001b[0m\u001b[0;34m\u001b[0m\u001b[0;34m\u001b[0m\u001b[0m\n\u001b[0m\u001b[1;32m    186\u001b[0m             \u001b[0;32melse\u001b[0m\u001b[0;34m:\u001b[0m\u001b[0;34m\u001b[0m\u001b[0;34m\u001b[0m\u001b[0m\n\u001b[1;32m    187\u001b[0m                 \u001b[0;32mraise\u001b[0m\u001b[0;34m\u001b[0m\u001b[0;34m\u001b[0m\u001b[0m\n",
            "\u001b[0;31mAnalysisException\u001b[0m: [TABLE_OR_VIEW_NOT_FOUND] The table or view `trips_managed` cannot be found. Verify the spelling and correctness of the schema and catalog.\nIf you did not qualify the name with a schema, verify the current_schema() output, or qualify the name with the correct schema and catalog.\nTo tolerate the error on drop use DROP VIEW IF EXISTS or DROP TABLE IF EXISTS.; line 1 pos 0;\n'DescribeDeltaDetailCommand\n+- 'UnresolvedTable [trips_managed], DESCRIBE DETAIL\n"
          ]
        }
      ]
    },
    {
      "cell_type": "markdown",
      "source": [
        "13. Constraint/Quality check (optional)"
      ],
      "metadata": {
        "id": "DmB9HnTZp4wI"
      }
    },
    {
      "cell_type": "code",
      "source": [
        "from pyspark.sql import functions as F\n",
        "from pyspark.sql import types as T\n",
        "\n",
        "bad_data = [\n",
        "    (1011, \"R008\", \"D015\", \"Delhi\", 5.0, 150.0, -5.0, \"2025-08-14 12:00:00\"),  # tip < 0\n",
        "    (1012, \"R009\", \"D016\", \"Kolkata\", 7.0, 200.0, 10.0, \"2025-08-14 12:30:00\") # valid row\n",
        "]\n",
        "\n",
        "columns = [\"trip_id\", \"rider_id\", \"driver_id\", \"city\", \"distance_km\", \"fare\", \"tip\", \"ts\"]\n",
        "\n",
        "new_df = spark.createDataFrame(bad_data, columns)\n",
        "new_df = new_df.withColumn(\"ts\", F.col(\"ts\").cast(\"timestamp\"))\n",
        "new_df = new_df.withColumn(\"trip_id\", F.col(\"trip_id\").cast(T.IntegerType()))\n",
        "clean_df = new_df.filter(F.col(\"tip\") >= 0)\n",
        "\n",
        "clean_df.write.format(\"delta\").mode(\"append\").save(TRIPS_PATH)\n",
        "\n",
        "spark.read.format(\"delta\").load(TRIPS_PATH).filter(F.col(\"trip_id\").isin(1011, 1012)).show()\n"
      ],
      "metadata": {
        "colab": {
          "base_uri": "https://localhost:8080/"
        },
        "id": "ZrivreK2put3",
        "outputId": "448c7bfe-7325-4d8c-f3fc-1786cacac8d6"
      },
      "execution_count": 65,
      "outputs": [
        {
          "output_type": "stream",
          "name": "stdout",
          "text": [
            "+-------+--------+---------+-------+-----------+-----+----+-------------------+\n",
            "|trip_id|rider_id|driver_id|   city|distance_km| fare| tip|                 ts|\n",
            "+-------+--------+---------+-------+-----------+-----+----+-------------------+\n",
            "|   1012|    R009|     D016|Kolkata|        7.0|200.0|10.0|2025-08-14 12:30:00|\n",
            "+-------+--------+---------+-------+-----------+-----+----+-------------------+\n",
            "\n"
          ]
        }
      ]
    },
    {
      "cell_type": "markdown",
      "source": [
        "14. Convert Parquet - Delta (Optional)"
      ],
      "metadata": {
        "id": "Lsiqn7oR4cGC"
      }
    },
    {
      "cell_type": "code",
      "source": [
        "# Save a small subset of trips as Parquet in a new folder and CONVERT TO DELTA\n",
        "\n",
        "data = [(1001,\"R001\",\"D010\",\"Bengaluru\",12.4,320.0,20.0,\"2025-08-08 08:05:00\"),\n",
        "        (1002,\"R002\",\"D011\",\"Hyderabad\",6.2,150.0,10.0,\"2025-08-08 08:15:00\"),\n",
        "        (1003,\"R003\",\"D012\",\"Pune\",3.5,90.0,0.0,\"2025-08-08 08:20:00\")]\n",
        "\n",
        "columns = [\"trip_id\",\"rider_id\",\"driver_id\",\"city\",\"distance_km\",\"fare\",\"tip\",\"ts\"]\n",
        "\n",
        "df = spark.createDataFrame(data, columns)\n",
        "df = df.withColumn(\"ts\", F.col(\"ts\").cast(\"timestamp\"))\n",
        "\n",
        "PARQUET_PATH = \"/tmp/trips_parquet\"\n",
        "df.write.format(\"parquet\").mode(\"overwrite\").save(PARQUET_PATH)\n",
        "print(\"Saved as Parquet at:\", PARQUET_PATH)\n",
        "\n",
        "DeltaTable.convertToDelta(spark, f\"parquet.`{PARQUET_PATH}`\")\n",
        "delta_table = DeltaTable.forPath(spark, PARQUET_PATH)\n",
        "delta_table.toDF().show()"
      ],
      "metadata": {
        "colab": {
          "base_uri": "https://localhost:8080/"
        },
        "id": "VaKGZScY6yvg",
        "outputId": "e6675284-2927-4b5e-b7f5-6992143b516c"
      },
      "execution_count": 69,
      "outputs": [
        {
          "output_type": "stream",
          "name": "stdout",
          "text": [
            "Saved as Parquet at: /tmp/trips_parquet\n",
            "+-------+--------+---------+---------+-----------+-----+----+-------------------+\n",
            "|trip_id|rider_id|driver_id|     city|distance_km| fare| tip|                 ts|\n",
            "+-------+--------+---------+---------+-----------+-----+----+-------------------+\n",
            "|   1001|    R001|     D010|Bengaluru|       12.4|320.0|20.0|2025-08-08 08:05:00|\n",
            "|   1002|    R002|     D011|Hyderabad|        6.2|150.0|10.0|2025-08-08 08:15:00|\n",
            "|   1003|    R003|     D012|     Pune|        3.5| 90.0| 0.0|2025-08-08 08:20:00|\n",
            "+-------+--------+---------+---------+-----------+-----+----+-------------------+\n",
            "\n"
          ]
        }
      ]
    },
    {
      "cell_type": "code",
      "source": [
        "# Show it can now accept MERGE and time travel\n",
        "new_data = [\n",
        "    (102, \"R002\", \"D002\", \"Mumbai\", 5.2, 150.0, 12.0, \"2025-08-14 09:00:00\"),\n",
        "    (104, \"R004\", \"D004\", \"Chennai\", 8.0, 220.0, 18.0, \"2025-08-14 11:00:00\")\n",
        "]\n",
        "new_df = spark.createDataFrame(new_data, columns)\n",
        "new_df = new_df.withColumn(\"ts\", F.col(\"ts\").cast(\"timestamp\"))\n",
        "\n",
        "delta_table.alias(\"tgt\").merge(\n",
        "    new_df.alias(\"src\"),\n",
        "    \"tgt.trip_id = src.trip_id\"\n",
        ").whenMatchedUpdateAll().whenNotMatchedInsertAll().execute()\n",
        "\n",
        "print(\"After MERGE:\")\n",
        "delta_table.toDF().show()\n",
        "\n",
        "print(\"Time travel to version 0:\")\n",
        "df_v0 = spark.read.format(\"delta\").option(\"versionAsOf\", 0).load(PARQUET_PATH)\n",
        "df_v0.show()"
      ],
      "metadata": {
        "colab": {
          "base_uri": "https://localhost:8080/"
        },
        "id": "g4vSCU_O7RwF",
        "outputId": "fb9bbcd3-ea7e-4dc3-a825-05e4b92313d8"
      },
      "execution_count": 70,
      "outputs": [
        {
          "output_type": "stream",
          "name": "stdout",
          "text": [
            "After MERGE:\n",
            "+-------+--------+---------+---------+-----------+-----+----+-------------------+\n",
            "|trip_id|rider_id|driver_id|     city|distance_km| fare| tip|                 ts|\n",
            "+-------+--------+---------+---------+-----------+-----+----+-------------------+\n",
            "|   1001|    R001|     D010|Bengaluru|       12.4|320.0|20.0|2025-08-08 08:05:00|\n",
            "|    104|    R004|     D004|  Chennai|        8.0|220.0|18.0|2025-08-14 11:00:00|\n",
            "|    102|    R002|     D002|   Mumbai|        5.2|150.0|12.0|2025-08-14 09:00:00|\n",
            "|   1002|    R002|     D011|Hyderabad|        6.2|150.0|10.0|2025-08-08 08:15:00|\n",
            "|   1003|    R003|     D012|     Pune|        3.5| 90.0| 0.0|2025-08-08 08:20:00|\n",
            "+-------+--------+---------+---------+-----------+-----+----+-------------------+\n",
            "\n",
            "Time travel to version 0:\n",
            "+-------+--------+---------+---------+-----------+-----+----+-------------------+\n",
            "|trip_id|rider_id|driver_id|     city|distance_km| fare| tip|                 ts|\n",
            "+-------+--------+---------+---------+-----------+-----+----+-------------------+\n",
            "|   1001|    R001|     D010|Bengaluru|       12.4|320.0|20.0|2025-08-08 08:05:00|\n",
            "|   1002|    R002|     D011|Hyderabad|        6.2|150.0|10.0|2025-08-08 08:15:00|\n",
            "|   1003|    R003|     D012|     Pune|        3.5| 90.0| 0.0|2025-08-08 08:20:00|\n",
            "+-------+--------+---------+---------+-----------+-----+----+-------------------+\n",
            "\n"
          ]
        }
      ]
    },
    {
      "cell_type": "markdown",
      "source": [
        "15. Bonus KPI Dashboard"
      ],
      "metadata": {
        "id": "8gEwyaqH9HGg"
      }
    },
    {
      "cell_type": "code",
      "source": [
        "from delta.tables import DeltaTable\n",
        "\n",
        "delta_trips = DeltaTable.forPath(spark, TRIPS_PATH)\n",
        "delta_drivers = DeltaTable.forPath(spark, DRIVERS_PATH)\n",
        "\n",
        "df_trips = delta_trips.toDF()\n",
        "df_drivers = delta_drivers.toDF()\n",
        "\n",
        "df_gold = (df_trips.join(df_drivers, \"driver_id\")\n",
        "           .withColumn(\"total_amount\", F.col(\"fare\") + F.col(\"tip\"))\n",
        "           .select(\"trip_id\",\"city\",\"driver_name\",\"rating\",\"distance_km\",\"total_amount\",\"ts\"))\n",
        "\n",
        "df_gold.show()\n"
      ],
      "metadata": {
        "colab": {
          "base_uri": "https://localhost:8080/"
        },
        "id": "Ekm1tF9E_bxo",
        "outputId": "6acd4ab2-baf7-444e-d30f-28060fb88e84"
      },
      "execution_count": 77,
      "outputs": [
        {
          "output_type": "stream",
          "name": "stdout",
          "text": [
            "+-------+---------+-----------+------+-----------+------------+-------------------+\n",
            "|trip_id|     city|driver_name|rating|distance_km|total_amount|                 ts|\n",
            "+-------+---------+-----------+------+-----------+------------+-------------------+\n",
            "|   1001|Bengaluru|       Anil|   4.8|       12.4|       340.0|2025-08-08 08:05:00|\n",
            "|   1002|Hyderabad|       Sana|   4.6|        6.2|       160.0|2025-08-08 08:15:00|\n",
            "|   1003|     Pune|     Rakesh|   4.4|        3.5|        90.0|2025-08-08 08:20:00|\n",
            "|   1004|Bengaluru|       Anil|   4.8|       18.9|       505.0|2025-08-08 08:45:00|\n",
            "|   1005|  Chennai|      Meera|   4.9|       10.0|       275.0|2025-08-08 09:05:00|\n",
            "|   1006|     Pune|     Rakesh|   4.4|        2.2|        70.0|2025-08-08 09:10:00|\n",
            "+-------+---------+-----------+------+-----------+------------+-------------------+\n",
            "\n"
          ]
        }
      ]
    },
    {
      "cell_type": "code",
      "source": [
        "# Total revenue\n",
        "pdf = df_gold.toPandas()\n",
        "\n",
        "total_revenue = pdf['total_amount'].sum()\n",
        "print(\"Total Revenue:\", total_revenue)\n",
        "\n"
      ],
      "metadata": {
        "colab": {
          "base_uri": "https://localhost:8080/"
        },
        "id": "uBC1rX3tBKLH",
        "outputId": "7a5e20fc-55b6-46e5-aefd-ea6d10ab9d69"
      },
      "execution_count": 78,
      "outputs": [
        {
          "output_type": "stream",
          "name": "stdout",
          "text": [
            "Total Revenue: 1440.0\n"
          ]
        }
      ]
    },
    {
      "cell_type": "code",
      "source": [
        "# Trips per city (bar)\n",
        "\n",
        "city_counts = pdf.groupby('city')['trip_id'].count().sort_values(ascending=False)\n",
        "plt.figure(figsize=(8,5))\n",
        "city_counts.plot(kind='bar', color='skyblue')\n",
        "plt.title('Trips per City')\n",
        "plt.ylabel('Number of Trips')\n",
        "plt.xlabel('City')\n",
        "plt.xticks(rotation=30)\n",
        "plt.show()"
      ],
      "metadata": {
        "colab": {
          "base_uri": "https://localhost:8080/",
          "height": 524
        },
        "id": "qkFAM7gNBqB-",
        "outputId": "e23a249f-2e25-4ff4-ff68-e02fc9989fa1"
      },
      "execution_count": 79,
      "outputs": [
        {
          "output_type": "display_data",
          "data": {
            "text/plain": [
              "<Figure size 800x500 with 1 Axes>"
            ],
            "image/png": "[encoded data removed]"
          },
          "metadata": {}
        }
      ]
    },
    {
      "cell_type": "code",
      "source": [
        "# Top drivers by revenue (bar)\n",
        "\n",
        "driver_revenue = pdf.groupby('driver_name')['total_amount'].sum().sort_values(ascending=False)\n",
        "plt.figure(figsize=(8,5))\n",
        "driver_revenue.plot(kind='bar', color='orange')\n",
        "plt.title('Top Drivers by Revenue')\n",
        "plt.ylabel('Revenue')\n",
        "plt.xlabel('Driver')\n",
        "plt.show()"
      ],
      "metadata": {
        "colab": {
          "base_uri": "https://localhost:8080/",
          "height": 523
        },
        "id": "KLNa3RLwBzFT",
        "outputId": "a421e55b-6f21-431d-e3c8-3c75e9ccbe38"
      },
      "execution_count": 80,
      "outputs": [
        {
          "output_type": "display_data",
          "data": {
            "text/plain": [
              "<Figure size 800x500 with 1 Axes>"
            ],
            "image/png": "[encoded data removed]"
          },
          "metadata": {}
        }
      ]
    },
    {
      "cell_type": "code",
      "source": [
        "# Revenue by hour (line)\n",
        "\n",
        "pdf['hour'] = pdf['ts'].dt.hour\n",
        "hourly_revenue = pdf.groupby('hour')['total_amount'].sum()\n",
        "plt.figure(figsize=(8,5))\n",
        "hourly_revenue.plot(kind='line', marker='o')\n",
        "plt.ylabel('Total Revenue')\n",
        "plt.xlabel('Hour of Day')\n",
        "plt.grid(True)\n",
        "plt.tight_layout()\n",
        "plt.show()"
      ],
      "metadata": {
        "colab": {
          "base_uri": "https://localhost:8080/",
          "height": 507
        },
        "id": "-ynXpHHGB9MN",
        "outputId": "03f47bc0-3692-48eb-cd5d-5238754ede0e"
      },
      "execution_count": 82,
      "outputs": [
        {
          "output_type": "display_data",
          "data": {
            "text/plain": [
              "<Figure size 800x500 with 1 Axes>"
            ],
            "image/png": "[encoded data removed]"
          },
          "metadata": {}
        }
      ]
    },
    {
      "cell_type": "code",
      "source": [],
      "metadata": {
        "id": "sXI56g64CFkx"
      },
      "execution_count": null,
      "outputs": []
    }
  ]
}