{
  "nbformat": 4,
  "nbformat_minor": 0,
  "metadata": {
    "colab": {
      "provenance": []
    },
    "kernelspec": {
      "name": "python3",
      "display_name": "Python 3"
    },
    "language_info": {
      "name": "python"
    }
  },
  "cells": [
    {
      "cell_type": "code",
      "execution_count": 1,
      "metadata": {
        "colab": {
          "base_uri": "https://localhost:8080/"
        },
        "id": "9NAcooH626Sv",
        "outputId": "3e297b82-5917-4fd4-c631-fb439c21a399"
      },
      "outputs": [
        {
          "output_type": "stream",
          "name": "stdout",
          "text": [
            "Collecting pyspark==3.5.0\n",
            "  Downloading pyspark-3.5.0.tar.gz (316.9 MB)\n",
            "\u001b[2K     \u001b[90m━━━━━━━━━━━━━━━━━━━━━━━━━━━━━━━━━━━━━━━\u001b[0m \u001b[32m316.9/316.9 MB\u001b[0m \u001b[31m4.7 MB/s\u001b[0m eta \u001b[36m0:00:00\u001b[0m\n",
            "\u001b[?25h  Preparing metadata (setup.py) ... \u001b[?25l\u001b[?25hdone\n",
            "Collecting delta-spark==3.1.0\n",
            "  Downloading delta_spark-3.1.0-py3-none-any.whl.metadata (1.9 kB)\n",
            "Requirement already satisfied: py4j==0.10.9.7 in /usr/local/lib/python3.11/dist-packages (from pyspark==3.5.0) (0.10.9.7)\n",
            "Requirement already satisfied: importlib-metadata>=1.0.0 in /usr/local/lib/python3.11/dist-packages (from delta-spark==3.1.0) (8.7.0)\n",
            "Requirement already satisfied: zipp>=3.20 in /usr/local/lib/python3.11/dist-packages (from importlib-metadata>=1.0.0->delta-spark==3.1.0) (3.23.0)\n",
            "Downloading delta_spark-3.1.0-py3-none-any.whl (21 kB)\n",
            "Building wheels for collected packages: pyspark\n",
            "  Building wheel for pyspark (setup.py) ... \u001b[?25l\u001b[?25hdone\n",
            "  Created wheel for pyspark: filename=pyspark-3.5.0-py2.py3-none-any.whl size=317425346 sha256=ff758e1e152b8a91e40ac93a10e46879c96618b243113c683800a864aee0a0c0\n",
            "  Stored in directory: /root/.cache/pip/wheels/38/df/61/8c121f50c3cffd77f8178180dd232d90b3b99d1bd61fb6d6be\n",
            "Successfully built pyspark\n",
            "Installing collected packages: pyspark, delta-spark\n",
            "  Attempting uninstall: pyspark\n",
            "    Found existing installation: pyspark 3.5.1\n",
            "    Uninstalling pyspark-3.5.1:\n",
            "      Successfully uninstalled pyspark-3.5.1\n",
            "\u001b[31mERROR: pip's dependency resolver does not currently take into account all the packages that are installed. This behaviour is the source of the following dependency conflicts.\n",
            "dataproc-spark-connect 0.8.3 requires pyspark[connect]~=3.5.1, but you have pyspark 3.5.0 which is incompatible.\u001b[0m\u001b[31m\n",
            "\u001b[0mSuccessfully installed delta-spark-3.1.0 pyspark-3.5.0\n"
          ]
        }
      ],
      "source": [
        "# Install dependencies\n",
        "!pip install pyspark==3.5.0 delta-spark==3.1.0"
      ]
    },
    {
      "cell_type": "code",
      "source": [
        "from pyspark.sql import SparkSession\n",
        "from delta import configure_spark_with_delta_pip\n",
        "builder = (\n",
        "SparkSession.builder.appName(\"DeltaDemo\")\n",
        ".config(\"spark.sql.extensions\", \"io.delta.sql.DeltaSparkSessionExtension\")\n",
        ".config(\"spark.sql.catalog.spark_catalog\",\n",
        "\"org.apache.spark.sql.delta.catalog.DeltaCatalog\")\n",
        ")\n",
        "spark = configure_spark_with_delta_pip(builder).getOrCreate()"
      ],
      "metadata": {
        "id": "4KnISKhB3qPA"
      },
      "execution_count": 2,
      "outputs": []
    },
    {
      "cell_type": "code",
      "source": [
        "# Create sample DataFrame\n",
        "data = [\n",
        "(1, \"John\", \"Electronics\", 2, 300),\n",
        "(2, \"Sara\", \"Clothing\", 1, 50),\n",
        "(3, \"Mike\", \"Electronics\", 4, 600),\n",
        "(4, \"Nina\", \"Clothing\", 3, 150),\n",
        "]\n",
        "columns = [\"order_id\", \"customer_name\", \"category\", \"quantity\", \"amount\"]\n",
        "df = spark.createDataFrame(data, columns)\n",
        "\n",
        "# Save as Delta table\n",
        "df.write.format(\"delta\").mode(\"overwrite\").save(\"/tmp/orders_delta\")"
      ],
      "metadata": {
        "id": "Usk5eNSZ3vhC"
      },
      "execution_count": 5,
      "outputs": []
    },
    {
      "cell_type": "code",
      "source": [
        "df.show()"
      ],
      "metadata": {
        "colab": {
          "base_uri": "https://localhost:8080/"
        },
        "id": "nbPb1Kly4v-i",
        "outputId": "ba4ea14c-c005-43bb-cf80-bc3c02be04eb"
      },
      "execution_count": 4,
      "outputs": [
        {
          "output_type": "stream",
          "name": "stdout",
          "text": [
            "+--------+-------------+-----------+--------+------+\n",
            "|order_id|customer_name|   category|quantity|amount|\n",
            "+--------+-------------+-----------+--------+------+\n",
            "|       1|         John|Electronics|       2|   300|\n",
            "|       2|         Sara|   Clothing|       1|    50|\n",
            "|       3|         Mike|Electronics|       4|   600|\n",
            "|       4|         Nina|   Clothing|       3|   150|\n",
            "+--------+-------------+-----------+--------+------+\n",
            "\n"
          ]
        }
      ]
    },
    {
      "cell_type": "markdown",
      "source": [
        "1. Managed vs Unmaaged Tables"
      ],
      "metadata": {
        "id": "1PZYrGYfDWOc"
      }
    },
    {
      "cell_type": "code",
      "source": [
        "# Task 1 : Managed and unmanaged tables\n",
        "# Managed Table\n",
        "spark.sql(\"\"\"\n",
        "CREATE TABLE orders_managed\n",
        "USING DELTA\n",
        "AS SELECT * FROM delta.`/tmp/orders_delta`\n",
        "\"\"\")\n",
        "\n",
        "# Unmanaged table\n",
        "spark.sql(\"\"\"\n",
        "CREATE TABLE orders_unmanaged\n",
        "USING DELTA\n",
        "LOCATION '/tmp/orders_delta'\n",
        "\"\"\")"
      ],
      "metadata": {
        "colab": {
          "base_uri": "https://localhost:8080/"
        },
        "id": "sotH_0qT6RKk",
        "outputId": "42d04ef5-74d6-4647-8679-06742c1ddd73"
      },
      "execution_count": 10,
      "outputs": [
        {
          "output_type": "execute_result",
          "data": {
            "text/plain": [
              "DataFrame[]"
            ]
          },
          "metadata": {},
          "execution_count": 10
        }
      ]
    },
    {
      "cell_type": "markdown",
      "source": [
        "2. CRUD Operations"
      ],
      "metadata": {
        "id": "_nO85hewDecM"
      }
    },
    {
      "cell_type": "code",
      "source": [
        "## Read from table\n",
        "\n",
        "spark.sql(\"select * from orders_managed\").show()\n",
        "#spark.sql(\"select * from orders_unmanaged\").show()"
      ],
      "metadata": {
        "colab": {
          "base_uri": "https://localhost:8080/"
        },
        "id": "avlNG9Qw7b6m",
        "outputId": "218c28dc-bac8-4e0b-e507-34b1d7ef1786"
      },
      "execution_count": 11,
      "outputs": [
        {
          "output_type": "stream",
          "name": "stdout",
          "text": [
            "+--------+-------------+-----------+--------+------+\n",
            "|order_id|customer_name|   category|quantity|amount|\n",
            "+--------+-------------+-----------+--------+------+\n",
            "|       3|         Mike|Electronics|       4|   600|\n",
            "|       4|         Nina|   Clothing|       3|   150|\n",
            "|       1|         John|Electronics|       2|   300|\n",
            "|       2|         Sara|   Clothing|       1|    50|\n",
            "+--------+-------------+-----------+--------+------+\n",
            "\n",
            "+--------+-------------+-----------+--------+------+\n",
            "|order_id|customer_name|   category|quantity|amount|\n",
            "+--------+-------------+-----------+--------+------+\n",
            "|       3|         Mike|Electronics|       4|   600|\n",
            "|       4|         Nina|   Clothing|       3|   150|\n",
            "|       1|         John|Electronics|       2|   300|\n",
            "|       2|         Sara|   Clothing|       1|    50|\n",
            "+--------+-------------+-----------+--------+------+\n",
            "\n"
          ]
        }
      ]
    },
    {
      "cell_type": "code",
      "source": [
        "# Update all 'clothing' category orders to have amount = amount + 20\n",
        "from delta.tables import DeltaTable\n",
        "\n",
        "delta_table = DeltaTable.forPath(spark, \"/tmp/orders_delta\")\n",
        "\n",
        "delta_table.update(condition=\"category = 'Clothing'\", set={\"amount\": \"amount + 20\"})\n"
      ],
      "metadata": {
        "id": "oPNSZ_xM9Cjt"
      },
      "execution_count": 14,
      "outputs": []
    },
    {
      "cell_type": "code",
      "source": [
        "delta_table.toDF().show()"
      ],
      "metadata": {
        "colab": {
          "base_uri": "https://localhost:8080/"
        },
        "id": "fDoaVJ65NaEr",
        "outputId": "a8a141bd-915a-4c14-be71-6f6ff09c0167"
      },
      "execution_count": 18,
      "outputs": [
        {
          "output_type": "stream",
          "name": "stdout",
          "text": [
            "+--------+-------------+-----------+--------+------+\n",
            "|order_id|customer_name|   category|quantity|amount|\n",
            "+--------+-------------+-----------+--------+------+\n",
            "|       1|         John|Electronics|       2|   300|\n",
            "|       3|         Mike|Electronics|       4|   600|\n",
            "|       4|         Nina|   Clothing|       3|   170|\n",
            "+--------+-------------+-----------+--------+------+\n",
            "\n"
          ]
        }
      ]
    },
    {
      "cell_type": "code",
      "source": [
        "# Delete all orders with quantity < 2\n",
        "from pyspark.sql.functions import col\n",
        "\n",
        "delta_table.delete(condition = col(\"quantity\") < 2 )\n"
      ],
      "metadata": {
        "id": "5zUlW-z0MBqV"
      },
      "execution_count": 17,
      "outputs": []
    },
    {
      "cell_type": "code",
      "source": [
        "# Merge in a new dataset (new orders & updated orders)\n",
        "new_data = [\n",
        "    (2, \"Sara\", \"Clothing\", 1, 120),   # Updated\n",
        "    (5, \"Liam\", \"Furniture\", 2, 500)   # New\n",
        "]\n",
        "columns = [\"order_id\", \"customer_name\", \"category\", \"quantity\", \"amount\"]\n",
        "new_orders = spark.createDataFrame(new_data, columns)\n",
        "\n",
        "delta_table.alias(\"old\").merge(new_orders.alias(\"new\"), \"old.order_id = new.order_id\").whenMatchedUpdateAll().whenNotMatchedInsertAll().execute()\n",
        "\n",
        "delta_table.toDF().show()\n",
        "\n"
      ],
      "metadata": {
        "colab": {
          "base_uri": "https://localhost:8080/"
        },
        "id": "Wllyp9zbMmUr",
        "outputId": "43b22c18-11e5-4627-d7db-d32955a24c1b"
      },
      "execution_count": 19,
      "outputs": [
        {
          "output_type": "stream",
          "name": "stdout",
          "text": [
            "+--------+-------------+-----------+--------+------+\n",
            "|order_id|customer_name|   category|quantity|amount|\n",
            "+--------+-------------+-----------+--------+------+\n",
            "|       1|         John|Electronics|       2|   300|\n",
            "|       3|         Mike|Electronics|       4|   600|\n",
            "|       4|         Nina|   Clothing|       3|   170|\n",
            "|       5|         Liam|  Furniture|       2|   500|\n",
            "|       2|         Sara|   Clothing|       1|   120|\n",
            "+--------+-------------+-----------+--------+------+\n",
            "\n"
          ]
        }
      ]
    },
    {
      "cell_type": "markdown",
      "source": [
        "3. History & Time Travel"
      ],
      "metadata": {
        "id": "xuyQuL9EQAu3"
      }
    },
    {
      "cell_type": "code",
      "source": [
        "# Use DESCRIBE HISTORY to check previous versions\n",
        "spark.sql(\"describe history delta.`/tmp/orders_delta`\").show()\n"
      ],
      "metadata": {
        "colab": {
          "base_uri": "https://localhost:8080/"
        },
        "id": "H5PDuKURP9SY",
        "outputId": "a46b7b9a-adff-4993-8bc1-7b18a748f1f3"
      },
      "execution_count": 21,
      "outputs": [
        {
          "output_type": "stream",
          "name": "stdout",
          "text": [
            "+-------+--------------------+------+--------+---------+--------------------+----+--------+---------+-----------+--------------+-------------+--------------------+------------+--------------------+\n",
            "|version|           timestamp|userId|userName|operation| operationParameters| job|notebook|clusterId|readVersion|isolationLevel|isBlindAppend|    operationMetrics|userMetadata|          engineInfo|\n",
            "+-------+--------------------+------+--------+---------+--------------------+----+--------+---------+-----------+--------------+-------------+--------------------+------------+--------------------+\n",
            "|      3|2025-08-14 06:24:...|  NULL|    NULL|    MERGE|{predicate -> [\"(...|NULL|    NULL|     NULL|          2|  Serializable|        false|{numTargetRowsCop...|        NULL|Apache-Spark/3.5....|\n",
            "|      2|2025-08-14 06:09:...|  NULL|    NULL|   DELETE|{predicate -> [\"(...|NULL|    NULL|     NULL|          1|  Serializable|        false|{numRemovedFiles ...|        NULL|Apache-Spark/3.5....|\n",
            "|      1|2025-08-14 06:07:...|  NULL|    NULL|   UPDATE|{predicate -> [\"(...|NULL|    NULL|     NULL|          0|  Serializable|        false|{numRemovedFiles ...|        NULL|Apache-Spark/3.5....|\n",
            "|      0|2025-08-14 04:43:...|  NULL|    NULL|    WRITE|{mode -> Overwrit...|NULL|    NULL|     NULL|       NULL|  Serializable|        false|{numFiles -> 2, n...|        NULL|Apache-Spark/3.5....|\n",
            "+-------+--------------------+------+--------+---------+--------------------+----+--------+---------+-----------+--------------+-------------+--------------------+------------+--------------------+\n",
            "\n"
          ]
        }
      ]
    },
    {
      "cell_type": "code",
      "source": [
        "# Read data from version 0 and compare with the latest version\n",
        "\n",
        "df_v0 = spark.read.format(\"delta\").option(\"versionAsOf\", 0).load(\"/tmp/orders_delta\")\n",
        "\n",
        "print(\"Version 0 \")\n",
        "df_v0.show()\n",
        "\n",
        "df_latest = spark.read.format(\"delta\").load(\"/tmp/orders_delta\")\n",
        "\n",
        "print(\"Latest version\")\n",
        "df_latest.show()"
      ],
      "metadata": {
        "colab": {
          "base_uri": "https://localhost:8080/"
        },
        "id": "Ha6jX1cpQMWj",
        "outputId": "2da7e2bf-f292-4a9f-c630-e3339a067a58"
      },
      "execution_count": 23,
      "outputs": [
        {
          "output_type": "stream",
          "name": "stdout",
          "text": [
            "Version 0 \n",
            "+--------+-------------+-----------+--------+------+\n",
            "|order_id|customer_name|   category|quantity|amount|\n",
            "+--------+-------------+-----------+--------+------+\n",
            "|       3|         Mike|Electronics|       4|   600|\n",
            "|       4|         Nina|   Clothing|       3|   150|\n",
            "|       1|         John|Electronics|       2|   300|\n",
            "|       2|         Sara|   Clothing|       1|    50|\n",
            "+--------+-------------+-----------+--------+------+\n",
            "\n",
            "Latest version\n",
            "+--------+-------------+-----------+--------+------+\n",
            "|order_id|customer_name|   category|quantity|amount|\n",
            "+--------+-------------+-----------+--------+------+\n",
            "|       1|         John|Electronics|       2|   300|\n",
            "|       3|         Mike|Electronics|       4|   600|\n",
            "|       4|         Nina|   Clothing|       3|   170|\n",
            "|       5|         Liam|  Furniture|       2|   500|\n",
            "|       2|         Sara|   Clothing|       1|   120|\n",
            "+--------+-------------+-----------+--------+------+\n",
            "\n"
          ]
        }
      ]
    },
    {
      "cell_type": "markdown",
      "source": [
        "4. Incremental Load Pattern"
      ],
      "metadata": {
        "id": "T1KgPFReSV_D"
      }
    },
    {
      "cell_type": "code",
      "source": [
        "# Mini batch\n",
        "new_b_data=[(5,\"Andrew\", \"Furniture\", 2, 800), (6, \"Emma\", \"Clothing\",1,1200)]\n",
        "columns = [\"order_id\", \"customer_name\", \"category\", \"quantity\", \"amount\"]\n",
        "\n",
        "new_batch = spark.createDataFrame(new_b_data, columns)\n",
        "\n",
        "# Append to Delta Table\n",
        "\n",
        "new_batch.write.format(\"delta\").mode(\"append\").save(\"/tmp/orders_delta\")\n",
        "\n",
        "# Final dataset\n",
        "final_data = spark.read.format(\"delta\").load(\"/tmp/orders_delta\")\n",
        "final_data.show()"
      ],
      "metadata": {
        "colab": {
          "base_uri": "https://localhost:8080/"
        },
        "id": "M8dxodYNR3fK",
        "outputId": "5c37e6d2-1531-4df9-909e-9f5df81afc5a"
      },
      "execution_count": 24,
      "outputs": [
        {
          "output_type": "stream",
          "name": "stdout",
          "text": [
            "+--------+-------------+-----------+--------+------+\n",
            "|order_id|customer_name|   category|quantity|amount|\n",
            "+--------+-------------+-----------+--------+------+\n",
            "|       1|         John|Electronics|       2|   300|\n",
            "|       5|       Andrew|  Furniture|       2|   800|\n",
            "|       3|         Mike|Electronics|       4|   600|\n",
            "|       4|         Nina|   Clothing|       3|   170|\n",
            "|       5|         Liam|  Furniture|       2|   500|\n",
            "|       2|         Sara|   Clothing|       1|   120|\n",
            "|       6|         Emma|   Clothing|       1|  1200|\n",
            "+--------+-------------+-----------+--------+------+\n",
            "\n"
          ]
        }
      ]
    },
    {
      "cell_type": "code",
      "source": [
        "delta_table.toDF().show()"
      ],
      "metadata": {
        "colab": {
          "base_uri": "https://localhost:8080/"
        },
        "id": "qKlf4alOekBb",
        "outputId": "c013ae99-dd2a-414e-8417-7da7ae9f1744"
      },
      "execution_count": 25,
      "outputs": [
        {
          "output_type": "stream",
          "name": "stdout",
          "text": [
            "+--------+-------------+-----------+--------+------+\n",
            "|order_id|customer_name|   category|quantity|amount|\n",
            "+--------+-------------+-----------+--------+------+\n",
            "|       1|         John|Electronics|       2|   300|\n",
            "|       5|       Andrew|  Furniture|       2|   800|\n",
            "|       3|         Mike|Electronics|       4|   600|\n",
            "|       4|         Nina|   Clothing|       3|   170|\n",
            "|       5|         Liam|  Furniture|       2|   500|\n",
            "|       2|         Sara|   Clothing|       1|   120|\n",
            "|       6|         Emma|   Clothing|       1|  1200|\n",
            "+--------+-------------+-----------+--------+------+\n",
            "\n"
          ]
        }
      ]
    },
    {
      "cell_type": "markdown",
      "source": [
        "5. Simple  Streaming Read"
      ],
      "metadata": {
        "id": "5jEBIW5AerTJ"
      }
    },
    {
      "cell_type": "code",
      "source": [
        "# Read the /tmp/orders_delta in streaming mode\n",
        "stream_df = spark.readStream.format(\"delta\").load(\"/tmp/orders_delta\")\n",
        "\n",
        "# Output to console every 5 seconds (only new data)\n",
        "query = stream_df.writeStream.format(\"console\").outputMode(\"append\").trigger(processingTime=\"5 seconds\").start()\n",
        "\n",
        "query.awaitTermination(45)"
      ],
      "metadata": {
        "colab": {
          "base_uri": "https://localhost:8080/"
        },
        "id": "OV4Hig4Hen8w",
        "outputId": "759c316c-0350-4a19-e5c2-2c81349b9fe4"
      },
      "execution_count": 27,
      "outputs": [
        {
          "output_type": "execute_result",
          "data": {
            "text/plain": [
              "False"
            ]
          },
          "metadata": {},
          "execution_count": 27
        }
      ]
    },
    {
      "cell_type": "markdown",
      "source": [
        "6. Visualization"
      ],
      "metadata": {
        "id": "R9xkGMelhE9c"
      }
    },
    {
      "cell_type": "code",
      "source": [
        "# Read Delta table into Pandas\n",
        "\n",
        "# print(type(delta_table)) - Delta Table\n",
        "from pyspark.sql.functions import sum as _sum\n",
        "\n",
        "df = delta_table.toDF().groupBy('category').agg(_sum('amount').alias('total_amount'))\n",
        "# print(type(df)) - spark DataFrame\n",
        "\n",
        "pdf =df.toPandas()\n",
        "print(pdf)\n",
        "# print(type(pdf)) - Pandas DataFrame"
      ],
      "metadata": {
        "colab": {
          "base_uri": "https://localhost:8080/"
        },
        "id": "g7GsjwmNgDFS",
        "outputId": "89dbd339-6fd8-440f-9e7a-fa9b1bde30e9"
      },
      "execution_count": 43,
      "outputs": [
        {
          "output_type": "stream",
          "name": "stdout",
          "text": [
            "      category  total_amount\n",
            "0  Electronics           900\n",
            "1     Clothing          1490\n",
            "2    Furniture          1300\n"
          ]
        }
      ]
    },
    {
      "cell_type": "code",
      "source": [
        "# Create a bar chart of category vs total amount\n",
        "import pandas as pd\n",
        "import matplotlib.pyplot as plt\n",
        "\n",
        "plt.figure(figsize=(8,5))\n",
        "plt.bar(pdf['category'], pdf['total_amount'], color='skyblue')\n",
        "plt.xlabel(\"Cateogory\")\n",
        "plt.ylabel(\"Total Amount\")\n",
        "plt.xticks(rotation=30)\n",
        "plt.show()"
      ],
      "metadata": {
        "colab": {
          "base_uri": "https://localhost:8080/",
          "height": 460
        },
        "id": "vULD9n5WhCgo",
        "outputId": "75f79fad-076a-44a8-f5a7-6c2419c626b2"
      },
      "execution_count": 45,
      "outputs": [
        {
          "output_type": "display_data",
          "data": {
            "text/plain": [
              "<Figure size 800x500 with 1 Axes>"
            ],
            "image/png": "[encoded data removed]"
          },
          "metadata": {}
        }
      ]
    },
    {
      "cell_type": "code",
      "source": [],
      "metadata": {
        "id": "CDhppS22hCVn"
      },
      "execution_count": null,
      "outputs": []
    }
  ]
}