{
  "nbformat": 4,
  "nbformat_minor": 0,
  "metadata": {
    "colab": {
      "provenance": []
    },
    "kernelspec": {
      "name": "python3",
      "display_name": "Python 3"
    },
    "language_info": {
      "name": "python"
    }
  },
  "cells": [
    {
      "cell_type": "markdown",
      "source": [
        "#My first notebook\n",
        "This notebook was created during Data Engineering training"
      ],
      "metadata": {
        "id": "M0-IOkyn_ObG"
      }
    },
    {
      "cell_type": "code",
      "execution_count": 4,
      "metadata": {
        "colab": {
          "base_uri": "https://localhost:8080/"
        },
        "id": "KBbOMmv_9Xid",
        "outputId": "250addc8-2c92-4284-ed0e-03df86902606"
      },
      "outputs": [
        {
          "output_type": "stream",
          "name": "stdout",
          "text": [
            "Hello Ankita\n"
          ]
        }
      ],
      "source": [
        "name = 'Ankita'\n",
        "print('Hello',name)"
      ]
    },
    {
      "cell_type": "markdown",
      "source": [
        "# 'Single hash' Is big heading\n",
        "## 'Two hashes' Is smaller than above\n",
        "### 'Three hashes' demo\n",
        "#### 'Four Hashes' demo\n",
        "\n",
        "\\# We can treat hash as text Using backslash(\\\\)\n"
      ],
      "metadata": {
        "id": "5Ii5zB_W_1dy"
      }
    },
    {
      "cell_type": "code",
      "source": [
        "# Area of rectangle\n",
        "l = 10\n",
        "b = 5\n",
        "\n",
        "# calculate area of rectangle\n",
        "area = l * b\n",
        "\n",
        "# printing area\n",
        "print(area)"
      ],
      "metadata": {
        "colab": {
          "base_uri": "https://localhost:8080/"
        },
        "id": "749XCPGY-F8v",
        "outputId": "0db3d4aa-b19e-4e93-c534-4c84cc72c844"
      },
      "execution_count": 6,
      "outputs": [
        {
          "output_type": "stream",
          "name": "stdout",
          "text": [
            "50\n"
          ]
        }
      ]
    },
    {
      "cell_type": "code",
      "source": [
        "import pandas as pd\n",
        "# Creating data using a dictonary\n",
        "data = {'Name': ['Rohan','Priya','Riya','Prisha'],\n",
        "        'Age': [40,35,20,10],\n",
        "        'City': ['Delhi','Mumbai','Pune','Kolhapur']}\n",
        "# Creating dataframe\n",
        "df=pd.DataFrame(data)\n",
        "print(df)"
      ],
      "metadata": {
        "colab": {
          "base_uri": "https://localhost:8080/"
        },
        "id": "RWrcnABZ_h8q",
        "outputId": "304e6a27-55d6-4391-8cae-23b4c3606177"
      },
      "execution_count": 8,
      "outputs": [
        {
          "output_type": "stream",
          "name": "stdout",
          "text": [
            "     Name  Age      City\n",
            "0   Rohan   40     Delhi\n",
            "1   Priya   35    Mumbai\n",
            "2    Riya   20      Pune\n",
            "3  Prisha   10  Kolhapur\n"
          ]
        }
      ]
    },
    {
      "cell_type": "code",
      "source": [
        "print(df.shape) # No. of rows and columns"
      ],
      "metadata": {
        "colab": {
          "base_uri": "https://localhost:8080/"
        },
        "id": "I4u-nTJ2aS7P",
        "outputId": "5bbcd41e-c925-4f48-9e55-fe8398736579"
      },
      "execution_count": 11,
      "outputs": [
        {
          "output_type": "stream",
          "name": "stdout",
          "text": [
            "(4, 3)\n"
          ]
        }
      ]
    },
    {
      "cell_type": "code",
      "source": [
        "print(df.columns) # Column names"
      ],
      "metadata": {
        "colab": {
          "base_uri": "https://localhost:8080/"
        },
        "id": "H8QImkOIDQO5",
        "outputId": "1323a5f6-c6ab-41c5-e243-f480922fab42"
      },
      "execution_count": 9,
      "outputs": [
        {
          "output_type": "stream",
          "name": "stdout",
          "text": [
            "Index(['Name', 'Age', 'City'], dtype='object')\n"
          ]
        }
      ]
    },
    {
      "cell_type": "code",
      "source": [
        "print(df['Name']) # Selecting single column"
      ],
      "metadata": {
        "colab": {
          "base_uri": "https://localhost:8080/"
        },
        "id": "d69a-kmVaqFm",
        "outputId": "b3865183-fbfb-4699-cf50-93cbd4c41271"
      },
      "execution_count": 14,
      "outputs": [
        {
          "output_type": "stream",
          "name": "stdout",
          "text": [
            "0     Rohan\n",
            "1     Priya\n",
            "2      Riya\n",
            "3    Prisha\n",
            "Name: Name, dtype: object\n"
          ]
        }
      ]
    },
    {
      "cell_type": "code",
      "source": [
        "print(df.info()) # Datatypes"
      ],
      "metadata": {
        "colab": {
          "base_uri": "https://localhost:8080/"
        },
        "id": "RGKWUMI8aayX",
        "outputId": "b2b7058e-5bc6-4a03-e25b-bc2aae80007f"
      },
      "execution_count": 12,
      "outputs": [
        {
          "output_type": "stream",
          "name": "stdout",
          "text": [
            "<class 'pandas.core.frame.DataFrame'>\n",
            "RangeIndex: 4 entries, 0 to 3\n",
            "Data columns (total 3 columns):\n",
            " #   Column  Non-Null Count  Dtype \n",
            "---  ------  --------------  ----- \n",
            " 0   Name    4 non-null      object\n",
            " 1   Age     4 non-null      int64 \n",
            " 2   City    4 non-null      object\n",
            "dtypes: int64(1), object(2)\n",
            "memory usage: 228.0+ bytes\n",
            "None\n"
          ]
        }
      ]
    },
    {
      "cell_type": "code",
      "source": [
        "print(df.describe()) # Stats only numeric columns"
      ],
      "metadata": {
        "colab": {
          "base_uri": "https://localhost:8080/"
        },
        "id": "KTLqHnEOaHiU",
        "outputId": "d61c9b12-cff9-4240-c083-d373983c8971"
      },
      "execution_count": 16,
      "outputs": [
        {
          "output_type": "stream",
          "name": "stdout",
          "text": [
            "             Age\n",
            "count   4.000000\n",
            "mean   26.250000\n",
            "std    13.768926\n",
            "min    10.000000\n",
            "25%    17.500000\n",
            "50%    27.500000\n",
            "75%    36.250000\n",
            "max    40.000000\n"
          ]
        }
      ]
    },
    {
      "cell_type": "code",
      "source": [
        "# Creating a CSV to cplab using colab\n",
        "csv_data = \"\"\"Name,Age,Department,Salary\n",
        "Aarav,28,Sales,50000\n",
        "Sneha,32,Engineering,80000\n",
        "Kabir,25,HR,45000\n",
        "Anaya,29,Marketing,60000\n",
        "Rohan,35,Engineering,85000\n",
        "\"\"\"\n",
        "with open('employees.csv','w') as file:\n",
        "  file.write(csv_data)"
      ],
      "metadata": {
        "id": "CYOpjWiga04p"
      },
      "execution_count": 17,
      "outputs": []
    },
    {
      "cell_type": "code",
      "source": [
        "import pandas as pd\n",
        "# read csv into dataframe\n",
        "\n",
        "df = pd.read_csv('employees.csv')\n",
        "# Show df\n",
        "print(df)"
      ],
      "metadata": {
        "colab": {
          "base_uri": "https://localhost:8080/"
        },
        "id": "ObtLNyDFfh4_",
        "outputId": "47d74168-0c13-40db-b309-67d1c4ad02ee"
      },
      "execution_count": 19,
      "outputs": [
        {
          "output_type": "stream",
          "name": "stdout",
          "text": [
            "    Name  Age   Department  Salary\n",
            "0  Aarav   28        Sales   50000\n",
            "1  Sneha   32  Engineering   80000\n",
            "2  Kabir   25           HR   45000\n",
            "3  Anaya   29    Marketing   60000\n",
            "4  Rohan   35  Engineering   85000\n"
          ]
        }
      ]
    },
    {
      "cell_type": "code",
      "source": [
        "# Filtering based on department\n",
        "engg_employee = df[df['Department'] == 'Engineering']\n",
        "print(engg_employee)"
      ],
      "metadata": {
        "colab": {
          "base_uri": "https://localhost:8080/"
        },
        "id": "Tca7RrHKfzTN",
        "outputId": "d38de4ae-e512-4a97-b5b4-78209fe768b5"
      },
      "execution_count": 20,
      "outputs": [
        {
          "output_type": "stream",
          "name": "stdout",
          "text": [
            "    Name  Age   Department  Salary\n",
            "1  Sneha   32  Engineering   80000\n",
            "4  Rohan   35  Engineering   85000\n"
          ]
        }
      ]
    },
    {
      "cell_type": "code",
      "source": [
        "# Aggregate function mean()\n",
        "avg_salary =df['Salary'].mean()\n",
        "print('Average salary:',avg_salary)"
      ],
      "metadata": {
        "colab": {
          "base_uri": "https://localhost:8080/"
        },
        "id": "AMntBIWWh1PP",
        "outputId": "ee66e86d-2d1d-492c-e099-0dddd19d4155"
      },
      "execution_count": 25,
      "outputs": [
        {
          "output_type": "stream",
          "name": "stdout",
          "text": [
            "Average salary: 64000.0\n"
          ]
        }
      ]
    },
    {
      "cell_type": "code",
      "source": [
        "# Highest salary\n",
        "highest = df[df['Salary']==df['Salary'].max()]\n",
        "print('Highest paid employee:\\n',highest)"
      ],
      "metadata": {
        "colab": {
          "base_uri": "https://localhost:8080/"
        },
        "id": "pKXeywPhiKoU",
        "outputId": "e72e18ec-6e41-4d42-fe1d-0b3c21c19331"
      },
      "execution_count": 26,
      "outputs": [
        {
          "output_type": "stream",
          "name": "stdout",
          "text": [
            "Highest paid employee:\n",
            "     Name  Age   Department  Salary\n",
            "4  Rohan   35  Engineering   85000\n"
          ]
        }
      ]
    },
    {
      "cell_type": "code",
      "source": [
        "# Group by and average\n",
        "avg_salary_by_dept= df.groupby('Department')['Salary'].mean()\n",
        "print(avg_salary_by_dept)\n"
      ],
      "metadata": {
        "colab": {
          "base_uri": "https://localhost:8080/"
        },
        "id": "tSgCsfzXiYjZ",
        "outputId": "29ff033c-fa7a-4417-9d32-fac4df2b877a"
      },
      "execution_count": 27,
      "outputs": [
        {
          "output_type": "stream",
          "name": "stdout",
          "text": [
            "Department\n",
            "Engineering    82500.0\n",
            "HR             45000.0\n",
            "Marketing      60000.0\n",
            "Sales          50000.0\n",
            "Name: Salary, dtype: float64\n"
          ]
        }
      ]
    },
    {
      "cell_type": "code",
      "source": [
        "sorted_by_age = df.sort_values(by='Age')\n",
        "print(sorted_by_age)"
      ],
      "metadata": {
        "colab": {
          "base_uri": "https://localhost:8080/"
        },
        "id": "QGUYU4gok4p9",
        "outputId": "243a79de-b5d3-4074-cdcf-dc0b7bbe983e"
      },
      "execution_count": 29,
      "outputs": [
        {
          "output_type": "stream",
          "name": "stdout",
          "text": [
            "    Name  Age   Department  Salary\n",
            "4  Rohan   35  Engineering   85000\n",
            "1  Sneha   32  Engineering   80000\n",
            "3  Anaya   29    Marketing   60000\n",
            "0  Aarav   28        Sales   50000\n",
            "2  Kabir   25           HR   45000\n"
          ]
        }
      ]
    },
    {
      "cell_type": "code",
      "source": [
        "import matplotlib.pyplot as plt\n",
        "\n",
        "plt.figure(figsize=(8,5))\n",
        "plt.bar(df['Name'],df['Salary'],color='skyblue')\n",
        "plt.title('Employee Salaries')\n",
        "plt.xlabel('Name')\n",
        "plt.ylabel('Salary')\n",
        "plt.xticks(rotation=30)\n",
        "plt.grid(True)\n",
        "plt.tight_layout()\n",
        "plt.show()"
      ],
      "metadata": {
        "colab": {
          "base_uri": "https://localhost:8080/",
          "height": 417
        },
        "id": "Zh1EhNJPk4Qy",
        "outputId": "30aebf33-5fd0-4941-e4ca-dea74bbecf4c"
      },
      "execution_count": 31,
      "outputs": [
        {
          "output_type": "display_data",
          "data": {
            "text/plain": [
              "<Figure size 800x500 with 1 Axes>"
            ],
            "image/png": "[encoded data removed]"
          },
          "metadata": {}
        }
      ]
    },
    {
      "cell_type": "code",
      "source": [],
      "metadata": {
        "id": "TS2NLUm48wnP"
      },
      "execution_count": null,
      "outputs": []
    }
  ]
}