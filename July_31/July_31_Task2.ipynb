{
  "nbformat": 4,
  "nbformat_minor": 0,
  "metadata": {
    "colab": {
      "provenance": []
    },
    "kernelspec": {
      "name": "python3",
      "display_name": "Python 3"
    },
    "language_info": {
      "name": "python"
    }
  },
  "cells": [
    {
      "cell_type": "code",
      "execution_count": 1,
      "metadata": {
        "id": "rq3OGCBf1ywn"
      },
      "outputs": [],
      "source": [
        "## Assignment 2: Movie Ratings & Revenue Analysis\n",
        "## Creating movies.csv\n",
        "csv_data = \"\"\"\n",
        " MovieID,Title,Genre,ReleaseDate,Rating,Revenue,Budget\n",
        "1,Inception,Sci-Fi,2010-07-16,8.8,825532764,160000000\n",
        "2,The Dark Knight,Action,2008-07-18,9.0,1004558444,185000000\n",
        "3,Titanic,Romance,1997-12-19,7.8,2187463944,200000000\n",
        "4,Interstellar,Sci-Fi,2014-11-07,8.6,677471339,165000000\n",
        "5,Joker,Drama,2019-10-04,8.4,1074251311,55000000\n",
        "6,The Notebook,Romance,2004-06-25,7.9,,29000000\n",
        "7,Avengers: Endgame,Action,2019-04-26,8.4,2797800564,356000000\n",
        "\"\"\"\n",
        "\n",
        "with open('movies.csv','w') as file:\n",
        "  file.write(csv_data)"
      ]
    },
    {
      "cell_type": "markdown",
      "source": [
        "### Part 1: Pandas Operations\n"
      ],
      "metadata": {
        "id": "3AhVNFodAaZw"
      }
    },
    {
      "cell_type": "code",
      "source": [
        "# Loading movies.csv into Pandas DataFrame\n",
        "import pandas as pd\n",
        "\n",
        "df = pd.read_csv('movies.csv')\n",
        "print(df)"
      ],
      "metadata": {
        "colab": {
          "base_uri": "https://localhost:8080/"
        },
        "id": "PlIYceA5BEcT",
        "outputId": "0be2b489-c11d-4e34-d1be-af4ce6c16ce2"
      },
      "execution_count": 2,
      "outputs": [
        {
          "output_type": "stream",
          "name": "stdout",
          "text": [
            "    MovieID              Title    Genre ReleaseDate  Rating       Revenue  \\\n",
            "0         1          Inception   Sci-Fi  2010-07-16     8.8  8.255328e+08   \n",
            "1         2    The Dark Knight   Action  2008-07-18     9.0  1.004558e+09   \n",
            "2         3            Titanic  Romance  1997-12-19     7.8  2.187464e+09   \n",
            "3         4       Interstellar   Sci-Fi  2014-11-07     8.6  6.774713e+08   \n",
            "4         5              Joker    Drama  2019-10-04     8.4  1.074251e+09   \n",
            "5         6       The Notebook  Romance  2004-06-25     7.9           NaN   \n",
            "6         7  Avengers: Endgame   Action  2019-04-26     8.4  2.797801e+09   \n",
            "\n",
            "      Budget  \n",
            "0  160000000  \n",
            "1  185000000  \n",
            "2  200000000  \n",
            "3  165000000  \n",
            "4   55000000  \n",
            "5   29000000  \n",
            "6  356000000  \n"
          ]
        }
      ]
    },
    {
      "cell_type": "code",
      "source": [
        "#  Convert ReleaseDate to datetime\n",
        "print(df.info()) # Checking datatypes\n",
        "df['ReleaseDate'] = pd.to_datetime(df['ReleaseDate'])\n",
        "print(df[\"ReleaseDate\"].info())"
      ],
      "metadata": {
        "colab": {
          "base_uri": "https://localhost:8080/"
        },
        "id": "OXQOvFXcBesI",
        "outputId": "c046eb59-3173-4303-9954-8021497ffb00"
      },
      "execution_count": 3,
      "outputs": [
        {
          "output_type": "stream",
          "name": "stdout",
          "text": [
            "<class 'pandas.core.frame.DataFrame'>\n",
            "RangeIndex: 7 entries, 0 to 6\n",
            "Data columns (total 7 columns):\n",
            " #   Column       Non-Null Count  Dtype  \n",
            "---  ------       --------------  -----  \n",
            " 0    MovieID     7 non-null      int64  \n",
            " 1   Title        7 non-null      object \n",
            " 2   Genre        7 non-null      object \n",
            " 3   ReleaseDate  7 non-null      object \n",
            " 4   Rating       7 non-null      float64\n",
            " 5   Revenue      6 non-null      float64\n",
            " 6   Budget       7 non-null      int64  \n",
            "dtypes: float64(2), int64(2), object(3)\n",
            "memory usage: 524.0+ bytes\n",
            "None\n",
            "<class 'pandas.core.series.Series'>\n",
            "RangeIndex: 7 entries, 0 to 6\n",
            "Series name: ReleaseDate\n",
            "Non-Null Count  Dtype         \n",
            "--------------  -----         \n",
            "7 non-null      datetime64[ns]\n",
            "dtypes: datetime64[ns](1)\n",
            "memory usage: 188.0 bytes\n",
            "None\n"
          ]
        }
      ]
    },
    {
      "cell_type": "code",
      "source": [
        "# Calculate Profit = Revenue - Budget\n",
        "df.columns = df.columns.str.strip()\n",
        "df['Profit'] = df['Revenue']-df['Budget']\n",
        "print(df[['Revenue','Budget','Profit']])"
      ],
      "metadata": {
        "colab": {
          "base_uri": "https://localhost:8080/"
        },
        "id": "NffYMoziBq-R",
        "outputId": "c31a3d80-b939-4d28-9719-01812bcd9391"
      },
      "execution_count": 4,
      "outputs": [
        {
          "output_type": "stream",
          "name": "stdout",
          "text": [
            "        Revenue     Budget        Profit\n",
            "0  8.255328e+08  160000000  6.655328e+08\n",
            "1  1.004558e+09  185000000  8.195584e+08\n",
            "2  2.187464e+09  200000000  1.987464e+09\n",
            "3  6.774713e+08  165000000  5.124713e+08\n",
            "4  1.074251e+09   55000000  1.019251e+09\n",
            "5           NaN   29000000           NaN\n",
            "6  2.797801e+09  356000000  2.441801e+09\n"
          ]
        }
      ]
    },
    {
      "cell_type": "code",
      "source": [
        "# Add categorical column Era\n",
        "def classify_era(date):\n",
        "  year = date.year\n",
        "  if year < 2000:\n",
        "    return 'Classic'\n",
        "  elif 2000 <= year <= 2010:\n",
        "    return 'Mid'\n",
        "  else:\n",
        "    return 'Modern'\n",
        "\n",
        "df['Era'] = df['ReleaseDate'].apply(classify_era)\n",
        "print(df[['ReleaseDate','Era']])"
      ],
      "metadata": {
        "id": "Cz0umWSHDjyb",
        "colab": {
          "base_uri": "https://localhost:8080/"
        },
        "outputId": "a955072f-7cb3-4bf1-fb50-ba3bbecdc91f"
      },
      "execution_count": 5,
      "outputs": [
        {
          "output_type": "stream",
          "name": "stdout",
          "text": [
            "  ReleaseDate      Era\n",
            "0  2010-07-16      Mid\n",
            "1  2008-07-18      Mid\n",
            "2  1997-12-19  Classic\n",
            "3  2014-11-07   Modern\n",
            "4  2019-10-04   Modern\n",
            "5  2004-06-25      Mid\n",
            "6  2019-04-26   Modern\n"
          ]
        }
      ]
    },
    {
      "cell_type": "code",
      "source": [
        "#  Handle nulls in Revenue by filling with average revenue\n",
        "# df.isnull().sum()\n",
        "# Check null values\n",
        "#df['Revenue'].isnull()\n",
        "# Filling null values\n",
        "df['Revenue'] = df['Revenue'].fillna(df['Revenue'].mean())\n",
        "print(df[['Revenue','Budget','Profit']])\n"
      ],
      "metadata": {
        "colab": {
          "base_uri": "https://localhost:8080/"
        },
        "id": "T7QmQxcW8oYe",
        "outputId": "f7c22cc7-6845-433c-8e0d-3a6e08bf3e5e"
      },
      "execution_count": 6,
      "outputs": [
        {
          "output_type": "stream",
          "name": "stdout",
          "text": [
            "        Revenue     Budget        Profit\n",
            "0  8.255328e+08  160000000  6.655328e+08\n",
            "1  1.004558e+09  185000000  8.195584e+08\n",
            "2  2.187464e+09  200000000  1.987464e+09\n",
            "3  6.774713e+08  165000000  5.124713e+08\n",
            "4  1.074251e+09   55000000  1.019251e+09\n",
            "5  1.427846e+09   29000000           NaN\n",
            "6  2.797801e+09  356000000  2.441801e+09\n"
          ]
        }
      ]
    },
    {
      "cell_type": "code",
      "source": [
        "#  6. Sort by Rating descending.\n",
        "Rating_Sorted = df.sort_values(by='Rating', ascending=False)\n",
        "print(Rating_Sorted)"
      ],
      "metadata": {
        "colab": {
          "base_uri": "https://localhost:8080/"
        },
        "id": "k9CBRxPx_fka",
        "outputId": "9c6050b6-d5e5-4c33-d696-4a4845ec2e1a"
      },
      "execution_count": 7,
      "outputs": [
        {
          "output_type": "stream",
          "name": "stdout",
          "text": [
            "   MovieID              Title    Genre ReleaseDate  Rating       Revenue  \\\n",
            "1        2    The Dark Knight   Action  2008-07-18     9.0  1.004558e+09   \n",
            "0        1          Inception   Sci-Fi  2010-07-16     8.8  8.255328e+08   \n",
            "3        4       Interstellar   Sci-Fi  2014-11-07     8.6  6.774713e+08   \n",
            "6        7  Avengers: Endgame   Action  2019-04-26     8.4  2.797801e+09   \n",
            "4        5              Joker    Drama  2019-10-04     8.4  1.074251e+09   \n",
            "5        6       The Notebook  Romance  2004-06-25     7.9  1.427846e+09   \n",
            "2        3            Titanic  Romance  1997-12-19     7.8  2.187464e+09   \n",
            "\n",
            "      Budget        Profit      Era  \n",
            "1  185000000  8.195584e+08      Mid  \n",
            "0  160000000  6.655328e+08      Mid  \n",
            "3  165000000  5.124713e+08   Modern  \n",
            "6  356000000  2.441801e+09   Modern  \n",
            "4   55000000  1.019251e+09   Modern  \n",
            "5   29000000           NaN      Mid  \n",
            "2  200000000  1.987464e+09  Classic  \n"
          ]
        }
      ]
    },
    {
      "cell_type": "code",
      "source": [
        "# Group by Genre → average Rating & total Revenue\n",
        "genre_stats = df.groupby('Genre').agg({'Rating':'mean', 'Revenue':'sum'})\n",
        "genre_stats.column = ['Genre','AverageRating','TotalRevenue']\n",
        "print(genre_stats)"
      ],
      "metadata": {
        "colab": {
          "base_uri": "https://localhost:8080/"
        },
        "id": "CGeClotGBOL4",
        "outputId": "45bc3fe1-fd51-45fa-b0ba-b3ccc1adc9dd"
      },
      "execution_count": 8,
      "outputs": [
        {
          "output_type": "stream",
          "name": "stdout",
          "text": [
            "         Rating       Revenue\n",
            "Genre                        \n",
            "Action     8.70  3.802359e+09\n",
            "Drama      8.40  1.074251e+09\n",
            "Romance    7.85  3.615310e+09\n",
            "Sci-Fi     8.70  1.503004e+09\n"
          ]
        },
        {
          "output_type": "stream",
          "name": "stderr",
          "text": [
            "/tmp/ipython-input-3004237454.py:3: UserWarning: Pandas doesn't allow columns to be created via a new attribute name - see https://pandas.pydata.org/pandas-docs/stable/indexing.html#attribute-access\n",
            "  genre_stats.column = ['Genre','AverageRating','TotalRevenue']\n"
          ]
        }
      ]
    },
    {
      "cell_type": "code",
      "source": [
        "# Filter movies with Rating ≥ 8.5 and Profit > 500M.\n",
        "filtered_movies = df[(df['Rating'] >= 8.5) & (df['Profit'] > 500000000)]\n",
        "print(filtered_movies[['Title', 'Rating', 'Profit']])"
      ],
      "metadata": {
        "colab": {
          "base_uri": "https://localhost:8080/"
        },
        "id": "GLBrIpmGD2od",
        "outputId": "eef87f05-31c7-4197-8ce2-69e4aa7519b7"
      },
      "execution_count": 9,
      "outputs": [
        {
          "output_type": "stream",
          "name": "stdout",
          "text": [
            "             Title  Rating       Profit\n",
            "0        Inception     8.8  665532764.0\n",
            "1  The Dark Knight     9.0  819558444.0\n",
            "3     Interstellar     8.6  512471339.0\n"
          ]
        }
      ]
    },
    {
      "cell_type": "code",
      "source": [
        "# Plot bar chart of Movie Title vs Profit.\n",
        "import matplotlib.pyplot as plt\n",
        "plt.figure(figsize=(12,6))\n",
        "plt.bar(df['Title'], df['Profit'], color = 'skyblue')\n",
        "plt.xlabel('Movie Title')\n",
        "plt.ylabel('Profit')\n",
        "plt.title('Movie Title VS Profit')\n",
        "plt.xticks(rotation=30)\n",
        "plt.tight_layout()\n",
        "plt.show()"
      ],
      "metadata": {
        "colab": {
          "base_uri": "https://localhost:8080/",
          "height": 337
        },
        "id": "Iq1hZhzJFNAH",
        "outputId": "ad730c6e-2420-4ccf-91b0-459e7023797f"
      },
      "execution_count": 10,
      "outputs": [
        {
          "output_type": "display_data",
          "data": {
            "text/plain": [
              "<Figure size 1200x600 with 1 Axes>"
            ],
            "image/png": "[encoded data removed]"
          },
          "metadata": {}
        }
      ]
    },
    {
      "cell_type": "markdown",
      "source": [
        "### Part 2: PySpark Operations\n"
      ],
      "metadata": {
        "id": "w4i4Eup5Ge-9"
      }
    },
    {
      "cell_type": "code",
      "source": [
        "# Creating a spark session\n",
        "from pyspark.sql import SparkSession\n",
        "spark = SparkSession.builder.appName(\"PySparks\").getOrCreate()\n",
        "spark"
      ],
      "metadata": {
        "colab": {
          "base_uri": "https://localhost:8080/",
          "height": 219
        },
        "id": "mgKwkbw2HbCC",
        "outputId": "550cc293-060b-4270-a6a5-ac6dc9cc13e6"
      },
      "execution_count": 11,
      "outputs": [
        {
          "output_type": "execute_result",
          "data": {
            "text/plain": [
              "<pyspark.sql.session.SparkSession at 0x7e3ecc4fc310>"
            ],
            "text/html": [
              "\n",
              "            <div>\n",
              "                <p><b>SparkSession - in-memory</b></p>\n",
              "                \n",
              "        <div>\n",
              "            <p><b>SparkContext</b></p>\n",
              "\n",
              "            <p><a href=\"http://97b1066f2d08:4040\">Spark UI</a></p>\n",
              "\n",
              "            <dl>\n",
              "              <dt>Version</dt>\n",
              "                <dd><code>v3.5.1</code></dd>\n",
              "              <dt>Master</dt>\n",
              "                <dd><code>local[*]</code></dd>\n",
              "              <dt>AppName</dt>\n",
              "                <dd><code>PySparks</code></dd>\n",
              "            </dl>\n",
              "        </div>\n",
              "        \n",
              "            </div>\n",
              "        "
            ]
          },
          "metadata": {},
          "execution_count": 11
        }
      ]
    },
    {
      "cell_type": "code",
      "source": [
        "# Read the same CSV using PySpark.\n",
        "df = spark.read.csv('movies.csv', header=True, inferSchema=True)\n",
        "df.show()"
      ],
      "metadata": {
        "colab": {
          "base_uri": "https://localhost:8080/"
        },
        "id": "_gLPpu1TIBl2",
        "outputId": "b6dfdb28-eb2a-4573-f8c0-c34302a21817"
      },
      "execution_count": 12,
      "outputs": [
        {
          "output_type": "stream",
          "name": "stdout",
          "text": [
            "+--------+-----------------+-------+-----------+------+----------+---------+\n",
            "| MovieID|            Title|  Genre|ReleaseDate|Rating|   Revenue|   Budget|\n",
            "+--------+-----------------+-------+-----------+------+----------+---------+\n",
            "|       1|        Inception| Sci-Fi| 2010-07-16|   8.8| 825532764|160000000|\n",
            "|       2|  The Dark Knight| Action| 2008-07-18|   9.0|1004558444|185000000|\n",
            "|       3|          Titanic|Romance| 1997-12-19|   7.8|2187463944|200000000|\n",
            "|       4|     Interstellar| Sci-Fi| 2014-11-07|   8.6| 677471339|165000000|\n",
            "|       5|            Joker|  Drama| 2019-10-04|   8.4|1074251311| 55000000|\n",
            "|       6|     The Notebook|Romance| 2004-06-25|   7.9|      NULL| 29000000|\n",
            "|       7|Avengers: Endgame| Action| 2019-04-26|   8.4|2797800564|356000000|\n",
            "+--------+-----------------+-------+-----------+------+----------+---------+\n",
            "\n"
          ]
        }
      ]
    },
    {
      "cell_type": "code",
      "source": [
        "#  Create Profit column (Revenue - Budget )\n",
        "from pyspark.sql.functions import col\n",
        "\n",
        "df = df.withColumn(\"Profit\", col(\"Revenue\")-col(\"Budget\"))\n",
        "df.select(\"Title\", \"Revenue\", \"Budget\", \"Profit\").show()"
      ],
      "metadata": {
        "id": "3uBTUyNVIfMz",
        "colab": {
          "base_uri": "https://localhost:8080/"
        },
        "outputId": "104672d6-beca-4dfa-8f84-c3acaf91be72"
      },
      "execution_count": 13,
      "outputs": [
        {
          "output_type": "stream",
          "name": "stdout",
          "text": [
            "+-----------------+----------+---------+----------+\n",
            "|            Title|   Revenue|   Budget|    Profit|\n",
            "+-----------------+----------+---------+----------+\n",
            "|        Inception| 825532764|160000000| 665532764|\n",
            "|  The Dark Knight|1004558444|185000000| 819558444|\n",
            "|          Titanic|2187463944|200000000|1987463944|\n",
            "|     Interstellar| 677471339|165000000| 512471339|\n",
            "|            Joker|1074251311| 55000000|1019251311|\n",
            "|     The Notebook|      NULL| 29000000|      NULL|\n",
            "|Avengers: Endgame|2797800564|356000000|2441800564|\n",
            "+-----------------+----------+---------+----------+\n",
            "\n"
          ]
        }
      ]
    },
    {
      "cell_type": "code",
      "source": [
        "#  Filter where Genre == 'Sci-Fi' and Profit > 500000000\n",
        "sci_fi = df.filter((col(\"Genre\") == \"Sci-Fi\") & (col(\"Profit\") > 500000000))\n",
        "sci_fi.select(\"Title\", \"Genre\", \"Profit\").show()"
      ],
      "metadata": {
        "colab": {
          "base_uri": "https://localhost:8080/"
        },
        "id": "QiGFtZ42C9PR",
        "outputId": "df49357e-2d24-4703-9f09-bf8e8d689e3b"
      },
      "execution_count": 14,
      "outputs": [
        {
          "output_type": "stream",
          "name": "stdout",
          "text": [
            "+------------+------+---------+\n",
            "|       Title| Genre|   Profit|\n",
            "+------------+------+---------+\n",
            "|   Inception|Sci-Fi|665532764|\n",
            "|Interstellar|Sci-Fi|512471339|\n",
            "+------------+------+---------+\n",
            "\n"
          ]
        }
      ]
    },
    {
      "cell_type": "code",
      "source": [
        "# Group by Genre → avg(Rating), sum(Profit)\n",
        "from pyspark.sql.functions import avg, sum, col\n",
        "\n",
        "genre_group = df.groupBy(\"Genre\").agg( avg(\"Rating\").alias(\"AvgRating\"), sum(\"Profit\").alias(\"TotalProfit\"))\n",
        "genre_group.show()"
      ],
      "metadata": {
        "colab": {
          "base_uri": "https://localhost:8080/"
        },
        "id": "QgYxIPWXDweb",
        "outputId": "547f78ed-42de-4563-eb62-200296871293"
      },
      "execution_count": 15,
      "outputs": [
        {
          "output_type": "stream",
          "name": "stdout",
          "text": [
            "+-------+---------+-----------+\n",
            "|  Genre|AvgRating|TotalProfit|\n",
            "+-------+---------+-----------+\n",
            "|Romance|     7.85| 1987463944|\n",
            "|  Drama|      8.4| 1019251311|\n",
            "| Action|      8.7| 3261359008|\n",
            "| Sci-Fi|      8.7| 1178004103|\n",
            "+-------+---------+-----------+\n",
            "\n"
          ]
        }
      ]
    },
    {
      "cell_type": "code",
      "source": [
        "#  Use when().otherwise() to classify Rating as: =9 → Blockbuster\n",
        "# 8–9 → Hit\n",
        "# below 8 → Average\n",
        "from pyspark.sql.functions import when\n",
        "df_category = df.withColumn(\"Rating_Category\", when(col(\"Rating\") >=9, 'Blockbuster').when(col(\"Rating\") > 8, 'Hit').otherwise(\"Average\"))\n",
        "df_category.show()\n",
        "\n"
      ],
      "metadata": {
        "colab": {
          "base_uri": "https://localhost:8080/"
        },
        "id": "8Dzwq8jUEltx",
        "outputId": "f1f9abe5-5b40-4135-98fe-c732aaaeff38"
      },
      "execution_count": 16,
      "outputs": [
        {
          "output_type": "stream",
          "name": "stdout",
          "text": [
            "+--------+-----------------+-------+-----------+------+----------+---------+----------+---------------+\n",
            "| MovieID|            Title|  Genre|ReleaseDate|Rating|   Revenue|   Budget|    Profit|Rating_Category|\n",
            "+--------+-----------------+-------+-----------+------+----------+---------+----------+---------------+\n",
            "|       1|        Inception| Sci-Fi| 2010-07-16|   8.8| 825532764|160000000| 665532764|            Hit|\n",
            "|       2|  The Dark Knight| Action| 2008-07-18|   9.0|1004558444|185000000| 819558444|    Blockbuster|\n",
            "|       3|          Titanic|Romance| 1997-12-19|   7.8|2187463944|200000000|1987463944|        Average|\n",
            "|       4|     Interstellar| Sci-Fi| 2014-11-07|   8.6| 677471339|165000000| 512471339|            Hit|\n",
            "|       5|            Joker|  Drama| 2019-10-04|   8.4|1074251311| 55000000|1019251311|            Hit|\n",
            "|       6|     The Notebook|Romance| 2004-06-25|   7.9|      NULL| 29000000|      NULL|        Average|\n",
            "|       7|Avengers: Endgame| Action| 2019-04-26|   8.4|2797800564|356000000|2441800564|            Hit|\n",
            "+--------+-----------------+-------+-----------+------+----------+---------+----------+---------------+\n",
            "\n"
          ]
        }
      ]
    },
    {
      "cell_type": "code",
      "source": [
        "# Drop the Budget column.\n",
        "df = df.drop(\"Budget\")\n",
        "df.show(3)"
      ],
      "metadata": {
        "colab": {
          "base_uri": "https://localhost:8080/"
        },
        "id": "BHGAMGVdGF49",
        "outputId": "f5a15d45-ee85-4a10-d219-dca66a167d68"
      },
      "execution_count": 17,
      "outputs": [
        {
          "output_type": "stream",
          "name": "stdout",
          "text": [
            "+--------+---------------+-------+-----------+------+----------+----------+\n",
            "| MovieID|          Title|  Genre|ReleaseDate|Rating|   Revenue|    Profit|\n",
            "+--------+---------------+-------+-----------+------+----------+----------+\n",
            "|       1|      Inception| Sci-Fi| 2010-07-16|   8.8| 825532764| 665532764|\n",
            "|       2|The Dark Knight| Action| 2008-07-18|   9.0|1004558444| 819558444|\n",
            "|       3|        Titanic|Romance| 1997-12-19|   7.8|2187463944|1987463944|\n",
            "+--------+---------------+-------+-----------+------+----------+----------+\n",
            "only showing top 3 rows\n",
            "\n"
          ]
        }
      ]
    },
    {
      "cell_type": "code",
      "source": [
        "#  Fill null revenue with average (use na.fill() or na.replace() )\n",
        "# na.fill() is used to fill null values\n",
        "# na.replace is used to replace values\n",
        "df.select(\"Revenue\").show()\n",
        "avg_revenue = df.select(avg(\"Revenue\")).first()[0]\n",
        "df = df.na.fill({\"Revenue\": avg_revenue})\n",
        "df.select(\"Revenue\").show()"
      ],
      "metadata": {
        "colab": {
          "base_uri": "https://localhost:8080/"
        },
        "id": "x45V0M5PJNmv",
        "outputId": "f7bb9e86-36c0-4b34-cd06-a3cf4868b8da"
      },
      "execution_count": 18,
      "outputs": [
        {
          "output_type": "stream",
          "name": "stdout",
          "text": [
            "+----------+\n",
            "|   Revenue|\n",
            "+----------+\n",
            "| 825532764|\n",
            "|1004558444|\n",
            "|2187463944|\n",
            "| 677471339|\n",
            "|1074251311|\n",
            "|      NULL|\n",
            "|2797800564|\n",
            "+----------+\n",
            "\n",
            "+----------+\n",
            "|   Revenue|\n",
            "+----------+\n",
            "| 825532764|\n",
            "|1004558444|\n",
            "|2187463944|\n",
            "| 677471339|\n",
            "|1074251311|\n",
            "|1427846394|\n",
            "|2797800564|\n",
            "+----------+\n",
            "\n"
          ]
        }
      ]
    },
    {
      "cell_type": "code",
      "source": [
        "# Convert ReleaseDate to date type, extract year and month\n",
        "\n",
        "from pyspark.sql.functions import to_date, year, month\n",
        "\n",
        "df = df.withColumn(\"ReleaseDate\", to_date(\"ReleaseDate\", \"yyyy-MM-dd\"))\n",
        "df = df.withColumn(\"Year\", year(\"ReleaseDate\"))\n",
        "df = df.withColumn(\"Month\", month(\"ReleaseDate\"))\n",
        "df.select(\"ReleaseDate\", \"Year\", \"Month\").show()"
      ],
      "metadata": {
        "colab": {
          "base_uri": "https://localhost:8080/"
        },
        "id": "eZb76Nd3Jlxo",
        "outputId": "12debbaf-d990-41f2-a6d5-b4b2d2b47e12"
      },
      "execution_count": 19,
      "outputs": [
        {
          "output_type": "stream",
          "name": "stdout",
          "text": [
            "+-----------+----+-----+\n",
            "|ReleaseDate|Year|Month|\n",
            "+-----------+----+-----+\n",
            "| 2010-07-16|2010|    7|\n",
            "| 2008-07-18|2008|    7|\n",
            "| 1997-12-19|1997|   12|\n",
            "| 2014-11-07|2014|   11|\n",
            "| 2019-10-04|2019|   10|\n",
            "| 2004-06-25|2004|    6|\n",
            "| 2019-04-26|2019|    4|\n",
            "+-----------+----+-----+\n",
            "\n"
          ]
        }
      ]
    },
    {
      "cell_type": "code",
      "source": [
        "#  Use a window function to rank movies within each genre by profit.\n",
        "from pyspark.sql.window import Window\n",
        "from pyspark.sql.functions import rank, col\n",
        "\n",
        "window_rn = Window.partitionBy(\"Genre\").orderBy(col(\"Profit\").desc())\n",
        "df = df.withColumn(\"G_Rank\", rank().over(window_rn))\n",
        "df.select(\"Title\", \"Genre\", \"Profit\", \"G_Rank\").show()"
      ],
      "metadata": {
        "colab": {
          "base_uri": "https://localhost:8080/"
        },
        "id": "pKlBqOnwLMp0",
        "outputId": "fad0debc-279b-4f2e-c914-72e7faa63422"
      },
      "execution_count": 20,
      "outputs": [
        {
          "output_type": "stream",
          "name": "stdout",
          "text": [
            "+-----------------+-------+----------+------+\n",
            "|            Title|  Genre|    Profit|G_Rank|\n",
            "+-----------------+-------+----------+------+\n",
            "|Avengers: Endgame| Action|2441800564|     1|\n",
            "|  The Dark Knight| Action| 819558444|     2|\n",
            "|            Joker|  Drama|1019251311|     1|\n",
            "|          Titanic|Romance|1987463944|     1|\n",
            "|     The Notebook|Romance|      NULL|     2|\n",
            "|        Inception| Sci-Fi| 665532764|     1|\n",
            "|     Interstellar| Sci-Fi| 512471339|     2|\n",
            "+-----------------+-------+----------+------+\n",
            "\n"
          ]
        }
      ]
    },
    {
      "cell_type": "markdown",
      "source": [
        "### Part 3: JSON + Union Example"
      ],
      "metadata": {
        "id": "bJGWKSEPMKLG"
      }
    },
    {
      "cell_type": "code",
      "source": [
        "# JSON Data\n",
        "import json\n",
        "\n",
        "movies_bonus = [\n",
        "    {\n",
        "        \"MovieID\": 8,\n",
        "        \"Title\": \"Barbie\",\n",
        "        \"Genre\": \"Drama\",\n",
        "        \"Rating\": 7.5,\n",
        "        \"Revenue\": 1456000000,\n",
        "        \"Budget\": 145000000\n",
        "    },\n",
        "    {\n",
        "        \"MovieID\": 9,\n",
        "        \"Title\": \"Oppenheimer\",\n",
        "        \"Genre\": \"Drama\",\n",
        "        \"Rating\": 8.6,\n",
        "        \"Revenue\": 950000000,\n",
        "        \"Budget\": 100000000\n",
        "    }\n",
        "]\n",
        "\n",
        "with open(\"movies_bonus.json\", \"w\") as f:\n",
        "    json.dump(movies_bonus, f, indent=4)\n"
      ],
      "metadata": {
        "id": "nvWdzIWwMEXI"
      },
      "execution_count": 21,
      "outputs": []
    },
    {
      "cell_type": "code",
      "source": [
        "# Read using pyspark\n",
        "df_bonus = spark.read.option(\"multiline\", \"true\").json(\"movies_bonus.json\")\n",
        "df_bonus.show()\n"
      ],
      "metadata": {
        "colab": {
          "base_uri": "https://localhost:8080/"
        },
        "id": "sl9AvaXmMqgI",
        "outputId": "51e3faea-e917-4279-e93b-9001e6cc9374"
      },
      "execution_count": 22,
      "outputs": [
        {
          "output_type": "stream",
          "name": "stdout",
          "text": [
            "+---------+-----+-------+------+----------+-----------+\n",
            "|   Budget|Genre|MovieID|Rating|   Revenue|      Title|\n",
            "+---------+-----+-------+------+----------+-----------+\n",
            "|145000000|Drama|      8|   7.5|1456000000|     Barbie|\n",
            "|100000000|Drama|      9|   8.6| 950000000|Oppenheimer|\n",
            "+---------+-----+-------+------+----------+-----------+\n",
            "\n"
          ]
        }
      ]
    },
    {
      "cell_type": "code",
      "source": [
        "# Select matching columns\n",
        "\n",
        "df = df.toDF(*[col.strip() for col in df.columns])\n",
        "df_bonus = df_bonus.toDF(*[col.strip() for col in df_bonus.columns])\n",
        "\n",
        "common_cols = [\"MovieID\", \"Title\", \"Genre\", \"Rating\", \"Revenue\"]\n",
        "df_main = df.select(common_cols)\n",
        "df_bonus = df_bonus.select(common_cols)\n",
        "\n",
        "# Union\n",
        "df_merged = df_main.unionByName(df_bonus)\n",
        "df_merged.show()"
      ],
      "metadata": {
        "colab": {
          "base_uri": "https://localhost:8080/"
        },
        "id": "nkmRxYx6OETD",
        "outputId": "745125a3-ae1e-4a7a-c5d4-ea6b02b028b9"
      },
      "execution_count": 28,
      "outputs": [
        {
          "output_type": "stream",
          "name": "stdout",
          "text": [
            "+-------+-----------------+-------+------+----------+\n",
            "|MovieID|            Title|  Genre|Rating|   Revenue|\n",
            "+-------+-----------------+-------+------+----------+\n",
            "|      1|        Inception| Sci-Fi|   8.8| 825532764|\n",
            "|      2|  The Dark Knight| Action|   9.0|1004558444|\n",
            "|      3|          Titanic|Romance|   7.8|2187463944|\n",
            "|      4|     Interstellar| Sci-Fi|   8.6| 677471339|\n",
            "|      5|            Joker|  Drama|   8.4|1074251311|\n",
            "|      6|     The Notebook|Romance|   7.9|1427846394|\n",
            "|      7|Avengers: Endgame| Action|   8.4|2797800564|\n",
            "|      8|           Barbie|  Drama|   7.5|1456000000|\n",
            "|      9|      Oppenheimer|  Drama|   8.6| 950000000|\n",
            "+-------+-----------------+-------+------+----------+\n",
            "\n"
          ]
        }
      ]
    },
    {
      "cell_type": "code",
      "source": [
        "# Show top 5 highest grossing movies.\n",
        "df_merged.orderBy(\"Revenue\", ascending = False).show()"
      ],
      "metadata": {
        "colab": {
          "base_uri": "https://localhost:8080/"
        },
        "id": "w_tYfYFt6bcd",
        "outputId": "e7d7c1f6-6edb-4e51-e75c-031db3fe7eb0"
      },
      "execution_count": 30,
      "outputs": [
        {
          "output_type": "stream",
          "name": "stdout",
          "text": [
            "+-------+-----------------+-------+------+----------+\n",
            "|MovieID|            Title|  Genre|Rating|   Revenue|\n",
            "+-------+-----------------+-------+------+----------+\n",
            "|      7|Avengers: Endgame| Action|   8.4|2797800564|\n",
            "|      3|          Titanic|Romance|   7.8|2187463944|\n",
            "|      8|           Barbie|  Drama|   7.5|1456000000|\n",
            "|      6|     The Notebook|Romance|   7.9|1427846394|\n",
            "|      5|            Joker|  Drama|   8.4|1074251311|\n",
            "|      2|  The Dark Knight| Action|   9.0|1004558444|\n",
            "|      9|      Oppenheimer|  Drama|   8.6| 950000000|\n",
            "|      1|        Inception| Sci-Fi|   8.8| 825532764|\n",
            "|      4|     Interstellar| Sci-Fi|   8.6| 677471339|\n",
            "+-------+-----------------+-------+------+----------+\n",
            "\n"
          ]
        }
      ]
    },
    {
      "cell_type": "code",
      "source": [
        "# Save final merged DataFrame as CSV.\n",
        "df_merged.write.mode(\"overwrite\").option(\"header\", True).csv(\"merged_output\")"
      ],
      "metadata": {
        "id": "IthzDutW7ylg"
      },
      "execution_count": 32,
      "outputs": []
    },
    {
      "cell_type": "code",
      "source": [],
      "metadata": {
        "id": "loPU-uAe8Xx6"
      },
      "execution_count": null,
      "outputs": []
    }
  ]
}