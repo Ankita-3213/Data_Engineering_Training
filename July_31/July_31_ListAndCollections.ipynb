{
  "nbformat": 4,
  "nbformat_minor": 0,
  "metadata": {
    "colab": {
      "provenance": []
    },
    "kernelspec": {
      "name": "python3",
      "display_name": "Python 3"
    },
    "language_info": {
      "name": "python"
    }
  },
  "cells": [
    {
      "cell_type": "code",
      "execution_count": null,
      "metadata": {
        "colab": {
          "base_uri": "https://localhost:8080/"
        },
        "id": "Pq4cXXTMzlU5",
        "outputId": "9bfb2648-39b1-484e-8de5-a6845727bb14"
      },
      "outputs": [
        {
          "output_type": "stream",
          "name": "stdout",
          "text": [
            "[0, 4, 16, 36, 64]\n"
          ]
        }
      ],
      "source": [
        "# list comprhension\n",
        "squares = []\n",
        "for x in range(10):\n",
        "  if x % 2 == 0:\n",
        "    squares.append(x**2)\n",
        "\n",
        "print(squares)"
      ]
    },
    {
      "cell_type": "code",
      "source": [
        "# Alternative short approach known as list comprehension\n",
        "# list = [(appendvalue)operation loop condition]\n",
        "sq = [x**2 for x in range(10) if x % 2 == 0]\n",
        "print(sq)"
      ],
      "metadata": {
        "colab": {
          "base_uri": "https://localhost:8080/"
        },
        "id": "7fX_zwd-0Az2",
        "outputId": "5c84af26-6303-4890-e40f-9689396c4eaa"
      },
      "execution_count": null,
      "outputs": [
        {
          "output_type": "stream",
          "name": "stdout",
          "text": [
            "[0, 4, 16, 36, 64]\n"
          ]
        }
      ]
    },
    {
      "cell_type": "markdown",
      "source": [
        "### Section 1: Nested Lists & Access"
      ],
      "metadata": {
        "id": "Z0L3i_De9W9W"
      }
    },
    {
      "cell_type": "code",
      "source": [
        "students = [\n",
        "[\"Ravi\", [85, 72, 90]],\n",
        "[\"Sneha\", [95, 88, 92]],\n",
        "[\"Kabir\", [65, 70, 60]],\n",
        "[\"Anita\", [75, 80, 78]]\n",
        "]\n"
      ],
      "metadata": {
        "id": "7p3gjDUa0beq"
      },
      "execution_count": 1,
      "outputs": []
    },
    {
      "cell_type": "code",
      "source": [
        "# Print Ravi’s second mark\n",
        "print(\"Ravi's second mark: \", students[0][1][1])"
      ],
      "metadata": {
        "colab": {
          "base_uri": "https://localhost:8080/"
        },
        "id": "MFtr1ps3CqSG",
        "outputId": "fc17014f-d64a-4119-a8ec-aa369d599129"
      },
      "execution_count": 2,
      "outputs": [
        {
          "output_type": "stream",
          "name": "stdout",
          "text": [
            "Ravi's second mark:  72\n"
          ]
        }
      ]
    },
    {
      "cell_type": "code",
      "source": [
        "# Calculate average mark for each student\n",
        "for student in students:\n",
        "    name = student[0]\n",
        "    marks = student[1]\n",
        "    avg = sum(marks) / len(marks)\n",
        "    print(f\"{name}'s average mark: {avg:.2f}\")"
      ],
      "metadata": {
        "colab": {
          "base_uri": "https://localhost:8080/"
        },
        "id": "SVEko4g4C8tN",
        "outputId": "422da09c-5609-4a8f-d243-ba30fe0fcd13"
      },
      "execution_count": 3,
      "outputs": [
        {
          "output_type": "stream",
          "name": "stdout",
          "text": [
            "Ravi's average mark: 82.33\n",
            "Sneha's average mark: 91.67\n",
            "Kabir's average mark: 65.00\n",
            "Anita's average mark: 77.67\n"
          ]
        }
      ]
    },
    {
      "cell_type": "code",
      "source": [
        "# Print names of students who scored above 80 in all subjects\n",
        "print(\"Students who scored above 80 in all subjects:\")\n",
        "for student in students:\n",
        "    name, marks = student\n",
        "    if all(mark > 80 for mark in marks):\n",
        "        print(name)\n"
      ],
      "metadata": {
        "colab": {
          "base_uri": "https://localhost:8080/"
        },
        "id": "-mraOrLTDDUV",
        "outputId": "38331d42-7fd5-4fcb-86a6-a296b450b9b5"
      },
      "execution_count": 4,
      "outputs": [
        {
          "output_type": "stream",
          "name": "stdout",
          "text": [
            "Students who scored above 80 in all subjects:\n",
            "Sneha\n"
          ]
        }
      ]
    },
    {
      "cell_type": "code",
      "source": [
        "# Create a new list of [name, average]\n",
        "average_list = []\n",
        "\n",
        "for student in students:\n",
        "    name = student[0]\n",
        "    marks = student[1]\n",
        "    avg = sum(marks) / len(marks)\n",
        "    average_list.append([name, avg])\n",
        "\n",
        "print(\"List of [name, average]:\")\n",
        "print(average_list)\n"
      ],
      "metadata": {
        "colab": {
          "base_uri": "https://localhost:8080/"
        },
        "id": "uTPkobmQDNXH",
        "outputId": "a7795237-e022-47cc-cd2a-4291a2576b41"
      },
      "execution_count": 5,
      "outputs": [
        {
          "output_type": "stream",
          "name": "stdout",
          "text": [
            "List of [name, average]:\n",
            "[['Ravi', 82.33333333333333], ['Sneha', 91.66666666666667], ['Kabir', 65.0], ['Anita', 77.66666666666667]]\n"
          ]
        }
      ]
    },
    {
      "cell_type": "markdown",
      "source": [
        "### Section 2: Dictionary of Lists\n"
      ],
      "metadata": {
        "id": "jlXd3DwYDXs_"
      }
    },
    {
      "cell_type": "code",
      "source": [
        " data = {\n",
        "\"products\": [\"Mobile\", \"Laptop\", \"Tablet\", \"Camera\"],\n",
        "\"prices\": [12000, 55000, 18000, 25000],\n",
        "\"ratings\": [4.5, 4.7, 4.0, 4.2]\n",
        "}"
      ],
      "metadata": {
        "id": "4yosFPEUDTq3"
      },
      "execution_count": 6,
      "outputs": []
    },
    {
      "cell_type": "code",
      "source": [
        "# Create a list of dictionaries for each product\n",
        "product_list =[]\n",
        "for name, price, rating in zip(data[\"products\"], data[\"prices\"], data[\"ratings\"]):\n",
        "    product_list.append({'name': name, 'price': price, 'rating': rating})\n",
        "\n",
        "# Display the result\n",
        "for product in product_list:\n",
        "    print(product)"
      ],
      "metadata": {
        "colab": {
          "base_uri": "https://localhost:8080/"
        },
        "id": "8gtz5ERZDhcV",
        "outputId": "c9033281-55a3-4362-810c-4fb28dd33117"
      },
      "execution_count": 7,
      "outputs": [
        {
          "output_type": "stream",
          "name": "stdout",
          "text": [
            "{'name': 'Mobile', 'price': 12000, 'rating': 4.5}\n",
            "{'name': 'Laptop', 'price': 55000, 'rating': 4.7}\n",
            "{'name': 'Tablet', 'price': 18000, 'rating': 4.0}\n",
            "{'name': 'Camera', 'price': 25000, 'rating': 4.2}\n"
          ]
        }
      ]
    },
    {
      "cell_type": "code",
      "source": [
        "# Filter and print products with price > 20,000 and rating >= 4.5\n",
        "filtered = [product for product in product_list if product[\"price\"] > 20000 and product[\"rating\"] >= 4.5]\n",
        "for product in filtered:\n",
        "  print(product)"
      ],
      "metadata": {
        "colab": {
          "base_uri": "https://localhost:8080/"
        },
        "id": "2aDeth27EFQw",
        "outputId": "f1032dcc-7efa-44f5-b4c4-09514588ad05"
      },
      "execution_count": 8,
      "outputs": [
        {
          "output_type": "stream",
          "name": "stdout",
          "text": [
            "{'name': 'Laptop', 'price': 55000, 'rating': 4.7}\n"
          ]
        }
      ]
    },
    {
      "cell_type": "code",
      "source": [
        "# Sort the product list by rating (descending)\n",
        "sorted_products =sorted(product_list, key=lambda x: x['rating'], reverse=True)\n",
        "for product in sorted_products:\n",
        "  print(product)"
      ],
      "metadata": {
        "colab": {
          "base_uri": "https://localhost:8080/"
        },
        "id": "lZNnZPhPEpRw",
        "outputId": "9126cc1b-a470-495f-a041-1864e932237a"
      },
      "execution_count": 10,
      "outputs": [
        {
          "output_type": "stream",
          "name": "stdout",
          "text": [
            "{'name': 'Laptop', 'price': 55000, 'rating': 4.7}\n",
            "{'name': 'Mobile', 'price': 12000, 'rating': 4.5}\n",
            "{'name': 'Camera', 'price': 25000, 'rating': 4.2}\n",
            "{'name': 'Tablet', 'price': 18000, 'rating': 4.0}\n"
          ]
        }
      ]
    },
    {
      "cell_type": "markdown",
      "source": [
        "### Section 3: Frequency Dictionary + Set Operations\n"
      ],
      "metadata": {
        "id": "ZA2-V5CkFZKH"
      }
    },
    {
      "cell_type": "code",
      "source": [
        "text = \"ai is the future and ai will change everything in the ai world\""
      ],
      "metadata": {
        "id": "J-q4_qqkFSzo"
      },
      "execution_count": 11,
      "outputs": []
    },
    {
      "cell_type": "code",
      "source": [
        "# Count frequency of each word using a dictionary\n",
        "words = text.split()\n",
        "\n",
        "word_freq = {}\n",
        "\n",
        "for word in words:\n",
        "  word_freq[word] = word_freq.get(word, 0) + 1\n",
        "\n",
        "print(word_freq)"
      ],
      "metadata": {
        "colab": {
          "base_uri": "https://localhost:8080/"
        },
        "id": "fPMrAitVFlgx",
        "outputId": "36b3f6cc-50fd-4454-9e97-ead2727e6b59"
      },
      "execution_count": 12,
      "outputs": [
        {
          "output_type": "stream",
          "name": "stdout",
          "text": [
            "{'ai': 3, 'is': 1, 'the': 2, 'future': 1, 'and': 1, 'will': 1, 'change': 1, 'everything': 1, 'in': 1, 'world': 1}\n"
          ]
        }
      ]
    },
    {
      "cell_type": "code",
      "source": [
        "# Print only the words that appear more than once\n",
        "for word,freq in word_freq.items():\n",
        "  if freq > 1:\n",
        "    print(f\"{word}: {freq}\")"
      ],
      "metadata": {
        "colab": {
          "base_uri": "https://localhost:8080/"
        },
        "id": "pimmuq7VGIaj",
        "outputId": "7cb26ba9-2b3d-422e-b51d-b2f25259a58b"
      },
      "execution_count": 13,
      "outputs": [
        {
          "output_type": "stream",
          "name": "stdout",
          "text": [
            "ai: 3\n",
            "the: 2\n"
          ]
        }
      ]
    },
    {
      "cell_type": "code",
      "source": [
        "# Convert words into a set and print sorted unique words\n",
        "unique_words = set(words)\n",
        "sorted_words = sorted(unique_words)\n",
        "print(sorted_words)"
      ],
      "metadata": {
        "colab": {
          "base_uri": "https://localhost:8080/"
        },
        "id": "JSoOOKjkG7KP",
        "outputId": "3a08c08f-c7d9-40bb-812a-c8db3d2f0620"
      },
      "execution_count": 14,
      "outputs": [
        {
          "output_type": "stream",
          "name": "stdout",
          "text": [
            "['ai', 'and', 'change', 'everything', 'future', 'in', 'is', 'the', 'will', 'world']\n"
          ]
        }
      ]
    },
    {
      "cell_type": "code",
      "source": [
        "# Common words\n",
        "set1 = set(text.split())\n",
        "set2 = {'ai', 'ml', 'data', 'future'}\n",
        "\n",
        "common_words = set1 & set2\n",
        "print(common_words)"
      ],
      "metadata": {
        "colab": {
          "base_uri": "https://localhost:8080/"
        },
        "id": "66TtLTP-HN7j",
        "outputId": "a9b480b5-58c4-46be-f647-5c4e22622b68"
      },
      "execution_count": 16,
      "outputs": [
        {
          "output_type": "stream",
          "name": "stdout",
          "text": [
            "{'ai', 'future'}\n"
          ]
        }
      ]
    },
    {
      "cell_type": "markdown",
      "source": [
        "### Section 4: Dictionary Comprehension + Conditional Logic"
      ],
      "metadata": {
        "id": "LgRwU1OcHx9E"
      }
    },
    {
      "cell_type": "code",
      "source": [
        " sales = {\n",
        "'Amit': 70000,\n",
        "'Sneha': 45000,\n",
        "'Ravi': 30000,\n",
        "'Anita': 90000,\n",
        "'Kabir': 20000\n",
        "}"
      ],
      "metadata": {
        "id": "078f9CeYHnse"
      },
      "execution_count": 17,
      "outputs": []
    },
    {
      "cell_type": "code",
      "source": [
        "# Create a new dictionary with 10% bonus added to each sale\n",
        "sales_bonus = {name: round(amount * 1.10) for name, amount in sales.items()}\n",
        "print(sales_bonus)"
      ],
      "metadata": {
        "colab": {
          "base_uri": "https://localhost:8080/"
        },
        "id": "O16JhPwvIJut",
        "outputId": "da593df4-b766-4210-c53b-e739a7ac54d6"
      },
      "execution_count": 18,
      "outputs": [
        {
          "output_type": "stream",
          "name": "stdout",
          "text": [
            "{'Amit': 77000, 'Sneha': 49500, 'Ravi': 33000, 'Anita': 99000, 'Kabir': 22000}\n"
          ]
        }
      ]
    },
    {
      "cell_type": "code",
      "source": [
        "#Filter and return only those with sales > 50000\n",
        "high_sales ={name: amount for name, amount in sales.items() if amount > 50000}\n",
        "print(high_sales)"
      ],
      "metadata": {
        "colab": {
          "base_uri": "https://localhost:8080/"
        },
        "id": "TZQYJeBwIhv2",
        "outputId": "20ae2968-2841-497c-a2d1-94c2c48c31e9"
      },
      "execution_count": 20,
      "outputs": [
        {
          "output_type": "stream",
          "name": "stdout",
          "text": [
            "{'Amit': 70000, 'Anita': 90000}\n"
          ]
        }
      ]
    },
    {
      "cell_type": "code",
      "source": [
        "# Labelling\n",
        "labels ={}\n",
        "\n",
        "for name, amount in sales.items():\n",
        "  if amount >= 75000:\n",
        "    labels[name] = \"High\"\n",
        "  elif amount >= 40000:\n",
        "    labels[name] = \"Medium\"\n",
        "  else:\n",
        "    labels[name] = \"Low\"\n",
        "\n",
        "print(labels)"
      ],
      "metadata": {
        "colab": {
          "base_uri": "https://localhost:8080/"
        },
        "id": "_LtoRfSNIyOz",
        "outputId": "81d56991-6985-464c-813c-f53c1ad258da"
      },
      "execution_count": 21,
      "outputs": [
        {
          "output_type": "stream",
          "name": "stdout",
          "text": [
            "{'Amit': 'Medium', 'Sneha': 'Medium', 'Ravi': 'Low', 'Anita': 'High', 'Kabir': 'Low'}\n"
          ]
        }
      ]
    },
    {
      "cell_type": "markdown",
      "source": [
        "### Section 5: Tuples, Sets and Zipping"
      ],
      "metadata": {
        "id": "mi1hiiD0JlKb"
      }
    },
    {
      "cell_type": "code",
      "source": [
        "names = (\"Ravi\", \"Sneha\", \"Kabir\")\n",
        "marks = (88, 92, 76)\n"
      ],
      "metadata": {
        "id": "BHTG003hJYzY"
      },
      "execution_count": 22,
      "outputs": []
    },
    {
      "cell_type": "code",
      "source": [
        "# Convert both tuples to a dictionary using zip()\n",
        "marks_dict = dict(zip(names, marks))\n",
        "print(marks_dict)"
      ],
      "metadata": {
        "colab": {
          "base_uri": "https://localhost:8080/"
        },
        "id": "cAiBdje5NdWv",
        "outputId": "6f4595bf-4d85-40b0-8c61-f040f6fed256"
      },
      "execution_count": 24,
      "outputs": [
        {
          "output_type": "stream",
          "name": "stdout",
          "text": [
            "{'Ravi': 88, 'Sneha': 92, 'Kabir': 76}\n"
          ]
        }
      ]
    },
    {
      "cell_type": "code",
      "source": [
        "# Find min and max marks\n",
        "min_mark = min(marks)\n",
        "max_mark = max(marks)\n",
        "print(\"Minimum marks: \",min_mark)\n",
        "print(\"Maximum marks: \",max_mark)"
      ],
      "metadata": {
        "colab": {
          "base_uri": "https://localhost:8080/"
        },
        "id": "eqCZsyC6NgTa",
        "outputId": "019697e0-a8f5-4ca6-b20e-d2c88ba653c7"
      },
      "execution_count": 25,
      "outputs": [
        {
          "output_type": "stream",
          "name": "stdout",
          "text": [
            "Minimum marks:  76\n",
            "Maximum marks:  92\n"
          ]
        }
      ]
    },
    {
      "cell_type": "code",
      "source": [
        "# Create a set from marks and add a new value\n",
        "marks_set = set(marks)\n",
        "marks_set.add(85)\n",
        "print(marks_set)"
      ],
      "metadata": {
        "colab": {
          "base_uri": "https://localhost:8080/"
        },
        "id": "uSR_5N2QN47a",
        "outputId": "5b10f2d6-8c60-4181-f41a-f7d1f58d38d5"
      },
      "execution_count": 26,
      "outputs": [
        {
          "output_type": "stream",
          "name": "stdout",
          "text": [
            "{88, 92, 85, 76}\n"
          ]
        }
      ]
    },
    {
      "cell_type": "code",
      "source": [
        "# Merge two sets and show only unique elements\n",
        "extra_marks = {92, 70, 85}\n",
        "merged_set = marks_set.union(extra_marks)\n",
        "print(merged_set)"
      ],
      "metadata": {
        "colab": {
          "base_uri": "https://localhost:8080/"
        },
        "id": "WxC3HHQnOCHW",
        "outputId": "d54cb715-baf5-41cc-8da3-fab0e69b43ee"
      },
      "execution_count": 27,
      "outputs": [
        {
          "output_type": "stream",
          "name": "stdout",
          "text": [
            "{85, 70, 88, 92, 76}\n"
          ]
        }
      ]
    },
    {
      "cell_type": "markdown",
      "source": [
        "### Bonus"
      ],
      "metadata": {
        "id": "jHa5nwKvOnqp"
      }
    },
    {
      "cell_type": "code",
      "source": [
        " employees = {\n",
        "\"E101\": {\"name\": \"Ravi\", \"dept\": \"Sales\", \"salary\": 50000},\n",
        "\"E102\": {\"name\": \"Sneha\", \"dept\": \"Engineering\", \"salary\": 80000},\n",
        "\"E103\": {\"name\": \"Kabir\", \"dept\": \"HR\", \"salary\": 45000}\n",
        "}"
      ],
      "metadata": {
        "id": "cjUX8CxSOO8Q"
      },
      "execution_count": 28,
      "outputs": []
    },
    {
      "cell_type": "code",
      "source": [
        "# Add a new employee \"E104\"\n",
        "employees[\"E104\"] = {\"name\": \"Anita\", \"dept\": \"Engineering\", \"salary\": 90000}\n",
        "print(employees)"
      ],
      "metadata": {
        "colab": {
          "base_uri": "https://localhost:8080/"
        },
        "id": "xd2Pa_EGO7SU",
        "outputId": "edd5ca73-b614-474c-81bf-0ac4560e3e6d"
      },
      "execution_count": 29,
      "outputs": [
        {
          "output_type": "stream",
          "name": "stdout",
          "text": [
            "{'E101': {'name': 'Ravi', 'dept': 'Sales', 'salary': 50000}, 'E102': {'name': 'Sneha', 'dept': 'Engineering', 'salary': 80000}, 'E103': {'name': 'Kabir', 'dept': 'HR', 'salary': 45000}, 'E104': {'name': 'Anita', 'dept': 'Engineering', 'salary': 90000}}\n"
          ]
        }
      ]
    },
    {
      "cell_type": "code",
      "source": [
        "# Increase salary by 10% for Engineering department only\n",
        "for emp in employees.values():\n",
        "    if emp[\"dept\"] == \"Engineering\":\n",
        "        emp[\"salary\"] *= 1.10\n"
      ],
      "metadata": {
        "id": "9NDA1aYIPKLw"
      },
      "execution_count": 31,
      "outputs": []
    },
    {
      "cell_type": "code",
      "source": [
        "# Find the department with the highest average salary\n",
        "from collections import defaultdict\n",
        "\n",
        "dept_salaries = defaultdict(list)\n",
        "\n",
        "for emp in employees.values():\n",
        "    dept_salaries[emp[\"dept\"]].append(emp[\"salary\"])\n",
        "\n",
        "avg_salaries = {dept: sum(sals)/len(sals) for dept, sals in dept_salaries.items()}\n",
        "highest_avg_dept = max(avg_salaries, key=avg_salaries.get)\n",
        "\n",
        "print(\"Average salaires by Dept:\\n\", avg_salaries)\n"
      ],
      "metadata": {
        "colab": {
          "base_uri": "https://localhost:8080/"
        },
        "id": "Gmgklxe-PgL0",
        "outputId": "62836853-a764-4b04-c905-4ca933dce6d6"
      },
      "execution_count": 32,
      "outputs": [
        {
          "output_type": "stream",
          "name": "stdout",
          "text": [
            "Average salaires by Dept:\n",
            " {'Sales': 50000.0, 'Engineering': 102850.00000000003, 'HR': 45000.0}\n"
          ]
        }
      ]
    },
    {
      "cell_type": "code",
      "source": [],
      "metadata": {
        "id": "Ok74NPwqQA5_"
      },
      "execution_count": null,
      "outputs": []
    }
  ]
}