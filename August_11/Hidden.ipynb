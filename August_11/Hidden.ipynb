{
  "nbformat": 4,
  "nbformat_minor": 0,
  "metadata": {
    "colab": {
      "provenance": []
    },
    "kernelspec": {
      "name": "python3",
      "display_name": "Python 3"
    },
    "language_info": {
      "name": "python"
    }
  },
  "cells": [
    {
      "cell_type": "code",
      "execution_count": 1,
      "metadata": {
        "colab": {
          "base_uri": "https://localhost:8080/"
        },
        "id": "jblDzMgx7A2G",
        "outputId": "3eb8c262-04fe-4cfc-e6d0-14fda81e6a06"
      },
      "outputs": [
        {
          "output_type": "stream",
          "name": "stdout",
          "text": [
            "Running from other notebook!\n",
            "x + y = 20\n"
          ]
        }
      ],
      "source": [
        "print(\"Running from other notebook!\")\n",
        "x = 5\n",
        "y = 15\n",
        "print(f\"x + y = {x + y}\")\n"
      ]
    },
    {
      "cell_type": "code",
      "source": [],
      "metadata": {
        "id": "4TbctxcR8GLm"
      },
      "execution_count": null,
      "outputs": []
    }
  ]
}